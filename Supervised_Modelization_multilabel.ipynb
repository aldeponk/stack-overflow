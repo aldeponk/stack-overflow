{
 "cells": [
  {
   "cell_type": "code",
   "execution_count": 1,
   "metadata": {},
   "outputs": [],
   "source": [
    "import pandas as pd\n",
    "from collections import Counter\n",
    "import numpy as np \n",
    "import string\n",
    "import re\n",
    "from sklearn.model_selection import train_test_split\n",
    "from __future__ import print_function\n",
    "from time import time\n",
    "import matplotlib.pyplot as plt\n",
    "from matplotlib.pyplot import figure\n",
    "\n",
    "from sklearn.feature_extraction.text import TfidfVectorizer\n",
    "from sklearn.feature_extraction.text import HashingVectorizer\n",
    "from sklearn.feature_selection import SelectFromModel\n",
    "from sklearn.feature_selection import SelectKBest, chi2\n",
    "from sklearn.linear_model import RidgeClassifier\n",
    "from sklearn.pipeline import Pipeline\n",
    "from sklearn.svm import LinearSVC\n",
    "from sklearn.linear_model import SGDClassifier\n",
    "from sklearn.linear_model import Perceptron\n",
    "from sklearn.linear_model import PassiveAggressiveClassifier\n",
    "from sklearn.naive_bayes import BernoulliNB, MultinomialNB\n",
    "from sklearn.neighbors import NearestCentroid\n",
    "from xgboost import XGBClassifier\n",
    "from sklearn.utils.extmath import density\n",
    "from sklearn import metrics\n",
    "import collections\n",
    "from sklearn.metrics import plot_confusion_matrix\n",
    "from sklearn.model_selection import RepeatedKFold\n",
    "from sklearn.model_selection import StratifiedKFold\n",
    "from sklearn.model_selection import RandomizedSearchCV, GridSearchCV\n",
    "from sklearn.pipeline import Pipeline\n",
    "from sklearn.metrics import accuracy_score\n",
    "\n",
    "\n",
    "import nltk\n",
    "import nltk.data\n",
    "from nltk.tag import pos_tag\n",
    "from nltk.tokenize import word_tokenize\n",
    "from nltk.stem.wordnet import WordNetLemmatizer\n",
    "from nltk.stem import WordNetLemmatizer, SnowballStemmer\n",
    "from nltk.stem.snowball import EnglishStemmer\n",
    "from nltk.stem.porter import *\n",
    "from nltk.corpus import stopwords\n",
    "from nltk.tokenize import word_tokenize \n",
    "\n",
    "import gensim\n",
    "from gensim import corpora, models\n",
    "from pprint import pprint\n",
    "from gensim.utils import simple_preprocess\n",
    "from gensim.models import CoherenceModel\n",
    "\n",
    "import pickle\n",
    "\n",
    "\n",
    "from sklearn.preprocessing import MultiLabelBinarizer\n",
    "from sklearn.neighbors import KNeighborsClassifier\n",
    "from sklearn.multiclass import OneVsRestClassifier\n",
    "from sklearn.tree import DecisionTreeClassifier\n",
    "from sklearn.ensemble import RandomForestClassifier\n",
    "from sklearn.ensemble import BaggingClassifier\n",
    "from sklearn.ensemble import GradientBoostingClassifier\n",
    "from sklearn.naive_bayes import MultinomialNB\n",
    "from sklearn.svm import LinearSVC\n",
    "\n",
    "from sklearn.metrics import accuracy_score, precision_score, recall_score, f1_score, confusion_matrix, hamming_loss"
   ]
  },
  {
   "cell_type": "code",
   "execution_count": 2,
   "metadata": {},
   "outputs": [],
   "source": [
    "total = pd.read_csv('./dataset/preprocessed_dataset.csv',sep=\",\")"
   ]
  },
  {
   "cell_type": "code",
   "execution_count": 3,
   "metadata": {},
   "outputs": [
    {
     "data": {
      "text/plain": [
       "(9342, 2)"
      ]
     },
     "execution_count": 3,
     "metadata": {},
     "output_type": "execute_result"
    }
   ],
   "source": [
    "total.shape"
   ]
  },
  {
   "cell_type": "code",
   "execution_count": 4,
   "metadata": {},
   "outputs": [
    {
     "data": {
      "text/html": [
       "<div>\n",
       "<style scoped>\n",
       "    .dataframe tbody tr th:only-of-type {\n",
       "        vertical-align: middle;\n",
       "    }\n",
       "\n",
       "    .dataframe tbody tr th {\n",
       "        vertical-align: top;\n",
       "    }\n",
       "\n",
       "    .dataframe thead th {\n",
       "        text-align: right;\n",
       "    }\n",
       "</style>\n",
       "<table border=\"1\" class=\"dataframe\">\n",
       "  <thead>\n",
       "    <tr style=\"text-align: right;\">\n",
       "      <th></th>\n",
       "      <th>body</th>\n",
       "      <th>tags</th>\n",
       "    </tr>\n",
       "  </thead>\n",
       "  <tbody>\n",
       "    <tr>\n",
       "      <th>0</th>\n",
       "      <td>write daemon run emb platform need chang defau...</td>\n",
       "      <td>c,linux,networking</td>\n",
       "    </tr>\n",
       "    <tr>\n",
       "      <th>1</th>\n",
       "      <td>use gdi+ c++ two problem find canvasimg black ...</td>\n",
       "      <td>canvas,gdi+</td>\n",
       "    </tr>\n",
       "    <tr>\n",
       "      <th>2</th>\n",
       "      <td>write program need determin bit set know rotat...</td>\n",
       "      <td>assembly,bit-manipulation,mips</td>\n",
       "    </tr>\n",
       "    <tr>\n",
       "      <th>3</th>\n",
       "      <td>consol applic server accept sever connect clie...</td>\n",
       "      <td>java,events,listener</td>\n",
       "    </tr>\n",
       "    <tr>\n",
       "      <th>4</th>\n",
       "      <td>attempt provid script solut read content file ...</td>\n",
       "      <td>javascript,html,file-io,sandbox</td>\n",
       "    </tr>\n",
       "  </tbody>\n",
       "</table>\n",
       "</div>"
      ],
      "text/plain": [
       "                                                body  \\\n",
       "0  write daemon run emb platform need chang defau...   \n",
       "1  use gdi+ c++ two problem find canvasimg black ...   \n",
       "2  write program need determin bit set know rotat...   \n",
       "3  consol applic server accept sever connect clie...   \n",
       "4  attempt provid script solut read content file ...   \n",
       "\n",
       "                              tags  \n",
       "0               c,linux,networking  \n",
       "1                      canvas,gdi+  \n",
       "2   assembly,bit-manipulation,mips  \n",
       "3             java,events,listener  \n",
       "4  javascript,html,file-io,sandbox  "
      ]
     },
     "execution_count": 4,
     "metadata": {},
     "output_type": "execute_result"
    }
   ],
   "source": [
    "total.head()"
   ]
  },
  {
   "cell_type": "code",
   "execution_count": 5,
   "metadata": {},
   "outputs": [
    {
     "name": "stdout",
     "output_type": "stream",
     "text": [
      "[('c#', 70), ('asp.net-mvc', 53), ('python', 40), ('iphone', 34), ('asp.net', 32), ('javascript,jquery', 31), ('jquery', 29), ('javascript', 29), ('c#,.net', 28), ('php', 26), ('sql-server', 23), ('java', 23), ('c++', 19), ('c#,asp.net', 18), ('ruby-on-rails', 18), ('iphone,cocoa-touch', 17), ('mysql', 17), ('html,css', 16), ('vb.net', 16), ('sql', 15)]\n"
     ]
    },
    {
     "data": {
      "image/png": "[encoded data removed]",
      "text/plain": [
       "<Figure size 720x432 with 1 Axes>"
      ]
     },
     "metadata": {
      "needs_background": "light"
     },
     "output_type": "display_data"
    }
   ],
   "source": [
    "def plot_tags(tagCount):\n",
    "    \n",
    "    x,y = zip(*tagCount)\n",
    "    colormap = plt.cm.gist_ncar #nipy_spectral, Set1,Paired  \n",
    "    colors = [colormap(i) for i in np.linspace(0, 0.8,50)]\n",
    "    area = [i/10 for i in list(y)]   # 0 to 15 point radiuses\n",
    "    plt.figure(figsize=(10,6))\n",
    "    plt.ylabel(\"Number of question associations\")\n",
    "    for i in range(len(y)):\n",
    "      plt.plot(i,y[i],marker='o',linestyle='',ms=area[i],label=x[i])   \n",
    "    plt.legend(numpoints=1)\n",
    "    plt.show()\n",
    "\n",
    "tagCount =  collections.Counter(list(total['tags'])).most_common(20)\n",
    "print(tagCount)\n",
    "plot_tags(tagCount)"
   ]
  },
  {
   "cell_type": "code",
   "execution_count": 6,
   "metadata": {},
   "outputs": [],
   "source": [
    "total = total[\n",
    "        (total.tags == 'c#') | (total.tags == 'asp.net-mvc') | (total.tags == 'python') | (total.tags =='iphone') | \n",
    "        (total.tags =='asp.net') | (total.tags == 'javascript,jquery') | (total.tags == 'javascript') | (total.tags == 'c#,.net') | \n",
    "        (total.tags == 'php') | (total.tags == 'sql-server') |\n",
    "        (total.tags == 'java') | (total.tags == 'c++') | (total.tags == 'c#,asp.net') | (total.tags =='ruby-on-rails') | \n",
    "        (total.tags == 'iphone,cocoa-touch') | (total.tags == 'mysql') | (total.tags == 'html,css') | (total.tags =='vb.net') | (total.tags =='sql')\n",
    "        ]"
   ]
  },
  {
   "cell_type": "code",
   "execution_count": 7,
   "metadata": {},
   "outputs": [],
   "source": [
    "def tokenize(text):\n",
    "    result = \"\"\n",
    "    #print(type(text))\n",
    "    for token in gensim.utils.simple_preprocess(text):\n",
    "        if token not in gensim.parsing.preprocessing.STOPWORDS:\n",
    "             result = result + ' ' + token\n",
    "    return result\n",
    "\n",
    "processed_body = total['body'].map(tokenize)"
   ]
  },
  {
   "cell_type": "code",
   "execution_count": 8,
   "metadata": {},
   "outputs": [],
   "source": [
    "vectorizer = TfidfVectorizer(max_features=10000, use_idf=True)\n",
    "vectorizer = vectorizer.fit(total['body'])\n",
    "tf_len = len(vectorizer.vocabulary_)\n",
    "X = vectorizer.transform(processed_body).astype('float64')"
   ]
  },
  {
   "cell_type": "markdown",
   "metadata": {},
   "source": [
    "## Multilabel encoding"
   ]
  },
  {
   "cell_type": "code",
   "execution_count": 9,
   "metadata": {},
   "outputs": [],
   "source": [
    "def extract_tag(text_raw, num=0):\n",
    "    list_tags = text_raw.split(',')\n",
    "    try:\n",
    "        return list_tags[num]\n",
    "    except:\n",
    "        return '-'"
   ]
  },
  {
   "cell_type": "code",
   "execution_count": 10,
   "metadata": {},
   "outputs": [
    {
     "data": {
      "text/html": [
       "<div>\n",
       "<style scoped>\n",
       "    .dataframe tbody tr th:only-of-type {\n",
       "        vertical-align: middle;\n",
       "    }\n",
       "\n",
       "    .dataframe tbody tr th {\n",
       "        vertical-align: top;\n",
       "    }\n",
       "\n",
       "    .dataframe thead th {\n",
       "        text-align: right;\n",
       "    }\n",
       "</style>\n",
       "<table border=\"1\" class=\"dataframe\">\n",
       "  <thead>\n",
       "    <tr style=\"text-align: right;\">\n",
       "      <th></th>\n",
       "      <th>body</th>\n",
       "      <th>tags</th>\n",
       "      <th>tag_0</th>\n",
       "      <th>tag_1</th>\n",
       "      <th>tag_2</th>\n",
       "      <th>tag_3</th>\n",
       "      <th>tag_4</th>\n",
       "    </tr>\n",
       "  </thead>\n",
       "  <tbody>\n",
       "    <tr>\n",
       "      <th>15</th>\n",
       "      <td>design websit tabl less problem take long time...</td>\n",
       "      <td>html,css</td>\n",
       "      <td>html</td>\n",
       "      <td>css</td>\n",
       "      <td>-</td>\n",
       "      <td>-</td>\n",
       "      <td>-</td>\n",
       "    </tr>\n",
       "    <tr>\n",
       "      <th>18</th>\n",
       "      <td>untest need write code correct feel like miss ...</td>\n",
       "      <td>c#</td>\n",
       "      <td>c#</td>\n",
       "      <td>-</td>\n",
       "      <td>-</td>\n",
       "      <td>-</td>\n",
       "      <td>-</td>\n",
       "    </tr>\n",
       "    <tr>\n",
       "      <th>33</th>\n",
       "      <td>net object c properti name event event els way...</td>\n",
       "      <td>c#,.net</td>\n",
       "      <td>c#</td>\n",
       "      <td>.net</td>\n",
       "      <td>-</td>\n",
       "      <td>-</td>\n",
       "      <td>-</td>\n",
       "    </tr>\n",
       "    <tr>\n",
       "      <th>53</th>\n",
       "      <td>way check variabl class member standalon speci...</td>\n",
       "      <td>python</td>\n",
       "      <td>python</td>\n",
       "      <td>-</td>\n",
       "      <td>-</td>\n",
       "      <td>-</td>\n",
       "      <td>-</td>\n",
       "    </tr>\n",
       "    <tr>\n",
       "      <th>54</th>\n",
       "      <td>differ sql server authent window authent speci...</td>\n",
       "      <td>sql-server</td>\n",
       "      <td>sql-server</td>\n",
       "      <td>-</td>\n",
       "      <td>-</td>\n",
       "      <td>-</td>\n",
       "      <td>-</td>\n",
       "    </tr>\n",
       "  </tbody>\n",
       "</table>\n",
       "</div>"
      ],
      "text/plain": [
       "                                                 body        tags       tag_0  \\\n",
       "15  design websit tabl less problem take long time...    html,css        html   \n",
       "18  untest need write code correct feel like miss ...          c#          c#   \n",
       "33  net object c properti name event event els way...     c#,.net          c#   \n",
       "53  way check variabl class member standalon speci...      python      python   \n",
       "54  differ sql server authent window authent speci...  sql-server  sql-server   \n",
       "\n",
       "   tag_1 tag_2 tag_3 tag_4  \n",
       "15   css     -     -     -  \n",
       "18     -     -     -     -  \n",
       "33  .net     -     -     -  \n",
       "53     -     -     -     -  \n",
       "54     -     -     -     -  "
      ]
     },
     "execution_count": 10,
     "metadata": {},
     "output_type": "execute_result"
    }
   ],
   "source": [
    "#Eclatement des tags en colonne\n",
    "total[\"tag_0\"] = total.tags.apply(extract_tag)\n",
    "total[\"tag_1\"] = total.tags.apply(extract_tag, args=(1,))\n",
    "total[\"tag_2\"] = total.tags.apply(extract_tag, args=(2,))\n",
    "total[\"tag_3\"] = total.tags.apply(extract_tag, args=(3,))\n",
    "total[\"tag_4\"] = total.tags.apply(extract_tag, args=(4,))\n",
    "total.head()"
   ]
  },
  {
   "cell_type": "code",
   "execution_count": 11,
   "metadata": {},
   "outputs": [],
   "source": [
    "# create list of list of labels\n",
    "labels_list = []\n",
    "for tags in total['tags']:\n",
    "    t = tags.split(',')\n",
    "    m = []\n",
    "    for st in t:\n",
    "        m.append(st)\n",
    "    labels_list.append(m)\n"
   ]
  },
  {
   "cell_type": "code",
   "execution_count": 12,
   "metadata": {},
   "outputs": [],
   "source": [
    "mlb = MultiLabelBinarizer()\n",
    "labels = mlb.fit_transform(labels_list)"
   ]
  },
  {
   "cell_type": "markdown",
   "metadata": {},
   "source": [
    "## Benchmarking MultiLabel Classifiers"
   ]
  },
  {
   "cell_type": "code",
   "execution_count": 13,
   "metadata": {},
   "outputs": [],
   "source": [
    "X_train, X_test, y_train, y_test = train_test_split(X, labels, random_state=42, test_size=0.2, shuffle=True)"
   ]
  },
  {
   "cell_type": "code",
   "execution_count": 14,
   "metadata": {},
   "outputs": [],
   "source": [
    "models_list = []\n",
    "models_name = []\n",
    "preds_list = []"
   ]
  },
  {
   "cell_type": "markdown",
   "metadata": {},
   "source": [
    "### Native multi-label classifiers"
   ]
  },
  {
   "cell_type": "code",
   "execution_count": 15,
   "metadata": {},
   "outputs": [],
   "source": [
    "knnClf = KNeighborsClassifier()\n",
    "knnClf.fit(X_train, y_train)\n",
    "knnPreds = knnClf.predict(X_test)\n",
    "models_name.append('knn')\n",
    "models_list.append(knnClf)\n",
    "preds_list.append(knnPreds)"
   ]
  },
  {
   "cell_type": "code",
   "execution_count": 16,
   "metadata": {},
   "outputs": [],
   "source": [
    "dtClassifier = DecisionTreeClassifier()\n",
    "dtClassifier.fit(X_train, y_train)\n",
    "dtPreds = dtClassifier.predict(X_test)\n",
    "models_name.append('decision tree')\n",
    "models_list.append(dtClassifier)\n",
    "preds_list.append(dtPreds)"
   ]
  },
  {
   "cell_type": "code",
   "execution_count": 17,
   "metadata": {},
   "outputs": [],
   "source": [
    "rfClassifier = RandomForestClassifier(n_jobs=-1)\n",
    "rfClassifier.fit(X_train, y_train)\n",
    "rfPreds = rfClassifier.predict(X_test)\n",
    "models_name.append('random forest')\n",
    "models_list.append(rfClassifier)\n",
    "preds_list.append(rfPreds)"
   ]
  },
  {
   "cell_type": "markdown",
   "metadata": {},
   "source": [
    "### Problem transformation : use binary classifiers to be used in 1 vs rest approach"
   ]
  },
  {
   "cell_type": "code",
   "execution_count": 18,
   "metadata": {},
   "outputs": [],
   "source": [
    "bagClassifier = OneVsRestClassifier(BaggingClassifier(n_jobs=-1))\n",
    "bagClassifier.fit(X_train, y_train)\n",
    "bagPreds = bagClassifier.predict(X_test)\n",
    "models_name.append('bagging classifier')\n",
    "models_list.append(bagClassifier)\n",
    "preds_list.append(bagPreds)"
   ]
  },
  {
   "cell_type": "code",
   "execution_count": 19,
   "metadata": {},
   "outputs": [],
   "source": [
    "boostClassifier = OneVsRestClassifier(GradientBoostingClassifier())\n",
    "boostClassifier.fit(X_train, y_train)\n",
    "boostPreds = boostClassifier.predict(X_test)\n",
    "models_name.append('gradient boosting')\n",
    "models_list.append(boostClassifier)\n",
    "preds_list.append(boostPreds)"
   ]
  },
  {
   "cell_type": "code",
   "execution_count": 20,
   "metadata": {},
   "outputs": [],
   "source": [
    "nbClassifier = OneVsRestClassifier(MultinomialNB())\n",
    "nbClassifier.fit(X_train, y_train)\n",
    "nbPreds = nbClassifier.predict(X_test)\n",
    "models_name.append('multinomial nb')\n",
    "models_list.append(nbClassifier)\n",
    "preds_list.append(nbPreds)"
   ]
  },
  {
   "cell_type": "code",
   "execution_count": 21,
   "metadata": {},
   "outputs": [],
   "source": [
    "svmClassifier = OneVsRestClassifier(LinearSVC(), n_jobs=-1)\n",
    "svmClassifier.fit(X_train, y_train)\n",
    "svmPreds = svmClassifier.predict(X_test)\n",
    "models_name.append('linear svc')\n",
    "models_list.append(svmClassifier)\n",
    "preds_list.append(svmPreds)"
   ]
  },
  {
   "cell_type": "markdown",
   "metadata": {},
   "source": [
    "## Models performance"
   ]
  },
  {
   "cell_type": "code",
   "execution_count": 22,
   "metadata": {},
   "outputs": [],
   "source": [
    "def metricsReport(model_name, test_labels, predictions):\n",
    "    out = []\n",
    "    micro_f1 = f1_score(test_labels, predictions, average='micro')\n",
    "    ham_loss = hamming_loss(test_labels, predictions)\n",
    "    out.append(model_name)\n",
    "    out.append(micro_f1)\n",
    "    out.append(ham_loss)    \n",
    "    \n",
    "    return out"
   ]
  },
  {
   "cell_type": "code",
   "execution_count": 23,
   "metadata": {},
   "outputs": [],
   "source": [
    "metrics = []\n",
    "for i in range(len(models_list)):\n",
    "    \n",
    "    out = metricsReport(models_name[i], y_test, preds_list[i])\n",
    "    \n",
    "    metrics.append(out)\n",
    "df = pd.DataFrame(metrics, columns = ['model', 'f1 score', 'hamming loss'])    "
   ]
  },
  {
   "cell_type": "code",
   "execution_count": 24,
   "metadata": {},
   "outputs": [
    {
     "data": {
      "text/html": [
       "<div>\n",
       "<style scoped>\n",
       "    .dataframe tbody tr th:only-of-type {\n",
       "        vertical-align: middle;\n",
       "    }\n",
       "\n",
       "    .dataframe tbody tr th {\n",
       "        vertical-align: top;\n",
       "    }\n",
       "\n",
       "    .dataframe thead th {\n",
       "        text-align: right;\n",
       "    }\n",
       "</style>\n",
       "<table border=\"1\" class=\"dataframe\">\n",
       "  <thead>\n",
       "    <tr style=\"text-align: right;\">\n",
       "      <th></th>\n",
       "      <th>model</th>\n",
       "      <th>f1 score</th>\n",
       "      <th>hamming loss</th>\n",
       "    </tr>\n",
       "  </thead>\n",
       "  <tbody>\n",
       "    <tr>\n",
       "      <th>0</th>\n",
       "      <td>knn</td>\n",
       "      <td>0.257669</td>\n",
       "      <td>0.060652</td>\n",
       "    </tr>\n",
       "    <tr>\n",
       "      <th>1</th>\n",
       "      <td>decision tree</td>\n",
       "      <td>0.463415</td>\n",
       "      <td>0.066165</td>\n",
       "    </tr>\n",
       "    <tr>\n",
       "      <th>2</th>\n",
       "      <td>random forest</td>\n",
       "      <td>0.180556</td>\n",
       "      <td>0.059148</td>\n",
       "    </tr>\n",
       "    <tr>\n",
       "      <th>3</th>\n",
       "      <td>bagging classifier</td>\n",
       "      <td>0.445714</td>\n",
       "      <td>0.048622</td>\n",
       "    </tr>\n",
       "    <tr>\n",
       "      <th>4</th>\n",
       "      <td>gradient boosting</td>\n",
       "      <td>0.440000</td>\n",
       "      <td>0.056140</td>\n",
       "    </tr>\n",
       "    <tr>\n",
       "      <th>5</th>\n",
       "      <td>multinomial nb</td>\n",
       "      <td>0.000000</td>\n",
       "      <td>0.064160</td>\n",
       "    </tr>\n",
       "    <tr>\n",
       "      <th>6</th>\n",
       "      <td>linear svc</td>\n",
       "      <td>0.231293</td>\n",
       "      <td>0.056642</td>\n",
       "    </tr>\n",
       "  </tbody>\n",
       "</table>\n",
       "</div>"
      ],
      "text/plain": [
       "                model  f1 score  hamming loss\n",
       "0                 knn  0.257669      0.060652\n",
       "1       decision tree  0.463415      0.066165\n",
       "2       random forest  0.180556      0.059148\n",
       "3  bagging classifier  0.445714      0.048622\n",
       "4   gradient boosting  0.440000      0.056140\n",
       "5      multinomial nb  0.000000      0.064160\n",
       "6          linear svc  0.231293      0.056642"
      ]
     },
     "execution_count": 24,
     "metadata": {},
     "output_type": "execute_result"
    }
   ],
   "source": [
    "df"
   ]
  },
  {
   "cell_type": "markdown",
   "metadata": {},
   "source": [
    "Meilleur modèle : bagging classifier\n",
    "\n",
    "    - f1_score = 0.46\n",
    "    - hamming loss = 0.048 (1 - accuracy)"
   ]
  },
  {
   "cell_type": "markdown",
   "metadata": {},
   "source": [
    "### Prediction sur un exemple"
   ]
  },
  {
   "cell_type": "code",
   "execution_count": 25,
   "metadata": {},
   "outputs": [],
   "source": [
    "def myTokenizer(text):\n",
    "    '''\n",
    "    Create tokens from text (English words > 3 letters)\n",
    "    '''\n",
    "    def stem_tokens(tokens, stemmer):\n",
    "        '''\n",
    "        Stem words in tokens.\n",
    "        and suppress word < 3 characters\n",
    "        '''\n",
    "        stemmed = []\n",
    "        for item in tokens:\n",
    "            if re.match('[a-zA-Z0-9]{3,}',item):\n",
    "                stemmed.append(stemmer.stem(item))\n",
    "        return stemmed\n",
    "\n",
    "    tokens = nltk.word_tokenize(text)\n",
    "    stems = stem_tokens(tokens, EnglishStemmer())\n",
    "    return stems"
   ]
  },
  {
   "cell_type": "code",
   "execution_count": 26,
   "metadata": {},
   "outputs": [],
   "source": [
    "def predict(post, vectorizer, model):\n",
    "    pattern = re.compile('[^A-Za-z +]')\n",
    "    intermediate = re.sub(pattern, ' ', post)\n",
    "    intermediate = post.lower()\n",
    "\n",
    "    stop_words = set(stopwords.words('english')) \n",
    "    #print(text)\n",
    "    word_tokens = word_tokenize(intermediate) \n",
    "    filtered_text = ' '.join(w for w in word_tokens if not w in stop_words)\n",
    "\n",
    "    w_tokenizer = nltk.tokenize.WhitespaceTokenizer()\n",
    "    stemmer = EnglishStemmer()\n",
    "    stemmed = myTokenizer(filtered_text)\n",
    "    x_input = vectorizer.transform(stemmed).astype('float64')\n",
    "    tags = model.predict(x_input)\n",
    "    return tags"
   ]
  },
  {
   "cell_type": "code",
   "execution_count": 27,
   "metadata": {},
   "outputs": [],
   "source": [
    "post = \"Hello, I am developing a new application and I need to create a new table in sql-server database. \" \\\n",
    "    \"My application is an HTML form and I submit it through a javascript function. How can I do that ? Thanks !\""
   ]
  },
  {
   "cell_type": "code",
   "execution_count": 28,
   "metadata": {},
   "outputs": [],
   "source": [
    "tags = predict(post,vectorizer,bagClassifier)"
   ]
  },
  {
   "cell_type": "code",
   "execution_count": 29,
   "metadata": {},
   "outputs": [
    {
     "name": "stdout",
     "output_type": "stream",
     "text": [
      "sql-server\n",
      "javascript\n"
     ]
    }
   ],
   "source": [
    "all_labels = mlb.inverse_transform(tags)\n",
    "type(all_labels)\n",
    "for label in all_labels:\n",
    "    s = ''.join(label)\n",
    "    if len(s) != 0:\n",
    "        print(s)"
   ]
  },
  {
   "cell_type": "markdown",
   "metadata": {},
   "source": [
    "### Save model"
   ]
  },
  {
   "cell_type": "code",
   "execution_count": 30,
   "metadata": {},
   "outputs": [],
   "source": [
    "pickle.dump(bagClassifier, open('./models/bagClassifier.obj', 'wb'))"
   ]
  },
  {
   "cell_type": "code",
   "execution_count": 31,
   "metadata": {},
   "outputs": [],
   "source": [
    "pickle.dump(vectorizer, open('./models/vectorizer.obj', 'wb'))"
   ]
  }
 ],
 "metadata": {
  "kernelspec": {
   "display_name": "Python 3",
   "language": "python",
   "name": "python3"
  },
  "language_info": {
   "codemirror_mode": {
    "name": "ipython",
    "version": 3
   },
   "file_extension": ".py",
   "mimetype": "text/x-python",
   "name": "python",
   "nbconvert_exporter": "python",
   "pygments_lexer": "ipython3",
   "version": "3.8.5"
  }
 },
 "nbformat": 4,
 "nbformat_minor": 4
}
