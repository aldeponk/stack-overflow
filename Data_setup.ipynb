{
 "cells": [
  {
   "cell_type": "markdown",
   "metadata": {},
   "source": [
    "# Catégorisez automatiquement des questions\n",
    "\n",
    "projet : https://openclassrooms.com/fr/paths/148/projects/111/assignment\n",
    "        \n",
    "données : https://data.stackexchange.com/stackoverflow/query\n",
    "\n",
    "### Description du projet\n",
    "##### Objectifs\n",
    "- Permettre la prédiction de tags \n",
    "- Exposer une API permettant l'interaction avec les models\n",
    "\n",
    "#### Moyens\n",
    "- ML non supervisé\n",
    "- ML supervisé\n",
    "\n",
    "#### Livrables\n",
    "- Traitement de pre processing \n",
    "- Modèles\n",
    "- Rapport\n",
    "- API dont l'entrypoint est exposé sur le net\n",
    "- Ouvrir le gestionnaire de conf"
   ]
  },
  {
   "cell_type": "markdown",
   "metadata": {},
   "source": [
    "# Imports"
   ]
  },
  {
   "cell_type": "code",
   "execution_count": 1,
   "metadata": {},
   "outputs": [],
   "source": [
    "import pandas as pd\n",
    "pd.options.mode.chained_assignment = None\n",
    "import numpy as np\n",
    "import matplotlib.pyplot as plt\n",
    "import seaborn as sns\n",
    "\n",
    "from datetime import datetime\n",
    "\n",
    "\n",
    "from nltk.corpus import wordnet\n",
    "from nltk.corpus import stopwords\n",
    "import nltk\n",
    "import nltk.data\n",
    "from nltk.tag import pos_tag\n",
    "from nltk.tokenize import word_tokenize\n",
    "from nltk.stem.wordnet import WordNetLemmatizer\n",
    "from nltk.stem import WordNetLemmatizer, SnowballStemmer\n",
    "from nltk.stem.snowball import EnglishStemmer\n",
    "from nltk.stem.porter import *\n",
    "from nltk.corpus import stopwords\n",
    "from nltk.tokenize import word_tokenize \n",
    "import string\n",
    "from langdetect import detect\n",
    "import re\n",
    "import spacy\n",
    "from spacy.symbols import ORTH, NORM\n",
    "from langdetect import detect_langs\n",
    "import langid\n",
    "from bs4 import BeautifulSoup\n",
    "\n",
    "from wordcloud import WordCloud, STOPWORDS\n",
    "\n",
    "import warnings\n",
    "warnings.simplefilter(\"ignore\", UserWarning)\n",
    "warnings.simplefilter(action='ignore', category=pd.errors.PerformanceWarning)\n",
    "\n",
    "pd.set_option('display.max_columns', 200)\n",
    "pd.set_option('display.max_rows', 100)\n",
    "pd.set_option('display.max_colwidth', None)\n"
   ]
  },
  {
   "cell_type": "markdown",
   "metadata": {},
   "source": [
    "# Dataset"
   ]
  },
  {
   "cell_type": "markdown",
   "metadata": {},
   "source": [
    "Le dataset est constitué par aggrégation du résultat de tirs successifs par tranches de 250 000 items (id non continu !) de la requête suivante :"
   ]
  },
  {
   "cell_type": "markdown",
   "metadata": {},
   "source": [
    "\n",
    "select title,body,tags\n",
    "from posts\n",
    "where tags is not null \n",
    "and id > 750000\n",
    "and id < 1000000;"
   ]
  },
  {
   "cell_type": "markdown",
   "metadata": {},
   "source": [
    "L'aggrégation est automatisée par le shell ./dataset/generated_csv/aggregate.sh"
   ]
  },
  {
   "cell_type": "code",
   "execution_count": 2,
   "metadata": {},
   "outputs": [],
   "source": [
    "data = pd.read_csv('./dataset/dataset.csv',sep=\",\",nrows=1000)\n",
    "#data = pd.read_csv('./dataset/dataset.csv',sep=\",\",nrows=300000)\n"
   ]
  },
  {
   "cell_type": "code",
   "execution_count": 3,
   "metadata": {},
   "outputs": [
    {
     "data": {
      "text/html": [
       "<div>\n",
       "<style scoped>\n",
       "    .dataframe tbody tr th:only-of-type {\n",
       "        vertical-align: middle;\n",
       "    }\n",
       "\n",
       "    .dataframe tbody tr th {\n",
       "        vertical-align: top;\n",
       "    }\n",
       "\n",
       "    .dataframe thead th {\n",
       "        text-align: right;\n",
       "    }\n",
       "</style>\n",
       "<table border=\"1\" class=\"dataframe\">\n",
       "  <thead>\n",
       "    <tr style=\"text-align: right;\">\n",
       "      <th></th>\n",
       "      <th>title</th>\n",
       "      <th>body</th>\n",
       "      <th>tags</th>\n",
       "    </tr>\n",
       "  </thead>\n",
       "  <tbody>\n",
       "    <tr>\n",
       "      <th>0</th>\n",
       "      <td>IEnumerable Or Enumerable for Enumerating composite objects</td>\n",
       "      <td>&lt;p&gt;Hello I need some help with the following:&lt;/p&gt;\\n\\n&lt;p&gt;I have a ListView control with many ListViewItems, and each ListViewItem's tag property references a domain object like Customer etc.&lt;/p&gt;\\n\\n&lt;p&gt;when retrieving the collection of selected listviewItems, I would like to pass an &lt;code&gt;IEnumerable&amp;lt;Customer&amp;gt;&lt;/code&gt; instead of the &lt;code&gt;IEnumerable&amp;lt;ListViewItem&amp;gt;&lt;/code&gt; to a function to do something with it.&lt;/p&gt;\\n\\n&lt;p&gt;what would be the best way to achieve this with only one loop?&lt;/p&gt;\\n\\n&lt;p&gt;Thanks.&lt;/p&gt;\\n</td>\n",
       "      <td>&lt;c#&gt;</td>\n",
       "    </tr>\n",
       "    <tr>\n",
       "      <th>1</th>\n",
       "      <td>How to programmatically edit the routing table</td>\n",
       "      <td>&lt;p&gt;I am writing a daemon running on an embedded platform that needs to change the default route of the device according to which interface it is connecting on at a given time.  How can I do this programatically?  I know I can use system(\"route del default &amp;amp;&amp;amp; route add default gateway blah\"); etc but is there a more direct way?&lt;/p&gt;\\n\\n&lt;p&gt;UPDATE: I solved my particular problem by discovering a patch to pppd that allows a replacedefaultroute option. The patch also includes code for programmatically modifying the routing table. It is included in this gentoo bug report &lt;a href=\"http://bugs.gentoo.org/227321\" rel=\"nofollow noreferrer\"&gt;http://bugs.gentoo.org/227321&lt;/a&gt;&lt;/p&gt;\\n</td>\n",
       "      <td>&lt;c&gt;&lt;linux&gt;&lt;networking&gt;</td>\n",
       "    </tr>\n",
       "    <tr>\n",
       "      <th>2</th>\n",
       "      <td>How to erase the content on a graphics in GDI+?</td>\n",
       "      <td>&lt;p&gt;I am using gdi+, in c++.&lt;/p&gt;\\n\\n&lt;pre&gt;&lt;code&gt;Bitmap canvasImg = new Bitmap(400, 300, PixelFormat32bppARGB);\\nGraphics canvas = new Graphics(&amp;amp;canvasImg );\\n\\ncanvas.DrawImage(XXXX);\\n&lt;/code&gt;&lt;/pre&gt;\\n\\n&lt;p&gt;There are two problems.\\n&lt;p&gt;\\n1. I find the canvasImg is black. How can I change the color to white? I mean I want an white canvas. &lt;p&gt;\\n2. If I have drawn some thing on the canvas, How can I clear the canvas?&lt;p&gt;&lt;/p&gt;\\n\\n&lt;p&gt;Many Thanks!&lt;/p&gt;\\n</td>\n",
       "      <td>&lt;canvas&gt;&lt;gdi+&gt;</td>\n",
       "    </tr>\n",
       "    <tr>\n",
       "      <th>3</th>\n",
       "      <td>How do I access the state of individual bits of a word in MIPS?</td>\n",
       "      <td>&lt;p&gt;I'm writing a program and I need to determine if bits 3 and 6 are set.  I know that I can rotate a word or left/right shift it.&lt;/p&gt;\\n\\n&lt;p&gt;But how do I access individual bit's state?  Do I use a bitwise operator like and/xor?&lt;/p&gt;\\n</td>\n",
       "      <td>&lt;assembly&gt;&lt;bit-manipulation&gt;&lt;mips&gt;</td>\n",
       "    </tr>\n",
       "    <tr>\n",
       "      <th>4</th>\n",
       "      <td>How to handle a closing application event in Java?</td>\n",
       "      <td>&lt;p&gt;Having a console application, a server accepting several connections from clients, is it possible to have a listener or an event on a closing application?  I want, in this event, tell all connected clients to gently disconnect before the application really closes itself.&lt;/p&gt;\\n\\n&lt;p&gt;Any solution?  Thank you!&lt;/p&gt;\\n</td>\n",
       "      <td>&lt;java&gt;&lt;events&gt;&lt;listener&gt;</td>\n",
       "    </tr>\n",
       "  </tbody>\n",
       "</table>\n",
       "</div>"
      ],
      "text/plain": [
       "                                                             title  \\\n",
       "0      IEnumerable Or Enumerable for Enumerating composite objects   \n",
       "1                   How to programmatically edit the routing table   \n",
       "2                  How to erase the content on a graphics in GDI+?   \n",
       "3  How do I access the state of individual bits of a word in MIPS?   \n",
       "4               How to handle a closing application event in Java?   \n",
       "\n",
       "                                                                                                                                                                                                                                                                                                                                                                                                                                                                                                                                                                                                                                                                                                           body  \\\n",
       "0                                                                                                                                                                        <p>Hello I need some help with the following:</p>\\n\\n<p>I have a ListView control with many ListViewItems, and each ListViewItem's tag property references a domain object like Customer etc.</p>\\n\\n<p>when retrieving the collection of selected listviewItems, I would like to pass an <code>IEnumerable&lt;Customer&gt;</code> instead of the <code>IEnumerable&lt;ListViewItem&gt;</code> to a function to do something with it.</p>\\n\\n<p>what would be the best way to achieve this with only one loop?</p>\\n\\n<p>Thanks.</p>\\n   \n",
       "1  <p>I am writing a daemon running on an embedded platform that needs to change the default route of the device according to which interface it is connecting on at a given time.  How can I do this programatically?  I know I can use system(\"route del default &amp;&amp; route add default gateway blah\"); etc but is there a more direct way?</p>\\n\\n<p>UPDATE: I solved my particular problem by discovering a patch to pppd that allows a replacedefaultroute option. The patch also includes code for programmatically modifying the routing table. It is included in this gentoo bug report <a href=\"http://bugs.gentoo.org/227321\" rel=\"nofollow noreferrer\">http://bugs.gentoo.org/227321</a></p>\\n   \n",
       "2                                                                                                                                                                                                                                              <p>I am using gdi+, in c++.</p>\\n\\n<pre><code>Bitmap canvasImg = new Bitmap(400, 300, PixelFormat32bppARGB);\\nGraphics canvas = new Graphics(&amp;canvasImg );\\n\\ncanvas.DrawImage(XXXX);\\n</code></pre>\\n\\n<p>There are two problems.\\n<p>\\n1. I find the canvasImg is black. How can I change the color to white? I mean I want an white canvas. <p>\\n2. If I have drawn some thing on the canvas, How can I clear the canvas?<p></p>\\n\\n<p>Many Thanks!</p>\\n   \n",
       "3                                                                                                                                                                                                                                                                                                                                                                                                                                                                     <p>I'm writing a program and I need to determine if bits 3 and 6 are set.  I know that I can rotate a word or left/right shift it.</p>\\n\\n<p>But how do I access individual bit's state?  Do I use a bitwise operator like and/xor?</p>\\n   \n",
       "4                                                                                                                                                                                                                                                                                                                                                                                  <p>Having a console application, a server accepting several connections from clients, is it possible to have a listener or an event on a closing application?  I want, in this event, tell all connected clients to gently disconnect before the application really closes itself.</p>\\n\\n<p>Any solution?  Thank you!</p>\\n   \n",
       "\n",
       "                                 tags  \n",
       "0                                <c#>  \n",
       "1              <c><linux><networking>  \n",
       "2                      <canvas><gdi+>  \n",
       "3  <assembly><bit-manipulation><mips>  \n",
       "4            <java><events><listener>  "
      ]
     },
     "execution_count": 3,
     "metadata": {},
     "output_type": "execute_result"
    }
   ],
   "source": [
    "data.head()"
   ]
  },
  {
   "cell_type": "markdown",
   "metadata": {},
   "source": [
    "# Constats"
   ]
  },
  {
   "cell_type": "markdown",
   "metadata": {},
   "source": [
    "Dans l'objectif de faire du NLP nous pouvons déjà dégager des éléments remarquables qui vont conduire notre pré-traitement du dataset : \n",
    "\n",
    "- a priori beaucoup de question sont rédigées en anglais\n",
    "    - il faudra faire un choix pour le corpus en fonction de la langue prépondérante et écarter les enregistrements qui ne sont pas rédigés dans cette langue\n",
    "- le body et la liste de tags associée sont au format html\n",
    "    - il faudra prétraiter les colonnes pour revenir à un format dépollué\n",
    "    - on mettra également de côté les sauts de ligne (\\n)\n",
    "    - prévoir de tout passer en minuscules\n",
    "- on constate que le body peut contenir des éléments qui ne vont pas directement servir pour le nlp:\n",
    "    - des extraits de code cadrés par les balises html '\\<code\\>\\</code\\>' et '\\<pre\\>\\</pre\\>'\n",
    "    - des liens hypertexte cadrés par les balises html '\\<a href\\>\\</a\\>'\n",
    "\n",
    "Par ailleurs on procèdera à une normalisation par lemmatisation, basée sur le corpus de la langue principale retenue.\n",
    "\n",
    "Les fonctions suivantes vont servir à effectuer les opérations élémentaires de prétraitement.\n",
    "\n",
    "Elles seront reprises dans un pipeline complet pour permettre leur enchainement automatique.\n"
   ]
  },
  {
   "cell_type": "code",
   "execution_count": 4,
   "metadata": {},
   "outputs": [],
   "source": [
    "def logIt(caller,s):\n",
    "    dt = datetime.today().strftime('%Y-%m-%d %H:%M:%S')\n",
    "    show_log = f'{caller: <16} ' + s\n",
    "    print(dt + ' - ' + show_log)"
   ]
  },
  {
   "cell_type": "code",
   "execution_count": 5,
   "metadata": {},
   "outputs": [],
   "source": [
    "\"\"\"\n",
    "-----------------------------------------------------------------\n",
    "Desc:   Detect lang\n",
    "Input:  Dataset\n",
    "Output: languages representativeness  \n",
    "\n",
    "Traitements appliqués : \n",
    "- detection langue\n",
    "-----------------------------------------------------------------\n",
    "\"\"\"\n",
    "def langRepresentativeness(df, caller):\n",
    "    \n",
    "    langs = {}\n",
    "\n",
    "    logIt(caller,'Get lang from title')\n",
    "    \n",
    "    for title in df['title']:\n",
    "        lang, log_prob = langid.classify(title)\n",
    "        #print(lang + ' : ' + title)\n",
    "        \n",
    "        test = langs.get(lang)\n",
    "        if test:\n",
    "            langs[lang] += 1\n",
    "        else:\n",
    "            langs[lang] = 1   \n",
    "    \n",
    "    logIt(caller,'=> done')\n",
    "    \n",
    "    logIt(caller,'Plot representativeness')\n",
    "\n",
    "    plt.bar(range(len(langs)), list(langs.values()), align='center')\n",
    "    plt.xticks(range(len(langs)), list(langs.keys()))\n",
    "\n",
    "    plt.show()    \n",
    "    "
   ]
  },
  {
   "cell_type": "code",
   "execution_count": 6,
   "metadata": {},
   "outputs": [
    {
     "name": "stdout",
     "output_type": "stream",
     "text": [
      "2021-04-18 15:39:25 - test             Get lang from title\n",
      "2021-04-18 15:39:27 - test             => done\n",
      "2021-04-18 15:39:27 - test             Plot representativeness\n"
     ]
    },
    {
     "data": {
      "image/png": "[encoded data removed]",
      "text/plain": [
       "<Figure size 432x288 with 1 Axes>"
      ]
     },
     "metadata": {
      "needs_background": "light"
     },
     "output_type": "display_data"
    }
   ],
   "source": [
    "langRepresentativeness(data, 'test')"
   ]
  },
  {
   "cell_type": "markdown",
   "metadata": {},
   "source": [
    "# Pre-processing"
   ]
  },
  {
   "cell_type": "markdown",
   "metadata": {},
   "source": [
    "## Langue\n",
    "L'anglais est la langue majoritaire. On ne va garder que les enregistrements en anglais pour définir un corpus cohérent."
   ]
  },
  {
   "cell_type": "code",
   "execution_count": 5,
   "metadata": {},
   "outputs": [],
   "source": [
    "\"\"\"\n",
    "-----------------------------------------------------------------\n",
    "Desc:   Only keep english records \n",
    "Input:  Dataset\n",
    "Output: only english records dataset  \n",
    "\n",
    "Traitements appliqués : \n",
    "- create new feature with language\n",
    "- remove all records where title language is not english\n",
    "-----------------------------------------------------------------\n",
    "\"\"\"\n",
    "def removeNonEngRecords(df,caller):\n",
    "    \n",
    "    language = []\n",
    "    for title in data['title']:\n",
    "        lang, log_prob = langid.classify(title)\n",
    "        #print(lang)\n",
    "        language.append(lang)\n",
    "    \n",
    "    df['lang'] = language\n",
    "    \n",
    "    df.drop(df[df.lang != \"en\"].index, inplace=True)\n",
    "    df.drop(['lang'], inplace=True, axis=1)\n",
    "    \n",
    "    return df"
   ]
  },
  {
   "cell_type": "code",
   "execution_count": 6,
   "metadata": {},
   "outputs": [],
   "source": [
    "data = removeNonEngRecords(data,'test')"
   ]
  },
  {
   "cell_type": "code",
   "execution_count": 7,
   "metadata": {},
   "outputs": [
    {
     "data": {
      "text/html": [
       "<div>\n",
       "<style scoped>\n",
       "    .dataframe tbody tr th:only-of-type {\n",
       "        vertical-align: middle;\n",
       "    }\n",
       "\n",
       "    .dataframe tbody tr th {\n",
       "        vertical-align: top;\n",
       "    }\n",
       "\n",
       "    .dataframe thead th {\n",
       "        text-align: right;\n",
       "    }\n",
       "</style>\n",
       "<table border=\"1\" class=\"dataframe\">\n",
       "  <thead>\n",
       "    <tr style=\"text-align: right;\">\n",
       "      <th></th>\n",
       "      <th>title</th>\n",
       "      <th>body</th>\n",
       "      <th>tags</th>\n",
       "    </tr>\n",
       "  </thead>\n",
       "  <tbody>\n",
       "    <tr>\n",
       "      <th>1</th>\n",
       "      <td>How to programmatically edit the routing table</td>\n",
       "      <td>&lt;p&gt;I am writing a daemon running on an embedded platform that needs to change the default route of the device according to which interface it is connecting on at a given time.  How can I do this programatically?  I know I can use system(\"route del default &amp;amp;&amp;amp; route add default gateway blah\"); etc but is there a more direct way?&lt;/p&gt;\\n\\n&lt;p&gt;UPDATE: I solved my particular problem by discovering a patch to pppd that allows a replacedefaultroute option. The patch also includes code for programmatically modifying the routing table. It is included in this gentoo bug report &lt;a href=\"http://bugs.gentoo.org/227321\" rel=\"nofollow noreferrer\"&gt;http://bugs.gentoo.org/227321&lt;/a&gt;&lt;/p&gt;\\n</td>\n",
       "      <td>&lt;c&gt;&lt;linux&gt;&lt;networking&gt;</td>\n",
       "    </tr>\n",
       "    <tr>\n",
       "      <th>2</th>\n",
       "      <td>How to erase the content on a graphics in GDI+?</td>\n",
       "      <td>&lt;p&gt;I am using gdi+, in c++.&lt;/p&gt;\\n\\n&lt;pre&gt;&lt;code&gt;Bitmap canvasImg = new Bitmap(400, 300, PixelFormat32bppARGB);\\nGraphics canvas = new Graphics(&amp;amp;canvasImg );\\n\\ncanvas.DrawImage(XXXX);\\n&lt;/code&gt;&lt;/pre&gt;\\n\\n&lt;p&gt;There are two problems.\\n&lt;p&gt;\\n1. I find the canvasImg is black. How can I change the color to white? I mean I want an white canvas. &lt;p&gt;\\n2. If I have drawn some thing on the canvas, How can I clear the canvas?&lt;p&gt;&lt;/p&gt;\\n\\n&lt;p&gt;Many Thanks!&lt;/p&gt;\\n</td>\n",
       "      <td>&lt;canvas&gt;&lt;gdi+&gt;</td>\n",
       "    </tr>\n",
       "    <tr>\n",
       "      <th>3</th>\n",
       "      <td>How do I access the state of individual bits of a word in MIPS?</td>\n",
       "      <td>&lt;p&gt;I'm writing a program and I need to determine if bits 3 and 6 are set.  I know that I can rotate a word or left/right shift it.&lt;/p&gt;\\n\\n&lt;p&gt;But how do I access individual bit's state?  Do I use a bitwise operator like and/xor?&lt;/p&gt;\\n</td>\n",
       "      <td>&lt;assembly&gt;&lt;bit-manipulation&gt;&lt;mips&gt;</td>\n",
       "    </tr>\n",
       "    <tr>\n",
       "      <th>4</th>\n",
       "      <td>How to handle a closing application event in Java?</td>\n",
       "      <td>&lt;p&gt;Having a console application, a server accepting several connections from clients, is it possible to have a listener or an event on a closing application?  I want, in this event, tell all connected clients to gently disconnect before the application really closes itself.&lt;/p&gt;\\n\\n&lt;p&gt;Any solution?  Thank you!&lt;/p&gt;\\n</td>\n",
       "      <td>&lt;java&gt;&lt;events&gt;&lt;listener&gt;</td>\n",
       "    </tr>\n",
       "    <tr>\n",
       "      <th>5</th>\n",
       "      <td>Reading file contents on the client-side in javascript in various browsers</td>\n",
       "      <td>&lt;p&gt;I'm attempting to provide a script-only solution for reading the contents of a file on a client machine through a browser.&lt;/p&gt;\\n\\n&lt;p&gt;I have a solution that works with Firefox and Internet Explorer.  It's not pretty, but I'm only trying things at the moment:&lt;/p&gt;\\n\\n&lt;pre&gt;&lt;code&gt;function getFileContents() {\\n    var fileForUpload = document.forms[0].fileForUpload;\\n    var fileName = fileForUpload.value;\\n\\n    if (fileForUpload.files) {\\n        var fileContents = fileForUpload.files.item(0).getAsBinary();\\n        document.forms[0].fileContents.innerHTML = fileContents;\\n    } else {\\n        // try the IE method\\n        var fileContents = ieReadFile(fileName);\\n        document.forms[0].fileContents.innerHTML = fileContents;\\n    }\\n}       \\n\\nfunction ieReadFile(filename) \\n{\\n    try\\n    {\\n        var fso  = new ActiveXObject(\"Scripting.FileSystemObject\"); \\n        var fh = fso.OpenTextFile(filename, 1); \\n        var contents = fh.ReadAll(); \\n        fh.Close();\\n        return contents;\\n    }\\n    catch (Exception)\\n    {\\n        return \"Cannot open file :(\";\\n    }\\n}\\n&lt;/code&gt;&lt;/pre&gt;\\n\\n&lt;p&gt;I can call &lt;code&gt;getFileContents()&lt;/code&gt; and it will write the contents into the &lt;code&gt;fileContents&lt;/code&gt; text area.&lt;/p&gt;\\n\\n&lt;p&gt;&lt;strong&gt;Is there a way to do this in other browsers?&lt;/strong&gt;&lt;/p&gt;\\n\\n&lt;p&gt;I'm most concerned with Safari and Chrome at the moment, but I'm open to suggestions for any other browser.&lt;/p&gt;\\n\\n&lt;p&gt;&lt;strong&gt;Edit:&lt;/strong&gt; In response to the question, \"Why do you want to do this?\":&lt;/p&gt;\\n\\n&lt;p&gt;Basically, I want to hash the file contents together with a one-time-password on the client side so I can send this information back as a verification.&lt;/p&gt;\\n</td>\n",
       "      <td>&lt;javascript&gt;&lt;html&gt;&lt;file-io&gt;&lt;sandbox&gt;</td>\n",
       "    </tr>\n",
       "  </tbody>\n",
       "</table>\n",
       "</div>"
      ],
      "text/plain": [
       "                                                                        title  \\\n",
       "1                              How to programmatically edit the routing table   \n",
       "2                             How to erase the content on a graphics in GDI+?   \n",
       "3             How do I access the state of individual bits of a word in MIPS?   \n",
       "4                          How to handle a closing application event in Java?   \n",
       "5  Reading file contents on the client-side in javascript in various browsers   \n",
       "\n",
       "                                                                                                                                                                                                                                                                                                                                                                                                                                                                                                                                                                                                                                                                                                                                                                                                                                                                                                                                                                                                                                                                                                                                                                                                                                                                                                                                                                                                                                                                                                                                                                                                                                                                                                                                                         body  \\\n",
       "1                                                                                                                                                                                                                                                                                                                                                                                                                                                                                                                                                                                                                                                                                                                                                                                                                                                                                                                                                                                                                                                <p>I am writing a daemon running on an embedded platform that needs to change the default route of the device according to which interface it is connecting on at a given time.  How can I do this programatically?  I know I can use system(\"route del default &amp;&amp; route add default gateway blah\"); etc but is there a more direct way?</p>\\n\\n<p>UPDATE: I solved my particular problem by discovering a patch to pppd that allows a replacedefaultroute option. The patch also includes code for programmatically modifying the routing table. It is included in this gentoo bug report <a href=\"http://bugs.gentoo.org/227321\" rel=\"nofollow noreferrer\">http://bugs.gentoo.org/227321</a></p>\\n   \n",
       "2                                                                                                                                                                                                                                                                                                                                                                                                                                                                                                                                                                                                                                                                                                                                                                                                                                                                                                                                                                                                                                                                                                                                                                                                                                                                                            <p>I am using gdi+, in c++.</p>\\n\\n<pre><code>Bitmap canvasImg = new Bitmap(400, 300, PixelFormat32bppARGB);\\nGraphics canvas = new Graphics(&amp;canvasImg );\\n\\ncanvas.DrawImage(XXXX);\\n</code></pre>\\n\\n<p>There are two problems.\\n<p>\\n1. I find the canvasImg is black. How can I change the color to white? I mean I want an white canvas. <p>\\n2. If I have drawn some thing on the canvas, How can I clear the canvas?<p></p>\\n\\n<p>Many Thanks!</p>\\n   \n",
       "3                                                                                                                                                                                                                                                                                                                                                                                                                                                                                                                                                                                                                                                                                                                                                                                                                                                                                                                                                                                                                                                                                                                                                                                                                                                                                                                                                                                                                                                                                                                   <p>I'm writing a program and I need to determine if bits 3 and 6 are set.  I know that I can rotate a word or left/right shift it.</p>\\n\\n<p>But how do I access individual bit's state?  Do I use a bitwise operator like and/xor?</p>\\n   \n",
       "4                                                                                                                                                                                                                                                                                                                                                                                                                                                                                                                                                                                                                                                                                                                                                                                                                                                                                                                                                                                                                                                                                                                                                                                                                                                                                                                                                                                                                                <p>Having a console application, a server accepting several connections from clients, is it possible to have a listener or an event on a closing application?  I want, in this event, tell all connected clients to gently disconnect before the application really closes itself.</p>\\n\\n<p>Any solution?  Thank you!</p>\\n   \n",
       "5  <p>I'm attempting to provide a script-only solution for reading the contents of a file on a client machine through a browser.</p>\\n\\n<p>I have a solution that works with Firefox and Internet Explorer.  It's not pretty, but I'm only trying things at the moment:</p>\\n\\n<pre><code>function getFileContents() {\\n    var fileForUpload = document.forms[0].fileForUpload;\\n    var fileName = fileForUpload.value;\\n\\n    if (fileForUpload.files) {\\n        var fileContents = fileForUpload.files.item(0).getAsBinary();\\n        document.forms[0].fileContents.innerHTML = fileContents;\\n    } else {\\n        // try the IE method\\n        var fileContents = ieReadFile(fileName);\\n        document.forms[0].fileContents.innerHTML = fileContents;\\n    }\\n}       \\n\\nfunction ieReadFile(filename) \\n{\\n    try\\n    {\\n        var fso  = new ActiveXObject(\"Scripting.FileSystemObject\"); \\n        var fh = fso.OpenTextFile(filename, 1); \\n        var contents = fh.ReadAll(); \\n        fh.Close();\\n        return contents;\\n    }\\n    catch (Exception)\\n    {\\n        return \"Cannot open file :(\";\\n    }\\n}\\n</code></pre>\\n\\n<p>I can call <code>getFileContents()</code> and it will write the contents into the <code>fileContents</code> text area.</p>\\n\\n<p><strong>Is there a way to do this in other browsers?</strong></p>\\n\\n<p>I'm most concerned with Safari and Chrome at the moment, but I'm open to suggestions for any other browser.</p>\\n\\n<p><strong>Edit:</strong> In response to the question, \"Why do you want to do this?\":</p>\\n\\n<p>Basically, I want to hash the file contents together with a one-time-password on the client side so I can send this information back as a verification.</p>\\n   \n",
       "\n",
       "                                   tags  \n",
       "1                <c><linux><networking>  \n",
       "2                        <canvas><gdi+>  \n",
       "3    <assembly><bit-manipulation><mips>  \n",
       "4              <java><events><listener>  \n",
       "5  <javascript><html><file-io><sandbox>  "
      ]
     },
     "execution_count": 7,
     "metadata": {},
     "output_type": "execute_result"
    }
   ],
   "source": [
    "data.head()"
   ]
  },
  {
   "cell_type": "markdown",
   "metadata": {},
   "source": [
    "## Merge des colonnes title et body\n",
    "\n",
    "La colonne titre comporte du texte qui peut présenter un intérêt dans la caractérisation du post et l'attribution des tags liés au sujet. On merge son contenu dans la colonne du body."
   ]
  },
  {
   "cell_type": "code",
   "execution_count": 8,
   "metadata": {},
   "outputs": [],
   "source": [
    "\"\"\"\n",
    "-----------------------------------------------------------------\n",
    "Desc:   Merge des colonnes title et body\n",
    "Input:  Dataset\n",
    "Output: dataset with body feature merged with title   \n",
    "\n",
    "Traitements appliqués : \n",
    "- remove \n",
    "- create new column with extracted text\n",
    "- \n",
    "-----------------------------------------------------------------\n",
    "\"\"\"\n",
    "def mergeTitle(df, caller):\n",
    "    \n",
    "    \n",
    "    df['final_body'] = df[\"title\"] + ' ' + df[\"body\"]\n",
    "    df.drop(['body'], inplace=True, axis=1)\n",
    "    df.columns = ['title','tags','body']\n",
    "    \n",
    "    return df"
   ]
  },
  {
   "cell_type": "code",
   "execution_count": 9,
   "metadata": {},
   "outputs": [],
   "source": [
    "data = mergeTitle(data,'test')"
   ]
  },
  {
   "cell_type": "code",
   "execution_count": 10,
   "metadata": {},
   "outputs": [
    {
     "data": {
      "text/html": [
       "<div>\n",
       "<style scoped>\n",
       "    .dataframe tbody tr th:only-of-type {\n",
       "        vertical-align: middle;\n",
       "    }\n",
       "\n",
       "    .dataframe tbody tr th {\n",
       "        vertical-align: top;\n",
       "    }\n",
       "\n",
       "    .dataframe thead th {\n",
       "        text-align: right;\n",
       "    }\n",
       "</style>\n",
       "<table border=\"1\" class=\"dataframe\">\n",
       "  <thead>\n",
       "    <tr style=\"text-align: right;\">\n",
       "      <th></th>\n",
       "      <th>title</th>\n",
       "      <th>tags</th>\n",
       "      <th>body</th>\n",
       "    </tr>\n",
       "  </thead>\n",
       "  <tbody>\n",
       "    <tr>\n",
       "      <th>1</th>\n",
       "      <td>How to programmatically edit the routing table</td>\n",
       "      <td>&lt;c&gt;&lt;linux&gt;&lt;networking&gt;</td>\n",
       "      <td>How to programmatically edit the routing table &lt;p&gt;I am writing a daemon running on an embedded platform that needs to change the default route of the device according to which interface it is connecting on at a given time.  How can I do this programatically?  I know I can use system(\"route del default &amp;amp;&amp;amp; route add default gateway blah\"); etc but is there a more direct way?&lt;/p&gt;\\n\\n&lt;p&gt;UPDATE: I solved my particular problem by discovering a patch to pppd that allows a replacedefaultroute option. The patch also includes code for programmatically modifying the routing table. It is included in this gentoo bug report &lt;a href=\"http://bugs.gentoo.org/227321\" rel=\"nofollow noreferrer\"&gt;http://bugs.gentoo.org/227321&lt;/a&gt;&lt;/p&gt;\\n</td>\n",
       "    </tr>\n",
       "    <tr>\n",
       "      <th>2</th>\n",
       "      <td>How to erase the content on a graphics in GDI+?</td>\n",
       "      <td>&lt;canvas&gt;&lt;gdi+&gt;</td>\n",
       "      <td>How to erase the content on a graphics in GDI+? &lt;p&gt;I am using gdi+, in c++.&lt;/p&gt;\\n\\n&lt;pre&gt;&lt;code&gt;Bitmap canvasImg = new Bitmap(400, 300, PixelFormat32bppARGB);\\nGraphics canvas = new Graphics(&amp;amp;canvasImg );\\n\\ncanvas.DrawImage(XXXX);\\n&lt;/code&gt;&lt;/pre&gt;\\n\\n&lt;p&gt;There are two problems.\\n&lt;p&gt;\\n1. I find the canvasImg is black. How can I change the color to white? I mean I want an white canvas. &lt;p&gt;\\n2. If I have drawn some thing on the canvas, How can I clear the canvas?&lt;p&gt;&lt;/p&gt;\\n\\n&lt;p&gt;Many Thanks!&lt;/p&gt;\\n</td>\n",
       "    </tr>\n",
       "    <tr>\n",
       "      <th>3</th>\n",
       "      <td>How do I access the state of individual bits of a word in MIPS?</td>\n",
       "      <td>&lt;assembly&gt;&lt;bit-manipulation&gt;&lt;mips&gt;</td>\n",
       "      <td>How do I access the state of individual bits of a word in MIPS? &lt;p&gt;I'm writing a program and I need to determine if bits 3 and 6 are set.  I know that I can rotate a word or left/right shift it.&lt;/p&gt;\\n\\n&lt;p&gt;But how do I access individual bit's state?  Do I use a bitwise operator like and/xor?&lt;/p&gt;\\n</td>\n",
       "    </tr>\n",
       "    <tr>\n",
       "      <th>4</th>\n",
       "      <td>How to handle a closing application event in Java?</td>\n",
       "      <td>&lt;java&gt;&lt;events&gt;&lt;listener&gt;</td>\n",
       "      <td>How to handle a closing application event in Java? &lt;p&gt;Having a console application, a server accepting several connections from clients, is it possible to have a listener or an event on a closing application?  I want, in this event, tell all connected clients to gently disconnect before the application really closes itself.&lt;/p&gt;\\n\\n&lt;p&gt;Any solution?  Thank you!&lt;/p&gt;\\n</td>\n",
       "    </tr>\n",
       "    <tr>\n",
       "      <th>5</th>\n",
       "      <td>Reading file contents on the client-side in javascript in various browsers</td>\n",
       "      <td>&lt;javascript&gt;&lt;html&gt;&lt;file-io&gt;&lt;sandbox&gt;</td>\n",
       "      <td>Reading file contents on the client-side in javascript in various browsers &lt;p&gt;I'm attempting to provide a script-only solution for reading the contents of a file on a client machine through a browser.&lt;/p&gt;\\n\\n&lt;p&gt;I have a solution that works with Firefox and Internet Explorer.  It's not pretty, but I'm only trying things at the moment:&lt;/p&gt;\\n\\n&lt;pre&gt;&lt;code&gt;function getFileContents() {\\n    var fileForUpload = document.forms[0].fileForUpload;\\n    var fileName = fileForUpload.value;\\n\\n    if (fileForUpload.files) {\\n        var fileContents = fileForUpload.files.item(0).getAsBinary();\\n        document.forms[0].fileContents.innerHTML = fileContents;\\n    } else {\\n        // try the IE method\\n        var fileContents = ieReadFile(fileName);\\n        document.forms[0].fileContents.innerHTML = fileContents;\\n    }\\n}       \\n\\nfunction ieReadFile(filename) \\n{\\n    try\\n    {\\n        var fso  = new ActiveXObject(\"Scripting.FileSystemObject\"); \\n        var fh = fso.OpenTextFile(filename, 1); \\n        var contents = fh.ReadAll(); \\n        fh.Close();\\n        return contents;\\n    }\\n    catch (Exception)\\n    {\\n        return \"Cannot open file :(\";\\n    }\\n}\\n&lt;/code&gt;&lt;/pre&gt;\\n\\n&lt;p&gt;I can call &lt;code&gt;getFileContents()&lt;/code&gt; and it will write the contents into the &lt;code&gt;fileContents&lt;/code&gt; text area.&lt;/p&gt;\\n\\n&lt;p&gt;&lt;strong&gt;Is there a way to do this in other browsers?&lt;/strong&gt;&lt;/p&gt;\\n\\n&lt;p&gt;I'm most concerned with Safari and Chrome at the moment, but I'm open to suggestions for any other browser.&lt;/p&gt;\\n\\n&lt;p&gt;&lt;strong&gt;Edit:&lt;/strong&gt; In response to the question, \"Why do you want to do this?\":&lt;/p&gt;\\n\\n&lt;p&gt;Basically, I want to hash the file contents together with a one-time-password on the client side so I can send this information back as a verification.&lt;/p&gt;\\n</td>\n",
       "    </tr>\n",
       "  </tbody>\n",
       "</table>\n",
       "</div>"
      ],
      "text/plain": [
       "                                                                        title  \\\n",
       "1                              How to programmatically edit the routing table   \n",
       "2                             How to erase the content on a graphics in GDI+?   \n",
       "3             How do I access the state of individual bits of a word in MIPS?   \n",
       "4                          How to handle a closing application event in Java?   \n",
       "5  Reading file contents on the client-side in javascript in various browsers   \n",
       "\n",
       "                                   tags  \\\n",
       "1                <c><linux><networking>   \n",
       "2                        <canvas><gdi+>   \n",
       "3    <assembly><bit-manipulation><mips>   \n",
       "4              <java><events><listener>   \n",
       "5  <javascript><html><file-io><sandbox>   \n",
       "\n",
       "                                                                                                                                                                                                                                                                                                                                                                                                                                                                                                                                                                                                                                                                                                                                                                                                                                                                                                                                                                                                                                                                                                                                                                                                                                                                                                                                                                                                                                                                                                                                                                                                                                                                                                                                                                                                                                    body  \n",
       "1                                                                                                                                                                                                                                                                                                                                                                                                                                                                                                                                                                                                                                                                                                                                                                                                                                                                                                                                                                                                                                                                            How to programmatically edit the routing table <p>I am writing a daemon running on an embedded platform that needs to change the default route of the device according to which interface it is connecting on at a given time.  How can I do this programatically?  I know I can use system(\"route del default &amp;&amp; route add default gateway blah\"); etc but is there a more direct way?</p>\\n\\n<p>UPDATE: I solved my particular problem by discovering a patch to pppd that allows a replacedefaultroute option. The patch also includes code for programmatically modifying the routing table. It is included in this gentoo bug report <a href=\"http://bugs.gentoo.org/227321\" rel=\"nofollow noreferrer\">http://bugs.gentoo.org/227321</a></p>\\n  \n",
       "2                                                                                                                                                                                                                                                                                                                                                                                                                                                                                                                                                                                                                                                                                                                                                                                                                                                                                                                                                                                                                                                                                                                                                                                                                                                                                                                       How to erase the content on a graphics in GDI+? <p>I am using gdi+, in c++.</p>\\n\\n<pre><code>Bitmap canvasImg = new Bitmap(400, 300, PixelFormat32bppARGB);\\nGraphics canvas = new Graphics(&amp;canvasImg );\\n\\ncanvas.DrawImage(XXXX);\\n</code></pre>\\n\\n<p>There are two problems.\\n<p>\\n1. I find the canvasImg is black. How can I change the color to white? I mean I want an white canvas. <p>\\n2. If I have drawn some thing on the canvas, How can I clear the canvas?<p></p>\\n\\n<p>Many Thanks!</p>\\n  \n",
       "3                                                                                                                                                                                                                                                                                                                                                                                                                                                                                                                                                                                                                                                                                                                                                                                                                                                                                                                                                                                                                                                                                                                                                                                                                                                                                                                                                                                                                                                                                                                              How do I access the state of individual bits of a word in MIPS? <p>I'm writing a program and I need to determine if bits 3 and 6 are set.  I know that I can rotate a word or left/right shift it.</p>\\n\\n<p>But how do I access individual bit's state?  Do I use a bitwise operator like and/xor?</p>\\n  \n",
       "4                                                                                                                                                                                                                                                                                                                                                                                                                                                                                                                                                                                                                                                                                                                                                                                                                                                                                                                                                                                                                                                                                                                                                                                                                                                                                                                                                                                                                                                        How to handle a closing application event in Java? <p>Having a console application, a server accepting several connections from clients, is it possible to have a listener or an event on a closing application?  I want, in this event, tell all connected clients to gently disconnect before the application really closes itself.</p>\\n\\n<p>Any solution?  Thank you!</p>\\n  \n",
       "5  Reading file contents on the client-side in javascript in various browsers <p>I'm attempting to provide a script-only solution for reading the contents of a file on a client machine through a browser.</p>\\n\\n<p>I have a solution that works with Firefox and Internet Explorer.  It's not pretty, but I'm only trying things at the moment:</p>\\n\\n<pre><code>function getFileContents() {\\n    var fileForUpload = document.forms[0].fileForUpload;\\n    var fileName = fileForUpload.value;\\n\\n    if (fileForUpload.files) {\\n        var fileContents = fileForUpload.files.item(0).getAsBinary();\\n        document.forms[0].fileContents.innerHTML = fileContents;\\n    } else {\\n        // try the IE method\\n        var fileContents = ieReadFile(fileName);\\n        document.forms[0].fileContents.innerHTML = fileContents;\\n    }\\n}       \\n\\nfunction ieReadFile(filename) \\n{\\n    try\\n    {\\n        var fso  = new ActiveXObject(\"Scripting.FileSystemObject\"); \\n        var fh = fso.OpenTextFile(filename, 1); \\n        var contents = fh.ReadAll(); \\n        fh.Close();\\n        return contents;\\n    }\\n    catch (Exception)\\n    {\\n        return \"Cannot open file :(\";\\n    }\\n}\\n</code></pre>\\n\\n<p>I can call <code>getFileContents()</code> and it will write the contents into the <code>fileContents</code> text area.</p>\\n\\n<p><strong>Is there a way to do this in other browsers?</strong></p>\\n\\n<p>I'm most concerned with Safari and Chrome at the moment, but I'm open to suggestions for any other browser.</p>\\n\\n<p><strong>Edit:</strong> In response to the question, \"Why do you want to do this?\":</p>\\n\\n<p>Basically, I want to hash the file contents together with a one-time-password on the client side so I can send this information back as a verification.</p>\\n  "
      ]
     },
     "execution_count": 10,
     "metadata": {},
     "output_type": "execute_result"
    }
   ],
   "source": [
    "data.head()"
   ]
  },
  {
   "cell_type": "markdown",
   "metadata": {},
   "source": [
    "## Traitement du HTML"
   ]
  },
  {
   "cell_type": "code",
   "execution_count": 11,
   "metadata": {},
   "outputs": [],
   "source": [
    "\"\"\"\n",
    "-----------------------------------------------------------------\n",
    "Desc:   Extract text from questions body \n",
    "Input:  Dataset\n",
    "Output: dataset with body feature without tags   \n",
    "\n",
    "Traitements appliqués : \n",
    "- extract text from tags contents\n",
    "- create new column with extracted text\n",
    "- \n",
    "-----------------------------------------------------------------\n",
    "\"\"\"\n",
    "def extractText(df, caller):\n",
    "    bodies = []\n",
    "    for body in data['body']: \n",
    "        #print(body)\n",
    "        soup = BeautifulSoup(body)    \n",
    "        tags = [tag.name for tag in soup.find_all()]\n",
    "        #print(tags)\n",
    "        #loop tag to remove code and href tags\n",
    "        if \"pre\" in tags:\n",
    "            soup.pre.decompose()\n",
    "        if \"code\" in tags:\n",
    "            try:\n",
    "                soup.code.decompose()\n",
    "            except:\n",
    "                pass\n",
    "        if \"a\" in tags:\n",
    "            soup.a.decompose()\n",
    "        bodies.append(soup.get_text())\n",
    "        \n",
    "    df['final_body'] = bodies\n",
    "    df.drop(['body'], inplace=True, axis=1)\n",
    "    df.columns = ['title', 'tags','body']\n",
    "    \n",
    "    return df\n",
    "    "
   ]
  },
  {
   "cell_type": "code",
   "execution_count": 12,
   "metadata": {},
   "outputs": [],
   "source": [
    "data = extractText(data, 'test')"
   ]
  },
  {
   "cell_type": "code",
   "execution_count": 13,
   "metadata": {},
   "outputs": [
    {
     "data": {
      "text/html": [
       "<div>\n",
       "<style scoped>\n",
       "    .dataframe tbody tr th:only-of-type {\n",
       "        vertical-align: middle;\n",
       "    }\n",
       "\n",
       "    .dataframe tbody tr th {\n",
       "        vertical-align: top;\n",
       "    }\n",
       "\n",
       "    .dataframe thead th {\n",
       "        text-align: right;\n",
       "    }\n",
       "</style>\n",
       "<table border=\"1\" class=\"dataframe\">\n",
       "  <thead>\n",
       "    <tr style=\"text-align: right;\">\n",
       "      <th></th>\n",
       "      <th>title</th>\n",
       "      <th>tags</th>\n",
       "      <th>body</th>\n",
       "    </tr>\n",
       "  </thead>\n",
       "  <tbody>\n",
       "    <tr>\n",
       "      <th>1</th>\n",
       "      <td>How to programmatically edit the routing table</td>\n",
       "      <td>&lt;c&gt;&lt;linux&gt;&lt;networking&gt;</td>\n",
       "      <td>How to programmatically edit the routing table I am writing a daemon running on an embedded platform that needs to change the default route of the device according to which interface it is connecting on at a given time.  How can I do this programatically?  I know I can use system(\"route del default &amp;&amp; route add default gateway blah\"); etc but is there a more direct way?\\nUPDATE: I solved my particular problem by discovering a patch to pppd that allows a replacedefaultroute option. The patch also includes code for programmatically modifying the routing table. It is included in this gentoo bug report \\n</td>\n",
       "    </tr>\n",
       "    <tr>\n",
       "      <th>2</th>\n",
       "      <td>How to erase the content on a graphics in GDI+?</td>\n",
       "      <td>&lt;canvas&gt;&lt;gdi+&gt;</td>\n",
       "      <td>How to erase the content on a graphics in GDI+? I am using gdi+, in c++.\\n\\nThere are two problems.\\n\\n1. I find the canvasImg is black. How can I change the color to white? I mean I want an white canvas. \\n2. If I have drawn some thing on the canvas, How can I clear the canvas?\\nMany Thanks!\\n</td>\n",
       "    </tr>\n",
       "    <tr>\n",
       "      <th>3</th>\n",
       "      <td>How do I access the state of individual bits of a word in MIPS?</td>\n",
       "      <td>&lt;assembly&gt;&lt;bit-manipulation&gt;&lt;mips&gt;</td>\n",
       "      <td>How do I access the state of individual bits of a word in MIPS? I'm writing a program and I need to determine if bits 3 and 6 are set.  I know that I can rotate a word or left/right shift it.\\nBut how do I access individual bit's state?  Do I use a bitwise operator like and/xor?\\n</td>\n",
       "    </tr>\n",
       "    <tr>\n",
       "      <th>4</th>\n",
       "      <td>How to handle a closing application event in Java?</td>\n",
       "      <td>&lt;java&gt;&lt;events&gt;&lt;listener&gt;</td>\n",
       "      <td>How to handle a closing application event in Java? Having a console application, a server accepting several connections from clients, is it possible to have a listener or an event on a closing application?  I want, in this event, tell all connected clients to gently disconnect before the application really closes itself.\\nAny solution?  Thank you!\\n</td>\n",
       "    </tr>\n",
       "    <tr>\n",
       "      <th>5</th>\n",
       "      <td>Reading file contents on the client-side in javascript in various browsers</td>\n",
       "      <td>&lt;javascript&gt;&lt;html&gt;&lt;file-io&gt;&lt;sandbox&gt;</td>\n",
       "      <td>Reading file contents on the client-side in javascript in various browsers I'm attempting to provide a script-only solution for reading the contents of a file on a client machine through a browser.\\nI have a solution that works with Firefox and Internet Explorer.  It's not pretty, but I'm only trying things at the moment:\\n\\nI can call  and it will write the contents into the fileContents text area.\\nIs there a way to do this in other browsers?\\nI'm most concerned with Safari and Chrome at the moment, but I'm open to suggestions for any other browser.\\nEdit: In response to the question, \"Why do you want to do this?\":\\nBasically, I want to hash the file contents together with a one-time-password on the client side so I can send this information back as a verification.\\n</td>\n",
       "    </tr>\n",
       "  </tbody>\n",
       "</table>\n",
       "</div>"
      ],
      "text/plain": [
       "                                                                        title  \\\n",
       "1                              How to programmatically edit the routing table   \n",
       "2                             How to erase the content on a graphics in GDI+?   \n",
       "3             How do I access the state of individual bits of a word in MIPS?   \n",
       "4                          How to handle a closing application event in Java?   \n",
       "5  Reading file contents on the client-side in javascript in various browsers   \n",
       "\n",
       "                                   tags  \\\n",
       "1                <c><linux><networking>   \n",
       "2                        <canvas><gdi+>   \n",
       "3    <assembly><bit-manipulation><mips>   \n",
       "4              <java><events><listener>   \n",
       "5  <javascript><html><file-io><sandbox>   \n",
       "\n",
       "                                                                                                                                                                                                                                                                                                                                                                                                                                                                                                                                                                                                                                                                                                                                                                                                          body  \n",
       "1                                                                                                                                                                             How to programmatically edit the routing table I am writing a daemon running on an embedded platform that needs to change the default route of the device according to which interface it is connecting on at a given time.  How can I do this programatically?  I know I can use system(\"route del default && route add default gateway blah\"); etc but is there a more direct way?\\nUPDATE: I solved my particular problem by discovering a patch to pppd that allows a replacedefaultroute option. The patch also includes code for programmatically modifying the routing table. It is included in this gentoo bug report \\n  \n",
       "2                                                                                                                                                                                                                                                                                                                                                                                                                                                                                                      How to erase the content on a graphics in GDI+? I am using gdi+, in c++.\\n\\nThere are two problems.\\n\\n1. I find the canvasImg is black. How can I change the color to white? I mean I want an white canvas. \\n2. If I have drawn some thing on the canvas, How can I clear the canvas?\\nMany Thanks!\\n  \n",
       "3                                                                                                                                                                                                                                                                                                                                                                                                                                                                                                                    How do I access the state of individual bits of a word in MIPS? I'm writing a program and I need to determine if bits 3 and 6 are set.  I know that I can rotate a word or left/right shift it.\\nBut how do I access individual bit's state?  Do I use a bitwise operator like and/xor?\\n  \n",
       "4                                                                                                                                                                                                                                                                                                                                                                                                                                              How to handle a closing application event in Java? Having a console application, a server accepting several connections from clients, is it possible to have a listener or an event on a closing application?  I want, in this event, tell all connected clients to gently disconnect before the application really closes itself.\\nAny solution?  Thank you!\\n  \n",
       "5  Reading file contents on the client-side in javascript in various browsers I'm attempting to provide a script-only solution for reading the contents of a file on a client machine through a browser.\\nI have a solution that works with Firefox and Internet Explorer.  It's not pretty, but I'm only trying things at the moment:\\n\\nI can call  and it will write the contents into the fileContents text area.\\nIs there a way to do this in other browsers?\\nI'm most concerned with Safari and Chrome at the moment, but I'm open to suggestions for any other browser.\\nEdit: In response to the question, \"Why do you want to do this?\":\\nBasically, I want to hash the file contents together with a one-time-password on the client side so I can send this information back as a verification.\\n  "
      ]
     },
     "execution_count": 13,
     "metadata": {},
     "output_type": "execute_result"
    }
   ],
   "source": [
    "data.head()"
   ]
  },
  {
   "cell_type": "markdown",
   "metadata": {},
   "source": [
    "## Traitement des caractères spéciaux"
   ]
  },
  {
   "cell_type": "markdown",
   "metadata": {},
   "source": [
    "### Suppression des sauts de ligne"
   ]
  },
  {
   "cell_type": "code",
   "execution_count": 14,
   "metadata": {},
   "outputs": [],
   "source": [
    "\"\"\"\n",
    "-----------------------------------------------------------------\n",
    "Desc:   Remove \\n \n",
    "Input:  Dataset\n",
    "Output: dataset with body feature without useless characters   \n",
    "\n",
    "Traitements appliqués : \n",
    "- remove \n",
    "- create new column with extracted text\n",
    "- \n",
    "-----------------------------------------------------------------\n",
    "\"\"\"\n",
    "def removeLineFeed(df, caller):\n",
    "    bodies = []\n",
    "    for body in data['body']: \n",
    "        final_body = body.replace('\\n',' ')\n",
    "        bodies.append(final_body)\n",
    "\n",
    "    df['final_body'] = bodies\n",
    "    df.drop(['body'], inplace=True, axis=1)\n",
    "    df.columns = ['title', 'tags','body']\n",
    "    \n",
    "    return df\n",
    "    "
   ]
  },
  {
   "cell_type": "code",
   "execution_count": 15,
   "metadata": {},
   "outputs": [],
   "source": [
    "data = removeLineFeed(data,'test')"
   ]
  },
  {
   "cell_type": "code",
   "execution_count": 16,
   "metadata": {},
   "outputs": [
    {
     "data": {
      "text/html": [
       "<div>\n",
       "<style scoped>\n",
       "    .dataframe tbody tr th:only-of-type {\n",
       "        vertical-align: middle;\n",
       "    }\n",
       "\n",
       "    .dataframe tbody tr th {\n",
       "        vertical-align: top;\n",
       "    }\n",
       "\n",
       "    .dataframe thead th {\n",
       "        text-align: right;\n",
       "    }\n",
       "</style>\n",
       "<table border=\"1\" class=\"dataframe\">\n",
       "  <thead>\n",
       "    <tr style=\"text-align: right;\">\n",
       "      <th></th>\n",
       "      <th>title</th>\n",
       "      <th>tags</th>\n",
       "      <th>body</th>\n",
       "    </tr>\n",
       "  </thead>\n",
       "  <tbody>\n",
       "    <tr>\n",
       "      <th>1</th>\n",
       "      <td>How to programmatically edit the routing table</td>\n",
       "      <td>&lt;c&gt;&lt;linux&gt;&lt;networking&gt;</td>\n",
       "      <td>How to programmatically edit the routing table I am writing a daemon running on an embedded platform that needs to change the default route of the device according to which interface it is connecting on at a given time.  How can I do this programatically?  I know I can use system(\"route del default &amp;&amp; route add default gateway blah\"); etc but is there a more direct way? UPDATE: I solved my particular problem by discovering a patch to pppd that allows a replacedefaultroute option. The patch also includes code for programmatically modifying the routing table. It is included in this gentoo bug report</td>\n",
       "    </tr>\n",
       "    <tr>\n",
       "      <th>2</th>\n",
       "      <td>How to erase the content on a graphics in GDI+?</td>\n",
       "      <td>&lt;canvas&gt;&lt;gdi+&gt;</td>\n",
       "      <td>How to erase the content on a graphics in GDI+? I am using gdi+, in c++.  There are two problems.  1. I find the canvasImg is black. How can I change the color to white? I mean I want an white canvas.  2. If I have drawn some thing on the canvas, How can I clear the canvas? Many Thanks!</td>\n",
       "    </tr>\n",
       "    <tr>\n",
       "      <th>3</th>\n",
       "      <td>How do I access the state of individual bits of a word in MIPS?</td>\n",
       "      <td>&lt;assembly&gt;&lt;bit-manipulation&gt;&lt;mips&gt;</td>\n",
       "      <td>How do I access the state of individual bits of a word in MIPS? I'm writing a program and I need to determine if bits 3 and 6 are set.  I know that I can rotate a word or left/right shift it. But how do I access individual bit's state?  Do I use a bitwise operator like and/xor?</td>\n",
       "    </tr>\n",
       "    <tr>\n",
       "      <th>4</th>\n",
       "      <td>How to handle a closing application event in Java?</td>\n",
       "      <td>&lt;java&gt;&lt;events&gt;&lt;listener&gt;</td>\n",
       "      <td>How to handle a closing application event in Java? Having a console application, a server accepting several connections from clients, is it possible to have a listener or an event on a closing application?  I want, in this event, tell all connected clients to gently disconnect before the application really closes itself. Any solution?  Thank you!</td>\n",
       "    </tr>\n",
       "    <tr>\n",
       "      <th>5</th>\n",
       "      <td>Reading file contents on the client-side in javascript in various browsers</td>\n",
       "      <td>&lt;javascript&gt;&lt;html&gt;&lt;file-io&gt;&lt;sandbox&gt;</td>\n",
       "      <td>Reading file contents on the client-side in javascript in various browsers I'm attempting to provide a script-only solution for reading the contents of a file on a client machine through a browser. I have a solution that works with Firefox and Internet Explorer.  It's not pretty, but I'm only trying things at the moment:  I can call  and it will write the contents into the fileContents text area. Is there a way to do this in other browsers? I'm most concerned with Safari and Chrome at the moment, but I'm open to suggestions for any other browser. Edit: In response to the question, \"Why do you want to do this?\": Basically, I want to hash the file contents together with a one-time-password on the client side so I can send this information back as a verification.</td>\n",
       "    </tr>\n",
       "  </tbody>\n",
       "</table>\n",
       "</div>"
      ],
      "text/plain": [
       "                                                                        title  \\\n",
       "1                              How to programmatically edit the routing table   \n",
       "2                             How to erase the content on a graphics in GDI+?   \n",
       "3             How do I access the state of individual bits of a word in MIPS?   \n",
       "4                          How to handle a closing application event in Java?   \n",
       "5  Reading file contents on the client-side in javascript in various browsers   \n",
       "\n",
       "                                   tags  \\\n",
       "1                <c><linux><networking>   \n",
       "2                        <canvas><gdi+>   \n",
       "3    <assembly><bit-manipulation><mips>   \n",
       "4              <java><events><listener>   \n",
       "5  <javascript><html><file-io><sandbox>   \n",
       "\n",
       "                                                                                                                                                                                                                                                                                                                                                                                                                                                                                                                                                                                                                                                                                                                                                                                                  body  \n",
       "1                                                                                                                                                                       How to programmatically edit the routing table I am writing a daemon running on an embedded platform that needs to change the default route of the device according to which interface it is connecting on at a given time.  How can I do this programatically?  I know I can use system(\"route del default && route add default gateway blah\"); etc but is there a more direct way? UPDATE: I solved my particular problem by discovering a patch to pppd that allows a replacedefaultroute option. The patch also includes code for programmatically modifying the routing table. It is included in this gentoo bug report    \n",
       "2                                                                                                                                                                                                                                                                                                                                                                                                                                                                                                     How to erase the content on a graphics in GDI+? I am using gdi+, in c++.  There are two problems.  1. I find the canvasImg is black. How can I change the color to white? I mean I want an white canvas.  2. If I have drawn some thing on the canvas, How can I clear the canvas? Many Thanks!   \n",
       "3                                                                                                                                                                                                                                                                                                                                                                                                                                                                                                              How do I access the state of individual bits of a word in MIPS? I'm writing a program and I need to determine if bits 3 and 6 are set.  I know that I can rotate a word or left/right shift it. But how do I access individual bit's state?  Do I use a bitwise operator like and/xor?   \n",
       "4                                                                                                                                                                                                                                                                                                                                                                                                                                        How to handle a closing application event in Java? Having a console application, a server accepting several connections from clients, is it possible to have a listener or an event on a closing application?  I want, in this event, tell all connected clients to gently disconnect before the application really closes itself. Any solution?  Thank you!   \n",
       "5  Reading file contents on the client-side in javascript in various browsers I'm attempting to provide a script-only solution for reading the contents of a file on a client machine through a browser. I have a solution that works with Firefox and Internet Explorer.  It's not pretty, but I'm only trying things at the moment:  I can call  and it will write the contents into the fileContents text area. Is there a way to do this in other browsers? I'm most concerned with Safari and Chrome at the moment, but I'm open to suggestions for any other browser. Edit: In response to the question, \"Why do you want to do this?\": Basically, I want to hash the file contents together with a one-time-password on the client side so I can send this information back as a verification.   "
      ]
     },
     "execution_count": 16,
     "metadata": {},
     "output_type": "execute_result"
    }
   ],
   "source": [
    "data.head()"
   ]
  },
  {
   "cell_type": "markdown",
   "metadata": {},
   "source": [
    "### Suppression des caractères spéciaux\n",
    "\n",
    "On supprime les caractères qui n'apporte pas de sens :\n",
    "\n",
    "-   ponctuation\n",
    "-   caractères spéciaux à l'exclusion du + qui est une occurrence importante pour identifier certains langages informatiques\n",
    "-   les chiffres"
   ]
  },
  {
   "cell_type": "code",
   "execution_count": 17,
   "metadata": {},
   "outputs": [],
   "source": [
    "\"\"\"\n",
    "-----------------------------------------------------------------\n",
    "Desc:   Remove useless characters \n",
    "Input:  Dataset\n",
    "Output: dataset with body feature without useless characters   \n",
    "\n",
    "Traitements appliqués : \n",
    "- remove \n",
    "- create new column with extracted text\n",
    "- \n",
    "-----------------------------------------------------------------\n",
    "\"\"\"\n",
    "def removeUselessChars(df, caller):\n",
    "    bodies = []\n",
    "    \n",
    "    pattern = re.compile('[^A-Za-z +#]')\n",
    "\n",
    "    for body in data['body']: \n",
    "        final_body = pattern.sub(' ',body)        \n",
    "        final_body = re.sub(pattern, ' ', body)\n",
    "        bodies.append(final_body)\n",
    "\n",
    "    df['final_body'] = bodies\n",
    "    df.drop(['body'], inplace=True, axis=1)\n",
    "    df.columns = ['title', 'tags','body']\n",
    "    \n",
    "    return df\n",
    "    "
   ]
  },
  {
   "cell_type": "code",
   "execution_count": 18,
   "metadata": {},
   "outputs": [],
   "source": [
    "data = removeUselessChars(data,'test')"
   ]
  },
  {
   "cell_type": "code",
   "execution_count": 19,
   "metadata": {},
   "outputs": [
    {
     "data": {
      "text/html": [
       "<div>\n",
       "<style scoped>\n",
       "    .dataframe tbody tr th:only-of-type {\n",
       "        vertical-align: middle;\n",
       "    }\n",
       "\n",
       "    .dataframe tbody tr th {\n",
       "        vertical-align: top;\n",
       "    }\n",
       "\n",
       "    .dataframe thead th {\n",
       "        text-align: right;\n",
       "    }\n",
       "</style>\n",
       "<table border=\"1\" class=\"dataframe\">\n",
       "  <thead>\n",
       "    <tr style=\"text-align: right;\">\n",
       "      <th></th>\n",
       "      <th>title</th>\n",
       "      <th>tags</th>\n",
       "      <th>body</th>\n",
       "    </tr>\n",
       "  </thead>\n",
       "  <tbody>\n",
       "    <tr>\n",
       "      <th>1</th>\n",
       "      <td>How to programmatically edit the routing table</td>\n",
       "      <td>&lt;c&gt;&lt;linux&gt;&lt;networking&gt;</td>\n",
       "      <td>How to programmatically edit the routing table I am writing a daemon running on an embedded platform that needs to change the default route of the device according to which interface it is connecting on at a given time   How can I do this programatically   I know I can use system  route del default    route add default gateway blah    etc but is there a more direct way  UPDATE  I solved my particular problem by discovering a patch to pppd that allows a replacedefaultroute option  The patch also includes code for programmatically modifying the routing table  It is included in this gentoo bug report</td>\n",
       "    </tr>\n",
       "    <tr>\n",
       "      <th>2</th>\n",
       "      <td>How to erase the content on a graphics in GDI+?</td>\n",
       "      <td>&lt;canvas&gt;&lt;gdi+&gt;</td>\n",
       "      <td>How to erase the content on a graphics in GDI+  I am using gdi+  in c++   There are two problems      I find the canvasImg is black  How can I change the color to white  I mean I want an white canvas      If I have drawn some thing on the canvas  How can I clear the canvas  Many Thanks</td>\n",
       "    </tr>\n",
       "    <tr>\n",
       "      <th>3</th>\n",
       "      <td>How do I access the state of individual bits of a word in MIPS?</td>\n",
       "      <td>&lt;assembly&gt;&lt;bit-manipulation&gt;&lt;mips&gt;</td>\n",
       "      <td>How do I access the state of individual bits of a word in MIPS  I m writing a program and I need to determine if bits   and   are set   I know that I can rotate a word or left right shift it  But how do I access individual bit s state   Do I use a bitwise operator like and xor</td>\n",
       "    </tr>\n",
       "    <tr>\n",
       "      <th>4</th>\n",
       "      <td>How to handle a closing application event in Java?</td>\n",
       "      <td>&lt;java&gt;&lt;events&gt;&lt;listener&gt;</td>\n",
       "      <td>How to handle a closing application event in Java  Having a console application  a server accepting several connections from clients  is it possible to have a listener or an event on a closing application   I want  in this event  tell all connected clients to gently disconnect before the application really closes itself  Any solution   Thank you</td>\n",
       "    </tr>\n",
       "    <tr>\n",
       "      <th>5</th>\n",
       "      <td>Reading file contents on the client-side in javascript in various browsers</td>\n",
       "      <td>&lt;javascript&gt;&lt;html&gt;&lt;file-io&gt;&lt;sandbox&gt;</td>\n",
       "      <td>Reading file contents on the client side in javascript in various browsers I m attempting to provide a script only solution for reading the contents of a file on a client machine through a browser  I have a solution that works with Firefox and Internet Explorer   It s not pretty  but I m only trying things at the moment   I can call  and it will write the contents into the fileContents text area  Is there a way to do this in other browsers  I m most concerned with Safari and Chrome at the moment  but I m open to suggestions for any other browser  Edit  In response to the question   Why do you want to do this    Basically  I want to hash the file contents together with a one time password on the client side so I can send this information back as a verification</td>\n",
       "    </tr>\n",
       "  </tbody>\n",
       "</table>\n",
       "</div>"
      ],
      "text/plain": [
       "                                                                        title  \\\n",
       "1                              How to programmatically edit the routing table   \n",
       "2                             How to erase the content on a graphics in GDI+?   \n",
       "3             How do I access the state of individual bits of a word in MIPS?   \n",
       "4                          How to handle a closing application event in Java?   \n",
       "5  Reading file contents on the client-side in javascript in various browsers   \n",
       "\n",
       "                                   tags  \\\n",
       "1                <c><linux><networking>   \n",
       "2                        <canvas><gdi+>   \n",
       "3    <assembly><bit-manipulation><mips>   \n",
       "4              <java><events><listener>   \n",
       "5  <javascript><html><file-io><sandbox>   \n",
       "\n",
       "                                                                                                                                                                                                                                                                                                                                                                                                                                                                                                                                                                                                                                                                                                                                                                                                  body  \n",
       "1                                                                                                                                                                       How to programmatically edit the routing table I am writing a daemon running on an embedded platform that needs to change the default route of the device according to which interface it is connecting on at a given time   How can I do this programatically   I know I can use system  route del default    route add default gateway blah    etc but is there a more direct way  UPDATE  I solved my particular problem by discovering a patch to pppd that allows a replacedefaultroute option  The patch also includes code for programmatically modifying the routing table  It is included in this gentoo bug report    \n",
       "2                                                                                                                                                                                                                                                                                                                                                                                                                                                                                                     How to erase the content on a graphics in GDI+  I am using gdi+  in c++   There are two problems      I find the canvasImg is black  How can I change the color to white  I mean I want an white canvas      If I have drawn some thing on the canvas  How can I clear the canvas  Many Thanks    \n",
       "3                                                                                                                                                                                                                                                                                                                                                                                                                                                                                                              How do I access the state of individual bits of a word in MIPS  I m writing a program and I need to determine if bits   and   are set   I know that I can rotate a word or left right shift it  But how do I access individual bit s state   Do I use a bitwise operator like and xor    \n",
       "4                                                                                                                                                                                                                                                                                                                                                                                                                                        How to handle a closing application event in Java  Having a console application  a server accepting several connections from clients  is it possible to have a listener or an event on a closing application   I want  in this event  tell all connected clients to gently disconnect before the application really closes itself  Any solution   Thank you    \n",
       "5  Reading file contents on the client side in javascript in various browsers I m attempting to provide a script only solution for reading the contents of a file on a client machine through a browser  I have a solution that works with Firefox and Internet Explorer   It s not pretty  but I m only trying things at the moment   I can call  and it will write the contents into the fileContents text area  Is there a way to do this in other browsers  I m most concerned with Safari and Chrome at the moment  but I m open to suggestions for any other browser  Edit  In response to the question   Why do you want to do this    Basically  I want to hash the file contents together with a one time password on the client side so I can send this information back as a verification    "
      ]
     },
     "execution_count": 19,
     "metadata": {},
     "output_type": "execute_result"
    }
   ],
   "source": [
    "data.head()"
   ]
  },
  {
   "cell_type": "markdown",
   "metadata": {},
   "source": [
    "### Lower \n",
    "\n",
    "On passe tout en minuscules"
   ]
  },
  {
   "cell_type": "code",
   "execution_count": 20,
   "metadata": {},
   "outputs": [],
   "source": [
    "\"\"\"\n",
    "-----------------------------------------------------------------\n",
    "Desc:   toLowerCase \n",
    "Input:  Dataset\n",
    "Output: dataset with body feature to lower case   \n",
    "\n",
    "Traitements appliqués : \n",
    "- remove \n",
    "- create new column with extracted text\n",
    "- \n",
    "-----------------------------------------------------------------\n",
    "\"\"\"\n",
    "def toLowerCase(df, caller):\n",
    "    bodies = []\n",
    "    \n",
    "    for body in data['body']: \n",
    "        final_body = body.lower()\n",
    "        bodies.append(final_body)\n",
    "\n",
    "    df['final_body'] = bodies\n",
    "    df.drop(['body'], inplace=True, axis=1)\n",
    "    df.columns = ['title', 'tags','body']\n",
    "    \n",
    "    return df"
   ]
  },
  {
   "cell_type": "code",
   "execution_count": 21,
   "metadata": {},
   "outputs": [],
   "source": [
    "data = toLowerCase(data,'test')"
   ]
  },
  {
   "cell_type": "code",
   "execution_count": 22,
   "metadata": {},
   "outputs": [
    {
     "data": {
      "text/html": [
       "<div>\n",
       "<style scoped>\n",
       "    .dataframe tbody tr th:only-of-type {\n",
       "        vertical-align: middle;\n",
       "    }\n",
       "\n",
       "    .dataframe tbody tr th {\n",
       "        vertical-align: top;\n",
       "    }\n",
       "\n",
       "    .dataframe thead th {\n",
       "        text-align: right;\n",
       "    }\n",
       "</style>\n",
       "<table border=\"1\" class=\"dataframe\">\n",
       "  <thead>\n",
       "    <tr style=\"text-align: right;\">\n",
       "      <th></th>\n",
       "      <th>title</th>\n",
       "      <th>tags</th>\n",
       "      <th>body</th>\n",
       "    </tr>\n",
       "  </thead>\n",
       "  <tbody>\n",
       "    <tr>\n",
       "      <th>1</th>\n",
       "      <td>How to programmatically edit the routing table</td>\n",
       "      <td>&lt;c&gt;&lt;linux&gt;&lt;networking&gt;</td>\n",
       "      <td>how to programmatically edit the routing table i am writing a daemon running on an embedded platform that needs to change the default route of the device according to which interface it is connecting on at a given time   how can i do this programatically   i know i can use system  route del default    route add default gateway blah    etc but is there a more direct way  update  i solved my particular problem by discovering a patch to pppd that allows a replacedefaultroute option  the patch also includes code for programmatically modifying the routing table  it is included in this gentoo bug report</td>\n",
       "    </tr>\n",
       "    <tr>\n",
       "      <th>2</th>\n",
       "      <td>How to erase the content on a graphics in GDI+?</td>\n",
       "      <td>&lt;canvas&gt;&lt;gdi+&gt;</td>\n",
       "      <td>how to erase the content on a graphics in gdi+  i am using gdi+  in c++   there are two problems      i find the canvasimg is black  how can i change the color to white  i mean i want an white canvas      if i have drawn some thing on the canvas  how can i clear the canvas  many thanks</td>\n",
       "    </tr>\n",
       "    <tr>\n",
       "      <th>3</th>\n",
       "      <td>How do I access the state of individual bits of a word in MIPS?</td>\n",
       "      <td>&lt;assembly&gt;&lt;bit-manipulation&gt;&lt;mips&gt;</td>\n",
       "      <td>how do i access the state of individual bits of a word in mips  i m writing a program and i need to determine if bits   and   are set   i know that i can rotate a word or left right shift it  but how do i access individual bit s state   do i use a bitwise operator like and xor</td>\n",
       "    </tr>\n",
       "    <tr>\n",
       "      <th>4</th>\n",
       "      <td>How to handle a closing application event in Java?</td>\n",
       "      <td>&lt;java&gt;&lt;events&gt;&lt;listener&gt;</td>\n",
       "      <td>how to handle a closing application event in java  having a console application  a server accepting several connections from clients  is it possible to have a listener or an event on a closing application   i want  in this event  tell all connected clients to gently disconnect before the application really closes itself  any solution   thank you</td>\n",
       "    </tr>\n",
       "    <tr>\n",
       "      <th>5</th>\n",
       "      <td>Reading file contents on the client-side in javascript in various browsers</td>\n",
       "      <td>&lt;javascript&gt;&lt;html&gt;&lt;file-io&gt;&lt;sandbox&gt;</td>\n",
       "      <td>reading file contents on the client side in javascript in various browsers i m attempting to provide a script only solution for reading the contents of a file on a client machine through a browser  i have a solution that works with firefox and internet explorer   it s not pretty  but i m only trying things at the moment   i can call  and it will write the contents into the filecontents text area  is there a way to do this in other browsers  i m most concerned with safari and chrome at the moment  but i m open to suggestions for any other browser  edit  in response to the question   why do you want to do this    basically  i want to hash the file contents together with a one time password on the client side so i can send this information back as a verification</td>\n",
       "    </tr>\n",
       "  </tbody>\n",
       "</table>\n",
       "</div>"
      ],
      "text/plain": [
       "                                                                        title  \\\n",
       "1                              How to programmatically edit the routing table   \n",
       "2                             How to erase the content on a graphics in GDI+?   \n",
       "3             How do I access the state of individual bits of a word in MIPS?   \n",
       "4                          How to handle a closing application event in Java?   \n",
       "5  Reading file contents on the client-side in javascript in various browsers   \n",
       "\n",
       "                                   tags  \\\n",
       "1                <c><linux><networking>   \n",
       "2                        <canvas><gdi+>   \n",
       "3    <assembly><bit-manipulation><mips>   \n",
       "4              <java><events><listener>   \n",
       "5  <javascript><html><file-io><sandbox>   \n",
       "\n",
       "                                                                                                                                                                                                                                                                                                                                                                                                                                                                                                                                                                                                                                                                                                                                                                                                  body  \n",
       "1                                                                                                                                                                       how to programmatically edit the routing table i am writing a daemon running on an embedded platform that needs to change the default route of the device according to which interface it is connecting on at a given time   how can i do this programatically   i know i can use system  route del default    route add default gateway blah    etc but is there a more direct way  update  i solved my particular problem by discovering a patch to pppd that allows a replacedefaultroute option  the patch also includes code for programmatically modifying the routing table  it is included in this gentoo bug report    \n",
       "2                                                                                                                                                                                                                                                                                                                                                                                                                                                                                                     how to erase the content on a graphics in gdi+  i am using gdi+  in c++   there are two problems      i find the canvasimg is black  how can i change the color to white  i mean i want an white canvas      if i have drawn some thing on the canvas  how can i clear the canvas  many thanks    \n",
       "3                                                                                                                                                                                                                                                                                                                                                                                                                                                                                                              how do i access the state of individual bits of a word in mips  i m writing a program and i need to determine if bits   and   are set   i know that i can rotate a word or left right shift it  but how do i access individual bit s state   do i use a bitwise operator like and xor    \n",
       "4                                                                                                                                                                                                                                                                                                                                                                                                                                        how to handle a closing application event in java  having a console application  a server accepting several connections from clients  is it possible to have a listener or an event on a closing application   i want  in this event  tell all connected clients to gently disconnect before the application really closes itself  any solution   thank you    \n",
       "5  reading file contents on the client side in javascript in various browsers i m attempting to provide a script only solution for reading the contents of a file on a client machine through a browser  i have a solution that works with firefox and internet explorer   it s not pretty  but i m only trying things at the moment   i can call  and it will write the contents into the filecontents text area  is there a way to do this in other browsers  i m most concerned with safari and chrome at the moment  but i m open to suggestions for any other browser  edit  in response to the question   why do you want to do this    basically  i want to hash the file contents together with a one time password on the client side so i can send this information back as a verification    "
      ]
     },
     "execution_count": 22,
     "metadata": {},
     "output_type": "execute_result"
    }
   ],
   "source": [
    "data.head()"
   ]
  },
  {
   "cell_type": "markdown",
   "metadata": {},
   "source": [
    "### Traitement des stopwords"
   ]
  },
  {
   "cell_type": "code",
   "execution_count": 23,
   "metadata": {},
   "outputs": [],
   "source": [
    "\"\"\"\n",
    "-----------------------------------------------------------------\n",
    "Desc:   unitary stopwords removal function \n",
    "Input:  text\n",
    "Output: text without stopwords   \n",
    "\n",
    "Traitements appliqués : \n",
    "- stop words removal \n",
    "-----------------------------------------------------------------\n",
    "\"\"\"\n",
    "def remove_stopwords(text):\n",
    "    stop_words = set(stopwords.words('english')) \n",
    "    #print(text)\n",
    "    word_tokens = word_tokenize(text) \n",
    "\n",
    "    filtered_text = ' '.join(w for w in word_tokens if not w in stop_words)\n",
    "   \n",
    "    return filtered_text\n",
    "    "
   ]
  },
  {
   "cell_type": "code",
   "execution_count": 24,
   "metadata": {},
   "outputs": [],
   "source": [
    "\"\"\"\n",
    "-----------------------------------------------------------------\n",
    "Desc:   Suppress stopwords, english corpus \n",
    "Input:  Dataset\n",
    "Output: dataset with body feature without stopwords   \n",
    "\n",
    "Traitements appliqués : \n",
    "- remove \n",
    "- create new column with extracted text\n",
    "- \n",
    "-----------------------------------------------------------------\n",
    "\"\"\"\n",
    "def removeStopwords(df, caller):\n",
    "    bodies = []\n",
    "\n",
    "    df['no_stop_words'] = df.body.apply(remove_stopwords)    \n",
    "\n",
    "    df.drop(['body'], inplace=True, axis=1)\n",
    "    df.columns = ['title', 'tags','body']\n",
    "    \n",
    "    return df\n",
    "  \n"
   ]
  },
  {
   "cell_type": "code",
   "execution_count": 25,
   "metadata": {},
   "outputs": [],
   "source": [
    "data = removeStopwords(data,'test')"
   ]
  },
  {
   "cell_type": "code",
   "execution_count": 26,
   "metadata": {},
   "outputs": [
    {
     "data": {
      "text/html": [
       "<div>\n",
       "<style scoped>\n",
       "    .dataframe tbody tr th:only-of-type {\n",
       "        vertical-align: middle;\n",
       "    }\n",
       "\n",
       "    .dataframe tbody tr th {\n",
       "        vertical-align: top;\n",
       "    }\n",
       "\n",
       "    .dataframe thead th {\n",
       "        text-align: right;\n",
       "    }\n",
       "</style>\n",
       "<table border=\"1\" class=\"dataframe\">\n",
       "  <thead>\n",
       "    <tr style=\"text-align: right;\">\n",
       "      <th></th>\n",
       "      <th>title</th>\n",
       "      <th>tags</th>\n",
       "      <th>body</th>\n",
       "    </tr>\n",
       "  </thead>\n",
       "  <tbody>\n",
       "    <tr>\n",
       "      <th>1</th>\n",
       "      <td>How to programmatically edit the routing table</td>\n",
       "      <td>&lt;c&gt;&lt;linux&gt;&lt;networking&gt;</td>\n",
       "      <td>programmatically edit routing table writing daemon running embedded platform needs change default route device according interface connecting given time programatically know use system route del default route add default gateway blah etc direct way update solved particular problem discovering patch pppd allows replacedefaultroute option patch also includes code programmatically modifying routing table included gentoo bug report</td>\n",
       "    </tr>\n",
       "    <tr>\n",
       "      <th>2</th>\n",
       "      <td>How to erase the content on a graphics in GDI+?</td>\n",
       "      <td>&lt;canvas&gt;&lt;gdi+&gt;</td>\n",
       "      <td>erase content graphics gdi+ using gdi+ c++ two problems find canvasimg black change color white mean want white canvas drawn thing canvas clear canvas many thanks</td>\n",
       "    </tr>\n",
       "    <tr>\n",
       "      <th>3</th>\n",
       "      <td>How do I access the state of individual bits of a word in MIPS?</td>\n",
       "      <td>&lt;assembly&gt;&lt;bit-manipulation&gt;&lt;mips&gt;</td>\n",
       "      <td>access state individual bits word mips writing program need determine bits set know rotate word left right shift access individual bit state use bitwise operator like xor</td>\n",
       "    </tr>\n",
       "    <tr>\n",
       "      <th>4</th>\n",
       "      <td>How to handle a closing application event in Java?</td>\n",
       "      <td>&lt;java&gt;&lt;events&gt;&lt;listener&gt;</td>\n",
       "      <td>handle closing application event java console application server accepting several connections clients possible listener event closing application want event tell connected clients gently disconnect application really closes solution thank</td>\n",
       "    </tr>\n",
       "    <tr>\n",
       "      <th>5</th>\n",
       "      <td>Reading file contents on the client-side in javascript in various browsers</td>\n",
       "      <td>&lt;javascript&gt;&lt;html&gt;&lt;file-io&gt;&lt;sandbox&gt;</td>\n",
       "      <td>reading file contents client side javascript various browsers attempting provide script solution reading contents file client machine browser solution works firefox internet explorer pretty trying things moment call write contents filecontents text area way browsers concerned safari chrome moment open suggestions browser edit response question want basically want hash file contents together one time password client side send information back verification</td>\n",
       "    </tr>\n",
       "  </tbody>\n",
       "</table>\n",
       "</div>"
      ],
      "text/plain": [
       "                                                                        title  \\\n",
       "1                              How to programmatically edit the routing table   \n",
       "2                             How to erase the content on a graphics in GDI+?   \n",
       "3             How do I access the state of individual bits of a word in MIPS?   \n",
       "4                          How to handle a closing application event in Java?   \n",
       "5  Reading file contents on the client-side in javascript in various browsers   \n",
       "\n",
       "                                   tags  \\\n",
       "1                <c><linux><networking>   \n",
       "2                        <canvas><gdi+>   \n",
       "3    <assembly><bit-manipulation><mips>   \n",
       "4              <java><events><listener>   \n",
       "5  <javascript><html><file-io><sandbox>   \n",
       "\n",
       "                                                                                                                                                                                                                                                                                                                                                                                                                                                                         body  \n",
       "1                             programmatically edit routing table writing daemon running embedded platform needs change default route device according interface connecting given time programatically know use system route del default route add default gateway blah etc direct way update solved particular problem discovering patch pppd allows replacedefaultroute option patch also includes code programmatically modifying routing table included gentoo bug report  \n",
       "2                                                                                                                                                                                                                                                                                                          erase content graphics gdi+ using gdi+ c++ two problems find canvasimg black change color white mean want white canvas drawn thing canvas clear canvas many thanks  \n",
       "3                                                                                                                                                                                                                                                                                                  access state individual bits word mips writing program need determine bits set know rotate word left right shift access individual bit state use bitwise operator like xor  \n",
       "4                                                                                                                                                                                                                             handle closing application event java console application server accepting several connections clients possible listener event closing application want event tell connected clients gently disconnect application really closes solution thank  \n",
       "5  reading file contents client side javascript various browsers attempting provide script solution reading contents file client machine browser solution works firefox internet explorer pretty trying things moment call write contents filecontents text area way browsers concerned safari chrome moment open suggestions browser edit response question want basically want hash file contents together one time password client side send information back verification  "
      ]
     },
     "execution_count": 26,
     "metadata": {},
     "output_type": "execute_result"
    }
   ],
   "source": [
    "data.head()"
   ]
  },
  {
   "cell_type": "markdown",
   "metadata": {},
   "source": [
    "### Lemmatization & Stemming\n",
    "\n",
    "Pour constituer un ensemble homogène non inutilement redondant on va appliquer une méthode de normalisation. Nous avons le choix entre : \n",
    "\n",
    "- Stemming \n",
    "    - Troncage du terme vers sa racine la plus significative par identification de préfixes et/ou suffixes probables\n",
    "    - Ex: studies --> studi\n",
    "- Lemmatization\n",
    "    - Mutation du terme vers sa forme sémantique la plus significative\n",
    "    - Ex: studies --> study\n",
    "\n",
    "Pour notre projet nous allons d'abord procéder à la lemmatisation, puis passer ensuite une stemmisation.\n",
    "\n",
    "A noter qu'au passage par la fonction l'output résultant aura tokenisé le body."
   ]
  },
  {
   "cell_type": "code",
   "execution_count": 27,
   "metadata": {},
   "outputs": [],
   "source": [
    "\"\"\"\n",
    "-----------------------------------------------------------------\n",
    "Desc:   unitary Lemmatization & Stemming\n",
    "Input:  text\n",
    "Output: lemmatized and stemmed text   \n",
    "\n",
    "Traitements appliqués : \n",
    "- lemmatization \n",
    "- stemming\n",
    "-----------------------------------------------------------------\n",
    "\"\"\"\n",
    "def lemmatize_stem_text(text):\n",
    "    w_tokenizer = nltk.tokenize.WhitespaceTokenizer()\n",
    "    stemmer = EnglishStemmer()\n",
    "    return [stemmer.stem(WordNetLemmatizer().lemmatize(w, pos='v')) for w in w_tokenizer.tokenize(text)]\n"
   ]
  },
  {
   "cell_type": "code",
   "execution_count": 28,
   "metadata": {},
   "outputs": [],
   "source": [
    "\"\"\"\n",
    "-----------------------------------------------------------------\n",
    "Desc:   Lemmatization & Stemming\n",
    "Input:  Dataset\n",
    "Output: dataset with body feature normalized by lemmatization and stemming  \n",
    "\n",
    "Traitements appliqués : \n",
    "- remove \n",
    "- create new column with extracted text\n",
    "- \n",
    "-----------------------------------------------------------------\n",
    "\"\"\"\n",
    "def normalize(df, caller):\n",
    "    bodies = []\n",
    "\n",
    "    df['text_lemmatized'] = df.body.apply(lemmatize_stem_text)    \n",
    "\n",
    "    df.drop(['body'], inplace=True, axis=1)\n",
    "    df.columns = ['title', 'tags','body']\n",
    "    \n",
    "    return df"
   ]
  },
  {
   "cell_type": "code",
   "execution_count": 29,
   "metadata": {},
   "outputs": [],
   "source": [
    "data = normalize(data,'test')"
   ]
  },
  {
   "cell_type": "code",
   "execution_count": 30,
   "metadata": {},
   "outputs": [
    {
     "data": {
      "text/html": [
       "<div>\n",
       "<style scoped>\n",
       "    .dataframe tbody tr th:only-of-type {\n",
       "        vertical-align: middle;\n",
       "    }\n",
       "\n",
       "    .dataframe tbody tr th {\n",
       "        vertical-align: top;\n",
       "    }\n",
       "\n",
       "    .dataframe thead th {\n",
       "        text-align: right;\n",
       "    }\n",
       "</style>\n",
       "<table border=\"1\" class=\"dataframe\">\n",
       "  <thead>\n",
       "    <tr style=\"text-align: right;\">\n",
       "      <th></th>\n",
       "      <th>title</th>\n",
       "      <th>tags</th>\n",
       "      <th>body</th>\n",
       "    </tr>\n",
       "  </thead>\n",
       "  <tbody>\n",
       "    <tr>\n",
       "      <th>1</th>\n",
       "      <td>How to programmatically edit the routing table</td>\n",
       "      <td>&lt;c&gt;&lt;linux&gt;&lt;networking&gt;</td>\n",
       "      <td>[programmat, edit, rout, tabl, write, daemon, run, emb, platform, need, chang, default, rout, devic, accord, interfac, connect, give, time, programat, know, use, system, rout, del, default, rout, add, default, gateway, blah, etc, direct, way, updat, solv, particular, problem, discov, patch, pppd, allow, replacedefaultrout, option, patch, also, includ, code, programmat, modifi, rout, tabl, includ, gentoo, bug, report]</td>\n",
       "    </tr>\n",
       "    <tr>\n",
       "      <th>2</th>\n",
       "      <td>How to erase the content on a graphics in GDI+?</td>\n",
       "      <td>&lt;canvas&gt;&lt;gdi+&gt;</td>\n",
       "      <td>[eras, content, graphic, gdi+, use, gdi+, c++, two, problem, find, canvasimg, black, chang, color, white, mean, want, white, canva, draw, thing, canva, clear, canva, mani, thank]</td>\n",
       "    </tr>\n",
       "    <tr>\n",
       "      <th>3</th>\n",
       "      <td>How do I access the state of individual bits of a word in MIPS?</td>\n",
       "      <td>&lt;assembly&gt;&lt;bit-manipulation&gt;&lt;mips&gt;</td>\n",
       "      <td>[access, state, individu, bit, word, mip, write, program, need, determin, bit, set, know, rotat, word, leav, right, shift, access, individu, bite, state, use, bitwis, oper, like, xor]</td>\n",
       "    </tr>\n",
       "    <tr>\n",
       "      <th>4</th>\n",
       "      <td>How to handle a closing application event in Java?</td>\n",
       "      <td>&lt;java&gt;&lt;events&gt;&lt;listener&gt;</td>\n",
       "      <td>[handl, close, applic, event, java, consol, applic, server, accept, sever, connect, client, possibl, listen, event, close, applic, want, event, tell, connect, client, gentl, disconnect, applic, realli, close, solut, thank]</td>\n",
       "    </tr>\n",
       "    <tr>\n",
       "      <th>5</th>\n",
       "      <td>Reading file contents on the client-side in javascript in various browsers</td>\n",
       "      <td>&lt;javascript&gt;&lt;html&gt;&lt;file-io&gt;&lt;sandbox&gt;</td>\n",
       "      <td>[read, file, content, client, side, javascript, various, browser, attempt, provid, script, solut, read, content, file, client, machin, browser, solut, work, firefox, internet, explor, pretti, tri, thing, moment, call, write, content, filecont, text, area, way, browser, concern, safari, chrome, moment, open, suggest, browser, edit, respons, question, want, basic, want, hash, file, content, togeth, one, time, password, client, side, send, inform, back, verif]</td>\n",
       "    </tr>\n",
       "  </tbody>\n",
       "</table>\n",
       "</div>"
      ],
      "text/plain": [
       "                                                                        title  \\\n",
       "1                              How to programmatically edit the routing table   \n",
       "2                             How to erase the content on a graphics in GDI+?   \n",
       "3             How do I access the state of individual bits of a word in MIPS?   \n",
       "4                          How to handle a closing application event in Java?   \n",
       "5  Reading file contents on the client-side in javascript in various browsers   \n",
       "\n",
       "                                   tags  \\\n",
       "1                <c><linux><networking>   \n",
       "2                        <canvas><gdi+>   \n",
       "3    <assembly><bit-manipulation><mips>   \n",
       "4              <java><events><listener>   \n",
       "5  <javascript><html><file-io><sandbox>   \n",
       "\n",
       "                                                                                                                                                                                                                                                                                                                                                                                                                                                                            body  \n",
       "1                                           [programmat, edit, rout, tabl, write, daemon, run, emb, platform, need, chang, default, rout, devic, accord, interfac, connect, give, time, programat, know, use, system, rout, del, default, rout, add, default, gateway, blah, etc, direct, way, updat, solv, particular, problem, discov, patch, pppd, allow, replacedefaultrout, option, patch, also, includ, code, programmat, modifi, rout, tabl, includ, gentoo, bug, report]  \n",
       "2                                                                                                                                                                                                                                                                                             [eras, content, graphic, gdi+, use, gdi+, c++, two, problem, find, canvasimg, black, chang, color, white, mean, want, white, canva, draw, thing, canva, clear, canva, mani, thank]  \n",
       "3                                                                                                                                                                                                                                                                                        [access, state, individu, bit, word, mip, write, program, need, determin, bit, set, know, rotat, word, leav, right, shift, access, individu, bite, state, use, bitwis, oper, like, xor]  \n",
       "4                                                                                                                                                                                                                                                 [handl, close, applic, event, java, consol, applic, server, accept, sever, connect, client, possibl, listen, event, close, applic, want, event, tell, connect, client, gentl, disconnect, applic, realli, close, solut, thank]  \n",
       "5  [read, file, content, client, side, javascript, various, browser, attempt, provid, script, solut, read, content, file, client, machin, browser, solut, work, firefox, internet, explor, pretti, tri, thing, moment, call, write, content, filecont, text, area, way, browser, concern, safari, chrome, moment, open, suggest, browser, edit, respons, question, want, basic, want, hash, file, content, togeth, one, time, password, client, side, send, inform, back, verif]  "
      ]
     },
     "execution_count": 30,
     "metadata": {},
     "output_type": "execute_result"
    }
   ],
   "source": [
    "data.head()"
   ]
  },
  {
   "cell_type": "markdown",
   "metadata": {},
   "source": [
    "### Traitement de la colonne tags\n",
    "\n",
    "On veut avoir une colonne contenant une liste de tags nettoyée de ses caractères < et > résultant du format de stockage en base"
   ]
  },
  {
   "cell_type": "code",
   "execution_count": 31,
   "metadata": {},
   "outputs": [],
   "source": [
    "\"\"\"\n",
    "-----------------------------------------------------------------\n",
    "Desc:   normalize tags column \n",
    "Input:  Dataset\n",
    "Output: dataset with tags feature ready to be used   \n",
    "\n",
    "Traitements appliqués : \n",
    "- remove \n",
    "- create new column with extracted text\n",
    "- \n",
    "-----------------------------------------------------------------\n",
    "\"\"\"\n",
    "def setupTags(df, caller):\n",
    "    tags = []\n",
    "    \n",
    "    for tag in data['tags']: \n",
    "        final_tags = tag.replace('<',',')\n",
    "        final_tags = final_tags.replace('>','')\n",
    "        final_tags = final_tags[1:]\n",
    "        \n",
    "        tags.append(final_tags)\n",
    "\n",
    "    df['final_tags'] = tags\n",
    "    df.drop(['tags'], inplace=True, axis=1)\n",
    "    df.columns = ['title', 'body', 'tags']\n",
    "    \n",
    "    return df"
   ]
  },
  {
   "cell_type": "code",
   "execution_count": 32,
   "metadata": {},
   "outputs": [],
   "source": [
    "data = setupTags(data,'test')"
   ]
  },
  {
   "cell_type": "code",
   "execution_count": 33,
   "metadata": {},
   "outputs": [
    {
     "data": {
      "text/html": [
       "<div>\n",
       "<style scoped>\n",
       "    .dataframe tbody tr th:only-of-type {\n",
       "        vertical-align: middle;\n",
       "    }\n",
       "\n",
       "    .dataframe tbody tr th {\n",
       "        vertical-align: top;\n",
       "    }\n",
       "\n",
       "    .dataframe thead th {\n",
       "        text-align: right;\n",
       "    }\n",
       "</style>\n",
       "<table border=\"1\" class=\"dataframe\">\n",
       "  <thead>\n",
       "    <tr style=\"text-align: right;\">\n",
       "      <th></th>\n",
       "      <th>title</th>\n",
       "      <th>body</th>\n",
       "      <th>tags</th>\n",
       "    </tr>\n",
       "  </thead>\n",
       "  <tbody>\n",
       "    <tr>\n",
       "      <th>1</th>\n",
       "      <td>How to programmatically edit the routing table</td>\n",
       "      <td>[programmat, edit, rout, tabl, write, daemon, run, emb, platform, need, chang, default, rout, devic, accord, interfac, connect, give, time, programat, know, use, system, rout, del, default, rout, add, default, gateway, blah, etc, direct, way, updat, solv, particular, problem, discov, patch, pppd, allow, replacedefaultrout, option, patch, also, includ, code, programmat, modifi, rout, tabl, includ, gentoo, bug, report]</td>\n",
       "      <td>c,linux,networking</td>\n",
       "    </tr>\n",
       "    <tr>\n",
       "      <th>2</th>\n",
       "      <td>How to erase the content on a graphics in GDI+?</td>\n",
       "      <td>[eras, content, graphic, gdi+, use, gdi+, c++, two, problem, find, canvasimg, black, chang, color, white, mean, want, white, canva, draw, thing, canva, clear, canva, mani, thank]</td>\n",
       "      <td>canvas,gdi+</td>\n",
       "    </tr>\n",
       "    <tr>\n",
       "      <th>3</th>\n",
       "      <td>How do I access the state of individual bits of a word in MIPS?</td>\n",
       "      <td>[access, state, individu, bit, word, mip, write, program, need, determin, bit, set, know, rotat, word, leav, right, shift, access, individu, bite, state, use, bitwis, oper, like, xor]</td>\n",
       "      <td>assembly,bit-manipulation,mips</td>\n",
       "    </tr>\n",
       "    <tr>\n",
       "      <th>4</th>\n",
       "      <td>How to handle a closing application event in Java?</td>\n",
       "      <td>[handl, close, applic, event, java, consol, applic, server, accept, sever, connect, client, possibl, listen, event, close, applic, want, event, tell, connect, client, gentl, disconnect, applic, realli, close, solut, thank]</td>\n",
       "      <td>java,events,listener</td>\n",
       "    </tr>\n",
       "    <tr>\n",
       "      <th>5</th>\n",
       "      <td>Reading file contents on the client-side in javascript in various browsers</td>\n",
       "      <td>[read, file, content, client, side, javascript, various, browser, attempt, provid, script, solut, read, content, file, client, machin, browser, solut, work, firefox, internet, explor, pretti, tri, thing, moment, call, write, content, filecont, text, area, way, browser, concern, safari, chrome, moment, open, suggest, browser, edit, respons, question, want, basic, want, hash, file, content, togeth, one, time, password, client, side, send, inform, back, verif]</td>\n",
       "      <td>javascript,html,file-io,sandbox</td>\n",
       "    </tr>\n",
       "  </tbody>\n",
       "</table>\n",
       "</div>"
      ],
      "text/plain": [
       "                                                                        title  \\\n",
       "1                              How to programmatically edit the routing table   \n",
       "2                             How to erase the content on a graphics in GDI+?   \n",
       "3             How do I access the state of individual bits of a word in MIPS?   \n",
       "4                          How to handle a closing application event in Java?   \n",
       "5  Reading file contents on the client-side in javascript in various browsers   \n",
       "\n",
       "                                                                                                                                                                                                                                                                                                                                                                                                                                                                            body  \\\n",
       "1                                           [programmat, edit, rout, tabl, write, daemon, run, emb, platform, need, chang, default, rout, devic, accord, interfac, connect, give, time, programat, know, use, system, rout, del, default, rout, add, default, gateway, blah, etc, direct, way, updat, solv, particular, problem, discov, patch, pppd, allow, replacedefaultrout, option, patch, also, includ, code, programmat, modifi, rout, tabl, includ, gentoo, bug, report]   \n",
       "2                                                                                                                                                                                                                                                                                             [eras, content, graphic, gdi+, use, gdi+, c++, two, problem, find, canvasimg, black, chang, color, white, mean, want, white, canva, draw, thing, canva, clear, canva, mani, thank]   \n",
       "3                                                                                                                                                                                                                                                                                        [access, state, individu, bit, word, mip, write, program, need, determin, bit, set, know, rotat, word, leav, right, shift, access, individu, bite, state, use, bitwis, oper, like, xor]   \n",
       "4                                                                                                                                                                                                                                                 [handl, close, applic, event, java, consol, applic, server, accept, sever, connect, client, possibl, listen, event, close, applic, want, event, tell, connect, client, gentl, disconnect, applic, realli, close, solut, thank]   \n",
       "5  [read, file, content, client, side, javascript, various, browser, attempt, provid, script, solut, read, content, file, client, machin, browser, solut, work, firefox, internet, explor, pretti, tri, thing, moment, call, write, content, filecont, text, area, way, browser, concern, safari, chrome, moment, open, suggest, browser, edit, respons, question, want, basic, want, hash, file, content, togeth, one, time, password, client, side, send, inform, back, verif]   \n",
       "\n",
       "                              tags  \n",
       "1               c,linux,networking  \n",
       "2                      canvas,gdi+  \n",
       "3   assembly,bit-manipulation,mips  \n",
       "4             java,events,listener  \n",
       "5  javascript,html,file-io,sandbox  "
      ]
     },
     "execution_count": 33,
     "metadata": {},
     "output_type": "execute_result"
    }
   ],
   "source": [
    "data.head()"
   ]
  },
  {
   "cell_type": "markdown",
   "metadata": {},
   "source": [
    "### Traitement des duplicates\n",
    "\n",
    "On supprime les mots dupliqués dans le contenu du body"
   ]
  },
  {
   "cell_type": "code",
   "execution_count": 34,
   "metadata": {},
   "outputs": [],
   "source": [
    "\"\"\"\n",
    "-----------------------------------------------------------------\n",
    "Desc:   normalize tags column \n",
    "Input:  Dataset\n",
    "Output: dataset with tags feature ready to be used   \n",
    "\n",
    "Traitements appliqués : \n",
    "- remove \n",
    "- create new column with extracted text\n",
    "- \n",
    "-----------------------------------------------------------------\n",
    "\"\"\"\n",
    "def dropDuplicates(df, caller):\n",
    "    bodies = []\n",
    "    \n",
    "    for body in data['body']: \n",
    "        final_body = list(set(body))\n",
    "        \n",
    "        bodies.append(final_body)\n",
    "\n",
    "    df['final_tags'] = bodies\n",
    "    df.drop(['body'], inplace=True, axis=1)\n",
    "    df.columns = ['title', 'tags','body']\n",
    "    \n",
    "    return df"
   ]
  },
  {
   "cell_type": "code",
   "execution_count": 35,
   "metadata": {},
   "outputs": [],
   "source": [
    "data = dropDuplicates(data,'test')"
   ]
  },
  {
   "cell_type": "code",
   "execution_count": 36,
   "metadata": {},
   "outputs": [
    {
     "data": {
      "text/html": [
       "<div>\n",
       "<style scoped>\n",
       "    .dataframe tbody tr th:only-of-type {\n",
       "        vertical-align: middle;\n",
       "    }\n",
       "\n",
       "    .dataframe tbody tr th {\n",
       "        vertical-align: top;\n",
       "    }\n",
       "\n",
       "    .dataframe thead th {\n",
       "        text-align: right;\n",
       "    }\n",
       "</style>\n",
       "<table border=\"1\" class=\"dataframe\">\n",
       "  <thead>\n",
       "    <tr style=\"text-align: right;\">\n",
       "      <th></th>\n",
       "      <th>title</th>\n",
       "      <th>tags</th>\n",
       "      <th>body</th>\n",
       "    </tr>\n",
       "  </thead>\n",
       "  <tbody>\n",
       "    <tr>\n",
       "      <th>1</th>\n",
       "      <td>How to programmatically edit the routing table</td>\n",
       "      <td>c,linux,networking</td>\n",
       "      <td>[discov, give, use, rout, need, know, updat, write, includ, modifi, allow, also, system, etc, replacedefaultrout, programat, add, code, blah, run, solv, accord, direct, edit, interfac, gateway, time, particular, report, gentoo, devic, del, platform, tabl, daemon, emb, problem, pppd, way, programmat, patch, chang, option, bug, default, connect]</td>\n",
       "    </tr>\n",
       "    <tr>\n",
       "      <th>2</th>\n",
       "      <td>How to erase the content on a graphics in GDI+?</td>\n",
       "      <td>canvas,gdi+</td>\n",
       "      <td>[use, find, two, eras, black, thank, mean, white, content, gdi+, color, c++, want, thing, canva, clear, canvasimg, problem, graphic, draw, chang, mani]</td>\n",
       "    </tr>\n",
       "    <tr>\n",
       "      <th>3</th>\n",
       "      <td>How do I access the state of individual bits of a word in MIPS?</td>\n",
       "      <td>assembly,bit-manipulation,mips</td>\n",
       "      <td>[mip, use, need, know, write, oper, right, bitwis, xor, determin, bite, state, shift, rotat, program, individu, set, word, bit, like, access, leav]</td>\n",
       "    </tr>\n",
       "    <tr>\n",
       "      <th>4</th>\n",
       "      <td>How to handle a closing application event in Java?</td>\n",
       "      <td>java,events,listener</td>\n",
       "      <td>[server, event, solut, listen, applic, thank, java, consol, sever, handl, gentl, client, want, possibl, close, accept, realli, disconnect, tell, connect]</td>\n",
       "    </tr>\n",
       "    <tr>\n",
       "      <th>5</th>\n",
       "      <td>Reading file contents on the client-side in javascript in various browsers</td>\n",
       "      <td>javascript,html,file-io,sandbox</td>\n",
       "      <td>[basic, side, provid, internet, write, javascript, script, explor, browser, solut, respons, pretti, various, call, inform, content, send, firefox, edit, suggest, client, verif, attempt, moment, hash, read, safari, filecont, concern, thing, question, want, time, chrome, open, togeth, tri, one, password, area, text, back, way, work, file, machin]</td>\n",
       "    </tr>\n",
       "  </tbody>\n",
       "</table>\n",
       "</div>"
      ],
      "text/plain": [
       "                                                                        title  \\\n",
       "1                              How to programmatically edit the routing table   \n",
       "2                             How to erase the content on a graphics in GDI+?   \n",
       "3             How do I access the state of individual bits of a word in MIPS?   \n",
       "4                          How to handle a closing application event in Java?   \n",
       "5  Reading file contents on the client-side in javascript in various browsers   \n",
       "\n",
       "                              tags  \\\n",
       "1               c,linux,networking   \n",
       "2                      canvas,gdi+   \n",
       "3   assembly,bit-manipulation,mips   \n",
       "4             java,events,listener   \n",
       "5  javascript,html,file-io,sandbox   \n",
       "\n",
       "                                                                                                                                                                                                                                                                                                                                                         body  \n",
       "1   [discov, give, use, rout, need, know, updat, write, includ, modifi, allow, also, system, etc, replacedefaultrout, programat, add, code, blah, run, solv, accord, direct, edit, interfac, gateway, time, particular, report, gentoo, devic, del, platform, tabl, daemon, emb, problem, pppd, way, programmat, patch, chang, option, bug, default, connect]  \n",
       "2                                                                                                                                                                                                     [use, find, two, eras, black, thank, mean, white, content, gdi+, color, c++, want, thing, canva, clear, canvasimg, problem, graphic, draw, chang, mani]  \n",
       "3                                                                                                                                                                                                         [mip, use, need, know, write, oper, right, bitwis, xor, determin, bite, state, shift, rotat, program, individu, set, word, bit, like, access, leav]  \n",
       "4                                                                                                                                                                                                   [server, event, solut, listen, applic, thank, java, consol, sever, handl, gentl, client, want, possibl, close, accept, realli, disconnect, tell, connect]  \n",
       "5  [basic, side, provid, internet, write, javascript, script, explor, browser, solut, respons, pretti, various, call, inform, content, send, firefox, edit, suggest, client, verif, attempt, moment, hash, read, safari, filecont, concern, thing, question, want, time, chrome, open, togeth, tri, one, password, area, text, back, way, work, file, machin]  "
      ]
     },
     "execution_count": 36,
     "metadata": {},
     "output_type": "execute_result"
    }
   ],
   "source": [
    "data.head()"
   ]
  },
  {
   "cell_type": "markdown",
   "metadata": {},
   "source": [
    "# Analyse exploratoire"
   ]
  },
  {
   "cell_type": "markdown",
   "metadata": {},
   "source": [
    "## Word Cloud"
   ]
  },
  {
   "cell_type": "code",
   "execution_count": 37,
   "metadata": {},
   "outputs": [],
   "source": [
    "count_keyword = dict()\n",
    "for index, col in data['body'].iteritems():\n",
    "    #for s in col.split(','):\n",
    "    for s in col:\n",
    "        if s in count_keyword.keys():\n",
    "            count_keyword[s] += 1\n",
    "        else:\n",
    "            count_keyword[s] = 1\n",
    "\n",
    "keyword_census = []\n",
    "for k,v in count_keyword.items():\n",
    "    keyword_census.append([k,v])\n",
    "keyword_census.sort(key = lambda x:x[1], reverse = True)"
   ]
  },
  {
   "cell_type": "code",
   "execution_count": 38,
   "metadata": {},
   "outputs": [
    {
     "data": {
      "image/png": "[encoded data removed]",
      "text/plain": [
       "<Figure size 792x648 with 1 Axes>"
      ]
     },
     "metadata": {
      "needs_background": "light"
     },
     "output_type": "display_data"
    }
   ],
   "source": [
    "fig = plt.figure(1, figsize=(11,9))\n",
    "ax1 = fig.add_subplot(1,1,1)\n",
    "words = dict()\n",
    "trunc_occurences = keyword_census[0:100]\n",
    "for s in trunc_occurences:\n",
    "    words[s[0]] = s[1]\n",
    "\n",
    "wordcloud = WordCloud(width=900,height=500, background_color='white', \n",
    "                      max_words=1628,relative_scaling=0.6,\n",
    "                      normalize_plurals=False)\n",
    "wordcloud.generate_from_frequencies(words)\n",
    "ax1.imshow(wordcloud, interpolation=\"bilinear\")\n",
    "ax1.axis('off')\n",
    "plt.show()"
   ]
  },
  {
   "cell_type": "markdown",
   "metadata": {},
   "source": [
    "## Metriques"
   ]
  },
  {
   "cell_type": "code",
   "execution_count": 45,
   "metadata": {},
   "outputs": [],
   "source": [
    "data_analysis = pd.read_csv('./dataset/dataset.csv',sep=\",\",nrows=1000)"
   ]
  },
  {
   "cell_type": "markdown",
   "metadata": {},
   "source": [
    "### Distribution du nombre de tags par question"
   ]
  },
  {
   "cell_type": "code",
   "execution_count": 48,
   "metadata": {},
   "outputs": [
    {
     "data": {
      "text/plain": [
       "Text(0, 0.5, 'Nb. Questions')"
      ]
     },
     "execution_count": 48,
     "metadata": {},
     "output_type": "execute_result"
    },
    {
     "data": {
      "image/png": "[encoded data removed]",
      "text/plain": [
       "<Figure size 864x504 with 1 Axes>"
      ]
     },
     "metadata": {
      "needs_background": "light"
     },
     "output_type": "display_data"
    }
   ],
   "source": [
    "def apply_nb_tags(str_tags):\n",
    "    return len(re.findall(r'(?<=\\<)[^\\<\\>]+(?=\\>)', str_tags))\n",
    "\n",
    "data_analysis[\"nb_tags\"] = data_analysis[\"tags\"].apply(apply_nb_tags)\n",
    "\n",
    "fig = plt.figure(figsize=(12, 7))\n",
    "plt.title(\"Distribution Nb Tags par Question\")\n",
    "ax = sns.countplot(data=data_analysis, x=\"nb_tags\")\n",
    "ax.set_xlabel(\"Nb. Tags\")\n",
    "ax.set_ylabel(\"Nb. Questions\")"
   ]
  },
  {
   "cell_type": "markdown",
   "metadata": {},
   "source": [
    "### Fréquence d'utilisation des tags"
   ]
  },
  {
   "cell_type": "markdown",
   "metadata": {},
   "source": [
    "#### Liste des tags"
   ]
  },
  {
   "cell_type": "code",
   "execution_count": 51,
   "metadata": {},
   "outputs": [
    {
     "name": "stdout",
     "output_type": "stream",
     "text": [
      "Total Number of Tags: 2920\n",
      "Number of Unique Tags: 1058\n"
     ]
    },
    {
     "data": {
      "text/plain": [
       "['.emf',\n",
       " '.htaccess',\n",
       " '.net',\n",
       " '.net-3.5',\n",
       " '32-bit',\n",
       " '3d',\n",
       " '3dcamera',\n",
       " '64-bit',\n",
       " 'ab-testing',\n",
       " 'abstract-class']"
      ]
     },
     "execution_count": 51,
     "metadata": {},
     "output_type": "execute_result"
    }
   ],
   "source": [
    "list_tags_raw=[]\n",
    "for idx in range(0, data_analysis.shape[0]):\n",
    "    #print(\"start...\",idx)\n",
    "    list_tags_raw = list_tags_raw+(re.findall(r'(?<=\\<)[^\\<\\>]+(?=\\>)', \n",
    "                           data_analysis.iloc[idx].tags))\n",
    "# list of unique tags over all questions (no limitation at most frequent tags)\n",
    "list_unique_tags = list(np.unique(list_tags_raw)) \n",
    "print('Total Number of Tags:', len(list_tags_raw))\n",
    "print(\"Number of Unique Tags:\",len(list_unique_tags))\n",
    "list_unique_tags[:10]"
   ]
  },
  {
   "cell_type": "markdown",
   "metadata": {},
   "source": [
    "#### Top 10"
   ]
  },
  {
   "cell_type": "code",
   "execution_count": 52,
   "metadata": {},
   "outputs": [
    {
     "data": {
      "text/html": [
       "<div>\n",
       "<style scoped>\n",
       "    .dataframe tbody tr th:only-of-type {\n",
       "        vertical-align: middle;\n",
       "    }\n",
       "\n",
       "    .dataframe tbody tr th {\n",
       "        vertical-align: top;\n",
       "    }\n",
       "\n",
       "    .dataframe thead th {\n",
       "        text-align: right;\n",
       "    }\n",
       "</style>\n",
       "<table border=\"1\" class=\"dataframe\">\n",
       "  <thead>\n",
       "    <tr style=\"text-align: right;\">\n",
       "      <th></th>\n",
       "      <th>Tag</th>\n",
       "    </tr>\n",
       "  </thead>\n",
       "  <tbody>\n",
       "    <tr>\n",
       "      <th>c#</th>\n",
       "      <td>161</td>\n",
       "    </tr>\n",
       "    <tr>\n",
       "      <th>.net</th>\n",
       "      <td>80</td>\n",
       "    </tr>\n",
       "    <tr>\n",
       "      <th>java</th>\n",
       "      <td>73</td>\n",
       "    </tr>\n",
       "    <tr>\n",
       "      <th>javascript</th>\n",
       "      <td>68</td>\n",
       "    </tr>\n",
       "    <tr>\n",
       "      <th>asp.net</th>\n",
       "      <td>55</td>\n",
       "    </tr>\n",
       "    <tr>\n",
       "      <th>c++</th>\n",
       "      <td>46</td>\n",
       "    </tr>\n",
       "    <tr>\n",
       "      <th>sql-server</th>\n",
       "      <td>45</td>\n",
       "    </tr>\n",
       "    <tr>\n",
       "      <th>php</th>\n",
       "      <td>43</td>\n",
       "    </tr>\n",
       "    <tr>\n",
       "      <th>sql</th>\n",
       "      <td>42</td>\n",
       "    </tr>\n",
       "    <tr>\n",
       "      <th>jquery</th>\n",
       "      <td>42</td>\n",
       "    </tr>\n",
       "  </tbody>\n",
       "</table>\n",
       "</div>"
      ],
      "text/plain": [
       "            Tag\n",
       "c#          161\n",
       ".net         80\n",
       "java         73\n",
       "javascript   68\n",
       "asp.net      55\n",
       "c++          46\n",
       "sql-server   45\n",
       "php          43\n",
       "sql          42\n",
       "jquery       42"
      ]
     },
     "execution_count": 52,
     "metadata": {},
     "output_type": "execute_result"
    }
   ],
   "source": [
    "df_tags = pd.DataFrame(list_tags_raw, columns=[\"Tag\"])\n",
    "df_tags = pd.DataFrame(df_tags.Tag.value_counts())\n",
    "df_tags.head(10)"
   ]
  },
  {
   "cell_type": "markdown",
   "metadata": {},
   "source": [
    "#### Distribution"
   ]
  },
  {
   "cell_type": "code",
   "execution_count": 62,
   "metadata": {},
   "outputs": [
    {
     "data": {
      "text/plain": [
       "Text(0, 0.5, \"Occurrences d'apparition\")"
      ]
     },
     "execution_count": 62,
     "metadata": {},
     "output_type": "execute_result"
    },
    {
     "data": {
      "image/png": "[encoded data removed]",
      "text/plain": [
       "<Figure size 864x432 with 1 Axes>"
      ]
     },
     "metadata": {
      "needs_background": "light"
     },
     "output_type": "display_data"
    }
   ],
   "source": [
    "fig = plt.figure(figsize=(12, 6))\n",
    "plt.title(\"Distribution des tags\")\n",
    "plt.plot(df_tags)\n",
    "plt.xlabel(\"Tags\")\n",
    "plt.ylabel(\"Occurrences d'apparition\")"
   ]
  },
  {
   "cell_type": "code",
   "execution_count": 69,
   "metadata": {},
   "outputs": [
    {
     "name": "stdout",
     "output_type": "stream",
     "text": [
      "Nb Tags utilisés < 160 fois : 1057 sur 1058 Tags [99.91%]\n",
      "Nb Tags utilisés >= 160 fois : 1 sur 1058 Tags [0.09%]\n",
      "Nb Tags utilisés < 100 fois : 1057 sur 1058 Tags [99.91%]\n",
      "Nb Tags utilisés >= 100 fois : 1 sur 1058 Tags [0.09%]\n",
      "Nb Tags utilisés < 60 fois : 1054 sur 1058 Tags [99.62%]\n",
      "Nb Tags utilisés >= 60 fois : 4 sur 1058 Tags [0.38%]\n",
      "Nb Tags utilisés < 40 fois : 1048 sur 1058 Tags [99.05%]\n",
      "Nb Tags utilisés >= 40 fois : 10 sur 1058 Tags [0.95%]\n",
      "Nb Tags utilisés < 15 fois : 1032 sur 1058 Tags [97.54%]\n",
      "Nb Tags utilisés >= 15 fois : 26 sur 1058 Tags [2.46%]\n"
     ]
    },
    {
     "data": {
      "text/html": [
       "<div>\n",
       "<style scoped>\n",
       "    .dataframe tbody tr th:only-of-type {\n",
       "        vertical-align: middle;\n",
       "    }\n",
       "\n",
       "    .dataframe tbody tr th {\n",
       "        vertical-align: top;\n",
       "    }\n",
       "\n",
       "    .dataframe thead th {\n",
       "        text-align: right;\n",
       "    }\n",
       "</style>\n",
       "<table border=\"1\" class=\"dataframe\">\n",
       "  <thead>\n",
       "    <tr style=\"text-align: right;\">\n",
       "      <th></th>\n",
       "      <th>nb_min_used</th>\n",
       "      <th>nb_most_used_tags</th>\n",
       "      <th>percent_of_unique_tags</th>\n",
       "    </tr>\n",
       "  </thead>\n",
       "  <tbody>\n",
       "    <tr>\n",
       "      <th>0</th>\n",
       "      <td>160</td>\n",
       "      <td>1</td>\n",
       "      <td>0.094518</td>\n",
       "    </tr>\n",
       "    <tr>\n",
       "      <th>1</th>\n",
       "      <td>100</td>\n",
       "      <td>1</td>\n",
       "      <td>0.094518</td>\n",
       "    </tr>\n",
       "    <tr>\n",
       "      <th>2</th>\n",
       "      <td>60</td>\n",
       "      <td>4</td>\n",
       "      <td>0.378072</td>\n",
       "    </tr>\n",
       "    <tr>\n",
       "      <th>3</th>\n",
       "      <td>40</td>\n",
       "      <td>10</td>\n",
       "      <td>0.945180</td>\n",
       "    </tr>\n",
       "    <tr>\n",
       "      <th>4</th>\n",
       "      <td>15</td>\n",
       "      <td>26</td>\n",
       "      <td>2.457467</td>\n",
       "    </tr>\n",
       "  </tbody>\n",
       "</table>\n",
       "</div>"
      ],
      "text/plain": [
       "   nb_min_used  nb_most_used_tags  percent_of_unique_tags\n",
       "0          160                  1                0.094518\n",
       "1          100                  1                0.094518\n",
       "2           60                  4                0.378072\n",
       "3           40                 10                0.945180\n",
       "4           15                 26                2.457467"
      ]
     },
     "execution_count": 69,
     "metadata": {},
     "output_type": "execute_result"
    }
   ],
   "source": [
    "list_nb_tags_used_min = [160, 100, 60, 40, 15]\n",
    "\n",
    "list_list_most_used =[]\n",
    "list_nb_tags_unique_most_used = []\n",
    "list_pc_tags =[]\n",
    "for nb_tags_used_min in list_nb_tags_used_min:\n",
    "    \n",
    "    list_list_most_used.append(list(df_tags[df_tags[\"Tag\"] >= \\\n",
    "                                            nb_tags_used_min].index))\n",
    "    list_nb_tags_unique_most_used.append(\n",
    "        df_tags[df_tags[\"Tag\"]>=nb_tags_used_min].shape[0])\n",
    "    \n",
    "    list_pc_tags.append(100*df_tags[df_tags[\"Tag\"]>=nb_tags_used_min].\\\n",
    "                 shape[0]/df_tags.shape[0])\n",
    "    \n",
    "    print('Nb Tags utilisés < {} fois : {} sur {} Tags [{:.2f}%]'.\\\n",
    "          format(nb_tags_used_min,\n",
    "                 df_tags[df_tags[\"Tag\"]<nb_tags_used_min].shape[0], \n",
    "                 df_tags.shape[0],\n",
    "                 100*df_tags[df_tags[\"Tag\"]<nb_tags_used_min].\\\n",
    "                 shape[0]/df_tags.shape[0]))\n",
    "\n",
    "    print('Nb Tags utilisés >= {} fois : {} sur {} Tags [{:.2f}%]'.\\\n",
    "          format(nb_tags_used_min,\n",
    "                 df_tags[df_tags[\"Tag\"]>=nb_tags_used_min].shape[0], \n",
    "                 df_tags.shape[0],\n",
    "                 100*df_tags[df_tags[\"Tag\"]>=nb_tags_used_min].\\\n",
    "                 shape[0]/df_tags.shape[0]))\n",
    "\n",
    "df_most = pd.DataFrame(data=list_nb_tags_used_min, columns=[\"nb_min_used\"])\n",
    "df_most[\"nb_most_used_tags\"] = list_nb_tags_unique_most_used\n",
    "df_most[\"percent_of_unique_tags\"] = list_pc_tags\n",
    "df_most"
   ]
  },
  {
   "cell_type": "code",
   "execution_count": 78,
   "metadata": {},
   "outputs": [
    {
     "data": {
      "text/plain": [
       "Text(0, 0.5, \"Nombre d'utilisation maximum\")"
      ]
     },
     "execution_count": 78,
     "metadata": {},
     "output_type": "execute_result"
    },
    {
     "data": {
      "image/png": "[encoded data removed]",
      "text/plain": [
       "<Figure size 864x432 with 1 Axes>"
      ]
     },
     "metadata": {
      "needs_background": "light"
     },
     "output_type": "display_data"
    }
   ],
   "source": [
    "fig = plt.figure(figsize=(12, 6))\n",
    "plt.title(\"Nb. d'utilisation max vs. Nb minimum d'occurrences\")\n",
    "plt.plot(df_most[\"nb_min_used\"],df_most[\"nb_most_used_tags\"])\n",
    "plt.xlabel(\"Nombre minimum d'utilisation\")\n",
    "plt.ylabel(\"Nombre d'utilisation maximum\")"
   ]
  },
  {
   "cell_type": "markdown",
   "metadata": {},
   "source": [
    "### Distribution du nombre de lemma par question"
   ]
  },
  {
   "cell_type": "code",
   "execution_count": 79,
   "metadata": {},
   "outputs": [
    {
     "data": {
      "text/plain": [
       "Text(0, 0.5, 'Nb. Questions')"
      ]
     },
     "execution_count": 79,
     "metadata": {},
     "output_type": "execute_result"
    },
    {
     "data": {
      "image/png": "[encoded data removed]",
      "text/plain": [
       "<Figure size 864x504 with 1 Axes>"
      ]
     },
     "metadata": {
      "needs_background": "light"
     },
     "output_type": "display_data"
    }
   ],
   "source": [
    "def apply_nb_lemmas(s):\n",
    "    return len(s)\n",
    "\n",
    "data_analysis[\"nb_lemmas\"] = data[\"body\"].apply(apply_nb_lemmas)\n",
    "\n",
    "fig = plt.figure(figsize=(12, 7))\n",
    "plt.title(\"Distribution Nb Lemmas par Question\")\n",
    "ax = sns.countplot(data=data_analysis, x=\"nb_lemmas\")\n",
    "ax.set_xlabel(\"Nb. Lemmas\")\n",
    "ax.set_ylabel(\"Nb. Questions\")"
   ]
  },
  {
   "cell_type": "code",
   "execution_count": 85,
   "metadata": {},
   "outputs": [
    {
     "data": {
      "text/plain": [
       "<AxesSubplot:title={'center':'Boxplot distribution lemmas'}>"
      ]
     },
     "execution_count": 85,
     "metadata": {},
     "output_type": "execute_result"
    },
    {
     "data": {
      "image/png": "[encoded data removed]",
      "text/plain": [
       "<Figure size 864x432 with 1 Axes>"
      ]
     },
     "metadata": {
      "needs_background": "light"
     },
     "output_type": "display_data"
    }
   ],
   "source": [
    "fig = plt.figure(figsize=(12, 6))\n",
    "plt.title(\"Boxplot distribution lemmas\")\n",
    "data_analysis.boxplot(column=['nb_lemmas'])"
   ]
  }
 ],
 "metadata": {
  "kernelspec": {
   "display_name": "Python 3",
   "language": "python",
   "name": "python3"
  },
  "language_info": {
   "codemirror_mode": {
    "name": "ipython",
    "version": 3
   },
   "file_extension": ".py",
   "mimetype": "text/x-python",
   "name": "python",
   "nbconvert_exporter": "python",
   "pygments_lexer": "ipython3",
   "version": "3.8.5"
  }
 },
 "nbformat": 4,
 "nbformat_minor": 4
}
