{
 "cells": [
  {
   "cell_type": "markdown",
   "metadata": {},
   "source": [
    "# Projet de modélisation des fonctionnalités de prédiction des tags "
   ]
  },
  {
   "cell_type": "markdown",
   "metadata": {},
   "source": [
    "## Imports"
   ]
  },
  {
   "cell_type": "code",
   "execution_count": 11,
   "metadata": {},
   "outputs": [],
   "source": [
    "import pandas as pd\n",
    "pd.options.mode.chained_assignment = None\n",
    "import numpy as np\n",
    "import matplotlib.pyplot as plt\n",
    "import seaborn as sns\n",
    "\n",
    "from datetime import datetime\n",
    "\n",
    "\n",
    "from nltk.corpus import wordnet\n",
    "from nltk.corpus import stopwords\n",
    "import nltk\n",
    "import nltk.data\n",
    "from nltk.tag import pos_tag\n",
    "from nltk.tokenize import word_tokenize\n",
    "from nltk.stem.wordnet import WordNetLemmatizer\n",
    "from nltk.corpus import stopwords\n",
    "from nltk.tokenize import word_tokenize \n",
    "import string\n",
    "from langdetect import detect\n",
    "import re\n",
    "import spacy\n",
    "from spacy.symbols import ORTH, NORM\n",
    "from langdetect import detect_langs\n",
    "import langid\n",
    "from bs4 import BeautifulSoup\n",
    "\n",
    "import gensim\n",
    "from gensim import corpora, models\n",
    "from pprint import pprint\n",
    "\n",
    "\n",
    "import warnings\n",
    "warnings.simplefilter(\"ignore\", UserWarning)\n",
    "warnings.simplefilter(action='ignore', category=pd.errors.PerformanceWarning)\n",
    "\n",
    "pd.set_option('display.max_columns', 200)\n",
    "pd.set_option('display.max_rows', 100)\n",
    "pd.set_option('display.max_colwidth', None)\n"
   ]
  },
  {
   "cell_type": "markdown",
   "metadata": {},
   "source": [
    "## Import dataset"
   ]
  },
  {
   "cell_type": "code",
   "execution_count": 2,
   "metadata": {},
   "outputs": [],
   "source": [
    "data = pd.read_csv('./dataset/preprocessed_dataset.csv',sep=\",\",nrows=1000)"
   ]
  },
  {
   "cell_type": "code",
   "execution_count": 3,
   "metadata": {},
   "outputs": [
    {
     "data": {
      "text/html": [
       "<div>\n",
       "<style scoped>\n",
       "    .dataframe tbody tr th:only-of-type {\n",
       "        vertical-align: middle;\n",
       "    }\n",
       "\n",
       "    .dataframe tbody tr th {\n",
       "        vertical-align: top;\n",
       "    }\n",
       "\n",
       "    .dataframe thead th {\n",
       "        text-align: right;\n",
       "    }\n",
       "</style>\n",
       "<table border=\"1\" class=\"dataframe\">\n",
       "  <thead>\n",
       "    <tr style=\"text-align: right;\">\n",
       "      <th></th>\n",
       "      <th>body</th>\n",
       "      <th>tags</th>\n",
       "    </tr>\n",
       "  </thead>\n",
       "  <tbody>\n",
       "    <tr>\n",
       "      <th>0</th>\n",
       "      <td>programmat edit rout tabl write daemon run emb platform need chang default rout devic accord interfac connect give time programat know use system rout del default rout add default gateway blah etc direct way updat solv particular problem discov patch pppd allow replacedefaultrout option patch also includ code programmat modifi rout tabl includ gentoo bug report</td>\n",
       "      <td>c,linux,networking</td>\n",
       "    </tr>\n",
       "    <tr>\n",
       "      <th>1</th>\n",
       "      <td>eras content graphic gdi+ use gdi+ c++ two problem find canvasimg black chang color white mean want white canva draw thing canva clear canva mani thank</td>\n",
       "      <td>canvas,gdi+</td>\n",
       "    </tr>\n",
       "    <tr>\n",
       "      <th>2</th>\n",
       "      <td>access state individu bit word mip write program need determin bit set know rotat word leav right shift access individu bite state use bitwis oper like xor</td>\n",
       "      <td>assembly,bit-manipulation,mips</td>\n",
       "    </tr>\n",
       "    <tr>\n",
       "      <th>3</th>\n",
       "      <td>handl close applic event java consol applic server accept sever connect client possibl listen event close applic want event tell connect client gentl disconnect applic realli close solut thank</td>\n",
       "      <td>java,events,listener</td>\n",
       "    </tr>\n",
       "    <tr>\n",
       "      <th>4</th>\n",
       "      <td>read file content client side javascript various browser attempt provid script solut read content file client machin browser solut work firefox internet explor pretti tri thing moment call write content filecont text area way browser concern safari chrome moment open suggest browser edit respons question want basic want hash file content togeth one time password client side send inform back verif</td>\n",
       "      <td>javascript,html,file-io,sandbox</td>\n",
       "    </tr>\n",
       "  </tbody>\n",
       "</table>\n",
       "</div>"
      ],
      "text/plain": [
       "                                                                                                                                                                                                                                                                                                                                                                                                              body  \\\n",
       "0                                      programmat edit rout tabl write daemon run emb platform need chang default rout devic accord interfac connect give time programat know use system rout del default rout add default gateway blah etc direct way updat solv particular problem discov patch pppd allow replacedefaultrout option patch also includ code programmat modifi rout tabl includ gentoo bug report   \n",
       "1                                                                                                                                                                                                                                                          eras content graphic gdi+ use gdi+ c++ two problem find canvasimg black chang color white mean want white canva draw thing canva clear canva mani thank   \n",
       "2                                                                                                                                                                                                                                                      access state individu bit word mip write program need determin bit set know rotat word leav right shift access individu bite state use bitwis oper like xor   \n",
       "3                                                                                                                                                                                                                 handl close applic event java consol applic server accept sever connect client possibl listen event close applic want event tell connect client gentl disconnect applic realli close solut thank   \n",
       "4  read file content client side javascript various browser attempt provid script solut read content file client machin browser solut work firefox internet explor pretti tri thing moment call write content filecont text area way browser concern safari chrome moment open suggest browser edit respons question want basic want hash file content togeth one time password client side send inform back verif   \n",
       "\n",
       "                              tags  \n",
       "0               c,linux,networking  \n",
       "1                      canvas,gdi+  \n",
       "2   assembly,bit-manipulation,mips  \n",
       "3             java,events,listener  \n",
       "4  javascript,html,file-io,sandbox  "
      ]
     },
     "execution_count": 3,
     "metadata": {},
     "output_type": "execute_result"
    }
   ],
   "source": [
    "data.head()"
   ]
  },
  {
   "cell_type": "markdown",
   "metadata": {},
   "source": [
    "## Bag of Words"
   ]
  },
  {
   "cell_type": "code",
   "execution_count": 4,
   "metadata": {},
   "outputs": [
    {
     "name": "stdout",
     "output_type": "stream",
     "text": [
      "0 accord\n",
      "1 add\n",
      "2 allow\n",
      "3 blah\n",
      "4 bug\n",
      "5 chang\n",
      "6 code\n",
      "7 connect\n",
      "8 daemon\n",
      "9 default\n",
      "10 del\n"
     ]
    }
   ],
   "source": [
    "def tokenize(text):\n",
    "    result = []\n",
    "    for token in gensim.utils.simple_preprocess(text):\n",
    "        if token not in gensim.parsing.preprocessing.STOPWORDS:\n",
    "            result.append(token)\n",
    "    return result\n",
    "\n",
    "processed_body = data['body'].map(tokenize)\n",
    "processed_body[:10]\n",
    "\n",
    "dictionary = gensim.corpora.Dictionary(processed_body)\n",
    "count = 0\n",
    "for k, v in dictionary.iteritems():\n",
    "    print(k, v)\n",
    "    count += 1\n",
    "    if count > 10:\n",
    "        break"
   ]
  },
  {
   "cell_type": "markdown",
   "metadata": {},
   "source": [
    "### Gensim doc2bow"
   ]
  },
  {
   "cell_type": "markdown",
   "metadata": {},
   "source": [
    "On crée pour chaque post un dictionnaire qui met en perspective combien de mots il comprend et combien de fois ce mot apparait."
   ]
  },
  {
   "cell_type": "code",
   "execution_count": 5,
   "metadata": {},
   "outputs": [],
   "source": [
    "bow_corpus = [dictionary.doc2bow(doc) for doc in processed_body]"
   ]
  },
  {
   "cell_type": "code",
   "execution_count": 8,
   "metadata": {},
   "outputs": [
    {
     "data": {
      "text/plain": [
       "[(5, 1),\n",
       " (28, 1),\n",
       " (38, 1),\n",
       " (41, 1),\n",
       " (42, 3),\n",
       " (43, 1),\n",
       " (44, 1),\n",
       " (45, 1),\n",
       " (46, 1),\n",
       " (47, 1),\n",
       " (48, 1),\n",
       " (49, 2),\n",
       " (50, 1),\n",
       " (51, 1),\n",
       " (52, 1),\n",
       " (53, 1),\n",
       " (54, 1),\n",
       " (55, 1),\n",
       " (56, 2)]"
      ]
     },
     "execution_count": 8,
     "metadata": {},
     "output_type": "execute_result"
    }
   ],
   "source": [
    "bow_corpus[1]"
   ]
  },
  {
   "cell_type": "markdown",
   "metadata": {},
   "source": [
    "### Preview du Bag of Words"
   ]
  },
  {
   "cell_type": "code",
   "execution_count": 9,
   "metadata": {},
   "outputs": [
    {
     "name": "stdout",
     "output_type": "stream",
     "text": [
      "Word 2 (\"allow\") appears 1 time.\n",
      "Word 28 (\"problem\") appears 2 time.\n",
      "Word 38 (\"use\") appears 4 time.\n",
      "Word 39 (\"way\") appears 4 time.\n",
      "Word 52 (\"mean\") appears 1 time.\n",
      "Word 53 (\"thank\") appears 1 time.\n",
      "Word 54 (\"thing\") appears 1 time.\n",
      "Word 55 (\"want\") appears 2 time.\n",
      "Word 57 (\"access\") appears 2 time.\n",
      "Word 64 (\"like\") appears 3 time.\n",
      "Word 87 (\"realli\") appears 1 time.\n",
      "Word 90 (\"solut\") appears 1 time.\n",
      "Word 110 (\"pretti\") appears 1 time.\n",
      "Word 112 (\"question\") appears 1 time.\n",
      "Word 123 (\"work\") appears 2 time.\n",
      "Word 126 (\"deriv\") appears 5 time.\n",
      "Word 134 (\"implement\") appears 3 time.\n",
      "Word 135 (\"list\") appears 1 time.\n",
      "Word 138 (\"object\") appears 1 time.\n",
      "Word 141 (\"type\") appears 11 time.\n",
      "Word 143 (\"actual\") appears 1 time.\n",
      "Word 166 (\"class\") appears 2 time.\n",
      "Word 172 (\"day\") appears 1 time.\n",
      "Word 194 (\"obvious\") appears 1 time.\n",
      "Word 209 (\"turn\") appears 1 time.\n",
      "Word 219 (\"come\") appears 2 time.\n",
      "Word 228 (\"fair\") appears 1 time.\n",
      "Word 233 (\"input\") appears 1 time.\n",
      "Word 276 (\"store\") appears 3 time.\n",
      "Word 277 (\"abil\") appears 1 time.\n",
      "Word 278 (\"abl\") appears 1 time.\n",
      "Word 279 (\"alreadi\") appears 2 time.\n",
      "Word 280 (\"arbitrari\") appears 1 time.\n",
      "Word 281 (\"ask\") appears 1 time.\n",
      "Word 282 (\"base\") appears 1 time.\n",
      "Word 283 (\"bat\") appears 1 time.\n",
      "Word 284 (\"better\") appears 1 time.\n",
      "Word 285 (\"clearer\") appears 1 time.\n",
      "Word 286 (\"compar\") appears 2 time.\n",
      "Word 287 (\"complex\") appears 1 time.\n",
      "Word 288 (\"complic\") appears 1 time.\n",
      "Word 289 (\"compon\") appears 13 time.\n",
      "Word 290 (\"conclus\") appears 1 time.\n",
      "Word 291 (\"consid\") appears 1 time.\n",
      "Word 292 (\"crew\") appears 1 time.\n",
      "Word 293 (\"current\") appears 1 time.\n",
      "Word 294 (\"custom\") appears 1 time.\n",
      "Word 295 (\"describ\") appears 1 time.\n",
      "Word 296 (\"easili\") appears 1 time.\n",
      "Word 297 (\"effect\") appears 1 time.\n",
      "Word 298 (\"element\") appears 1 time.\n",
      "Word 299 (\"entir\") appears 1 time.\n",
      "Word 300 (\"exist\") appears 1 time.\n",
      "Word 301 (\"famili\") appears 1 time.\n",
      "Word 302 (\"felt\") appears 1 time.\n",
      "Word 303 (\"figur\") appears 1 time.\n",
      "Word 304 (\"fine\") appears 1 time.\n",
      "Word 305 (\"forward\") appears 1 time.\n",
      "Word 306 (\"game\") appears 1 time.\n",
      "Word 307 (\"head\") appears 1 time.\n",
      "Word 308 (\"hierarch\") appears 1 time.\n",
      "Word 309 (\"hierarchi\") appears 1 time.\n",
      "Word 310 (\"inherit\") appears 1 time.\n",
      "Word 311 (\"iter\") appears 4 time.\n",
      "Word 312 (\"limit\") appears 1 time.\n",
      "Word 313 (\"map\") appears 1 time.\n",
      "Word 314 (\"mind\") appears 1 time.\n",
      "Word 315 (\"miss\") appears 1 time.\n",
      "Word 316 (\"model\") appears 1 time.\n",
      "Word 317 (\"needless\") appears 1 time.\n",
      "Word 318 (\"nod\") appears 1 time.\n",
      "Word 319 (\"node\") appears 4 time.\n",
      "Word 320 (\"opinion\") appears 1 time.\n",
      "Word 321 (\"order\") appears 1 time.\n",
      "Word 322 (\"pre\") appears 1 time.\n",
      "Word 323 (\"probabl\") appears 1 time.\n",
      "Word 324 (\"regardless\") appears 1 time.\n",
      "Word 325 (\"render\") appears 6 time.\n",
      "Word 326 (\"repres\") appears 1 time.\n",
      "Word 327 (\"request\") appears 3 time.\n",
      "Word 328 (\"rtti\") appears 2 time.\n",
      "Word 329 (\"rub\") appears 1 time.\n",
      "Word 330 (\"satisfactori\") appears 1 time.\n",
      "Word 331 (\"scheme\") appears 1 time.\n",
      "Word 332 (\"simpl\") appears 2 time.\n",
      "Word 333 (\"simpli\") appears 1 time.\n",
      "Word 334 (\"simplif\") appears 1 time.\n",
      "Word 335 (\"someth\") appears 1 time.\n",
      "Word 336 (\"sprite\") appears 3 time.\n",
      "Word 337 (\"stack\") appears 1 time.\n",
      "Word 338 (\"storag\") appears 2 time.\n",
      "Word 339 (\"structur\") appears 3 time.\n",
      "Word 340 (\"think\") appears 1 time.\n",
      "Word 341 (\"timer\") appears 1 time.\n",
      "Word 342 (\"track\") appears 1 time.\n",
      "Word 343 (\"tree\") appears 3 time.\n",
      "Word 344 (\"ugli\") appears 1 time.\n",
      "Word 345 (\"vector\") appears 1 time.\n"
     ]
    }
   ],
   "source": [
    "bow_show = bow_corpus[10]\n",
    "for i in range(len(bow_show)):\n",
    "    print(\"Word {} (\\\"{}\\\") appears {} time.\".format(bow_show[i][0], \n",
    "                                               dictionary[bow_show[i][0]], \n",
    "                                                bow_show[i][1]))"
   ]
  },
  {
   "cell_type": "markdown",
   "metadata": {},
   "source": [
    "## TF-IDF"
   ]
  },
  {
   "cell_type": "markdown",
   "metadata": {},
   "source": [
    "Création d'un modèle TF-IDF sur bow_corpus"
   ]
  },
  {
   "cell_type": "code",
   "execution_count": 12,
   "metadata": {},
   "outputs": [
    {
     "name": "stdout",
     "output_type": "stream",
     "text": [
      "[(0, 0.1061548209262387),\n",
      " (1, 0.05448144943500308),\n",
      " (2, 0.08236867615996893),\n",
      " (3, 0.14733915900622319),\n",
      " (4, 0.10450332741215089),\n",
      " (5, 0.053157571397341015),\n",
      " (6, 0.036744320464184396),\n",
      " (7, 0.07692938445334771),\n",
      " (8, 0.13997758535378826),\n",
      " (9, 0.25564457623776204),\n",
      " (10, 0.13426750521544115),\n",
      " (11, 0.11922647471702073),\n",
      " (12, 0.08841769195542001),\n",
      " (13, 0.12565742697602728),\n",
      " (14, 0.05919225548252903),\n",
      " (15, 0.1061548209262387),\n",
      " (16, 0.17545184329542562),\n",
      " (17, 0.17545184329542562),\n",
      " (18, 0.14967860685507386),\n",
      " (19, 0.09412777209376712),\n",
      " (20, 0.04299796055040209),\n",
      " (21, 0.10010580513078761),\n",
      " (22, 0.03911539211051107),\n",
      " (23, 0.08236867615996893),\n",
      " (24, 0.0867661984413322),\n",
      " (25, 0.27995517070757653),\n",
      " (26, 0.1061548209262387),\n",
      " (27, 0.17545184329542562),\n",
      " (28, 0.04590374219042576),\n",
      " (29, 0.12960203003540446),\n",
      " (30, 0.23306075248924493),\n",
      " (31, 0.10148934574620203),\n",
      " (32, 0.6480101501770223),\n",
      " (33, 0.04899883095440542),\n",
      " (34, 0.09308316713545667),\n",
      " (35, 0.12234504711571867),\n",
      " (36, 0.053157571397341015),\n",
      " (37, 0.05974258353171617),\n",
      " (38, 0.015470199282541456),\n",
      " (39, 0.03447062860137914),\n",
      " (40, 0.04918226735287046)]\n"
     ]
    }
   ],
   "source": [
    "tfidf = models.TfidfModel(bow_corpus)\n",
    "corpus_tfidf = tfidf[bow_corpus]\n",
    "for doc in corpus_tfidf:\n",
    "    pprint(doc)\n",
    "    break"
   ]
  },
  {
   "cell_type": "markdown",
   "metadata": {},
   "source": [
    "## Exécution d'un LDA en utilisant notre Bag of Words"
   ]
  },
  {
   "cell_type": "code",
   "execution_count": 17,
   "metadata": {},
   "outputs": [],
   "source": [
    "lda_model = gensim.models.LdaMulticore(bow_corpus, num_topics=50, id2word=dictionary, passes=2, workers=2)"
   ]
  },
  {
   "cell_type": "code",
   "execution_count": 18,
   "metadata": {},
   "outputs": [
    {
     "name": "stdout",
     "output_type": "stream",
     "text": [
      "Topic: 0 \n",
      "Words: 0.015*\"like\" + 0.013*\"work\" + 0.012*\"use\" + 0.010*\"code\" + 0.010*\"differ\" + 0.009*\"test\" + 0.008*\"implement\" + 0.008*\"set\" + 0.007*\"server\" + 0.007*\"data\"\n",
      "Topic: 1 \n",
      "Words: 0.021*\"use\" + 0.015*\"servic\" + 0.010*\"web\" + 0.010*\"html\" + 0.009*\"url\" + 0.009*\"want\" + 0.009*\"method\" + 0.009*\"net\" + 0.008*\"need\" + 0.008*\"code\"\n",
      "Topic: 2 \n",
      "Words: 0.021*\"use\" + 0.016*\"class\" + 0.015*\"applic\" + 0.013*\"problem\" + 0.012*\"file\" + 0.010*\"charact\" + 0.009*\"databas\" + 0.009*\"like\" + 0.008*\"code\" + 0.008*\"project\"\n",
      "Topic: 3 \n",
      "Words: 0.111*\"student\" + 0.015*\"cursor\" + 0.014*\"jboss\" + 0.014*\"control\" + 0.014*\"free\" + 0.013*\"studentlist\" + 0.012*\"return\" + 0.012*\"alloc\" + 0.010*\"code\" + 0.010*\"pattern\"\n",
      "Topic: 4 \n",
      "Words: 0.022*\"data\" + 0.016*\"file\" + 0.015*\"use\" + 0.013*\"row\" + 0.011*\"chang\" + 0.011*\"text\" + 0.011*\"tri\" + 0.010*\"user\" + 0.010*\"want\" + 0.009*\"way\"\n",
      "Topic: 5 \n",
      "Words: 0.017*\"process\" + 0.015*\"file\" + 0.014*\"net\" + 0.014*\"mx\" + 0.012*\"asp\" + 0.012*\"object\" + 0.011*\"client\" + 0.010*\"need\" + 0.010*\"immut\" + 0.010*\"socket\"\n",
      "Topic: 6 \n",
      "Words: 0.028*\"code\" + 0.024*\"page\" + 0.019*\"text\" + 0.018*\"net\" + 0.018*\"use\" + 0.016*\"work\" + 0.012*\"want\" + 0.012*\"array\" + 0.011*\"class\" + 0.011*\"method\"\n",
      "Topic: 7 \n",
      "Words: 0.018*\"applic\" + 0.018*\"map\" + 0.014*\"char\" + 0.012*\"use\" + 0.011*\"set\" + 0.011*\"tri\" + 0.010*\"someth\" + 0.008*\"method\" + 0.007*\"shadow\" + 0.007*\"textur\"\n",
      "Topic: 8 \n",
      "Words: 0.024*\"use\" + 0.014*\"tabl\" + 0.014*\"dll\" + 0.011*\"type\" + 0.011*\"like\" + 0.010*\"error\" + 0.009*\"way\" + 0.009*\"know\" + 0.009*\"creat\" + 0.009*\"want\"\n",
      "Topic: 9 \n",
      "Words: 0.017*\"ibas\" + 0.014*\"list\" + 0.013*\"sql\" + 0.013*\"use\" + 0.010*\"work\" + 0.009*\"assert\" + 0.008*\"cast\" + 0.008*\"code\" + 0.008*\"way\" + 0.007*\"tabl\"\n",
      "Topic: 10 \n",
      "Words: 0.016*\"code\" + 0.014*\"use\" + 0.011*\"search\" + 0.010*\"control\" + 0.010*\"need\" + 0.010*\"way\" + 0.009*\"int\" + 0.008*\"websit\" + 0.007*\"old\" + 0.007*\"global\"\n",
      "Topic: 11 \n",
      "Words: 0.018*\"creat\" + 0.017*\"class\" + 0.015*\"use\" + 0.015*\"work\" + 0.014*\"way\" + 0.014*\"file\" + 0.011*\"tri\" + 0.010*\"control\" + 0.010*\"user\" + 0.009*\"object\"\n",
      "Topic: 12 \n",
      "Words: 0.019*\"function\" + 0.016*\"creat\" + 0.016*\"use\" + 0.011*\"item\" + 0.011*\"templat\" + 0.011*\"index\" + 0.010*\"view\" + 0.010*\"class\" + 0.010*\"element\" + 0.009*\"way\"\n",
      "Topic: 13 \n",
      "Words: 0.026*\"use\" + 0.023*\"class\" + 0.018*\"file\" + 0.012*\"access\" + 0.011*\"work\" + 0.009*\"want\" + 0.008*\"function\" + 0.008*\"like\" + 0.007*\"option\" + 0.007*\"code\"\n",
      "Topic: 14 \n",
      "Words: 0.027*\"file\" + 0.016*\"data\" + 0.011*\"use\" + 0.010*\"control\" + 0.010*\"report\" + 0.009*\"want\" + 0.009*\"method\" + 0.009*\"way\" + 0.009*\"asp\" + 0.008*\"applic\"\n",
      "Topic: 15 \n",
      "Words: 0.028*\"use\" + 0.012*\"creat\" + 0.012*\"class\" + 0.011*\"want\" + 0.010*\"type\" + 0.010*\"way\" + 0.008*\"runtim\" + 0.008*\"compon\" + 0.008*\"tree\" + 0.007*\"need\"\n",
      "Topic: 16 \n",
      "Words: 0.074*\"char\" + 0.037*\"std\" + 0.030*\"boost\" + 0.024*\"regex\" + 0.023*\"trait\" + 0.019*\"basic\" + 0.016*\"const\" + 0.015*\"alloc\" + 0.014*\"gnu\" + 0.012*\"cxx\"\n",
      "Topic: 17 \n",
      "Words: 0.016*\"use\" + 0.013*\"titl\" + 0.012*\"code\" + 0.012*\"javascript\" + 0.012*\"way\" + 0.012*\"txt\" + 0.012*\"kumar\" + 0.012*\"like\" + 0.011*\"file\" + 0.009*\"need\"\n",
      "Topic: 18 \n",
      "Words: 0.020*\"serial\" + 0.018*\"string\" + 0.016*\"use\" + 0.010*\"cluster\" + 0.010*\"method\" + 0.009*\"char\" + 0.009*\"stream\" + 0.009*\"way\" + 0.009*\"server\" + 0.008*\"code\"\n",
      "Topic: 19 \n",
      "Words: 0.030*\"file\" + 0.027*\"use\" + 0.013*\"need\" + 0.011*\"work\" + 0.011*\"applic\" + 0.008*\"follow\" + 0.008*\"control\" + 0.007*\"write\" + 0.006*\"load\" + 0.006*\"add\"\n",
      "Topic: 20 \n",
      "Words: 0.031*\"column\" + 0.020*\"tabl\" + 0.017*\"file\" + 0.017*\"chang\" + 0.014*\"use\" + 0.012*\"error\" + 0.012*\"text\" + 0.011*\"tri\" + 0.011*\"need\" + 0.011*\"id\"\n",
      "Topic: 21 \n",
      "Words: 0.018*\"use\" + 0.012*\"string\" + 0.012*\"valu\" + 0.011*\"time\" + 0.010*\"list\" + 0.010*\"like\" + 0.009*\"creat\" + 0.009*\"item\" + 0.009*\"way\" + 0.009*\"server\"\n",
      "Topic: 22 \n",
      "Words: 0.041*\"word\" + 0.021*\"style\" + 0.016*\"grid\" + 0.016*\"use\" + 0.014*\"textblock\" + 0.011*\"server\" + 0.009*\"setter\" + 0.009*\"debug\" + 0.008*\"share\" + 0.008*\"php\"\n",
      "Topic: 23 \n",
      "Words: 0.017*\"use\" + 0.014*\"imag\" + 0.013*\"tab\" + 0.009*\"complet\" + 0.008*\"test\" + 0.008*\"sourc\" + 0.008*\"read\" + 0.008*\"python\" + 0.008*\"server\" + 0.008*\"set\"\n",
      "Topic: 24 \n",
      "Words: 0.018*\"run\" + 0.018*\"applic\" + 0.017*\"use\" + 0.016*\"time\" + 0.010*\"sure\" + 0.009*\"tri\" + 0.009*\"problem\" + 0.008*\"migrat\" + 0.008*\"repo\" + 0.008*\"idea\"\n",
      "Topic: 25 \n",
      "Words: 0.018*\"use\" + 0.016*\"work\" + 0.015*\"code\" + 0.015*\"class\" + 0.013*\"way\" + 0.012*\"load\" + 0.009*\"applic\" + 0.009*\"design\" + 0.009*\"librari\" + 0.008*\"object\"\n",
      "Topic: 26 \n",
      "Words: 0.030*\"file\" + 0.012*\"code\" + 0.011*\"valu\" + 0.011*\"textbox\" + 0.011*\"sql\" + 0.010*\"know\" + 0.010*\"comment\" + 0.010*\"event\" + 0.009*\"creat\" + 0.008*\"default\"\n",
      "Topic: 27 \n",
      "Words: 0.019*\"use\" + 0.011*\"way\" + 0.011*\"want\" + 0.011*\"procedur\" + 0.010*\"need\" + 0.009*\"video\" + 0.009*\"applic\" + 0.009*\"store\" + 0.009*\"creat\" + 0.008*\"server\"\n",
      "Topic: 28 \n",
      "Words: 0.024*\"valu\" + 0.022*\"use\" + 0.010*\"list\" + 0.009*\"insert\" + 0.009*\"chang\" + 0.009*\"work\" + 0.009*\"like\" + 0.009*\"file\" + 0.008*\"case\" + 0.008*\"replac\"\n",
      "Topic: 29 \n",
      "Words: 0.024*\"use\" + 0.016*\"databas\" + 0.016*\"window\" + 0.012*\"run\" + 0.010*\"correct\" + 0.010*\"applic\" + 0.010*\"mani\" + 0.009*\"wpf\" + 0.009*\"class\" + 0.009*\"color\"\n",
      "Topic: 30 \n",
      "Words: 0.017*\"use\" + 0.012*\"xml\" + 0.012*\"new\" + 0.012*\"string\" + 0.011*\"namespac\" + 0.011*\"class\" + 0.011*\"work\" + 0.010*\"object\" + 0.010*\"target\" + 0.010*\"file\"\n",
      "Topic: 31 \n",
      "Words: 0.020*\"file\" + 0.019*\"like\" + 0.016*\"add\" + 0.010*\"know\" + 0.010*\"use\" + 0.009*\"branch\" + 0.008*\"merg\" + 0.008*\"applic\" + 0.008*\"chang\" + 0.008*\"want\"\n",
      "Topic: 32 \n",
      "Words: 0.035*\"use\" + 0.016*\"like\" + 0.012*\"code\" + 0.011*\"user\" + 0.010*\"work\" + 0.009*\"run\" + 0.009*\"object\" + 0.008*\"someth\" + 0.007*\"method\" + 0.007*\"document\"\n",
      "Topic: 33 \n",
      "Words: 0.032*\"tabl\" + 0.019*\"use\" + 0.015*\"function\" + 0.013*\"menu\" + 0.012*\"count\" + 0.011*\"creat\" + 0.010*\"way\" + 0.010*\"ul\" + 0.008*\"valu\" + 0.007*\"select\"\n",
      "Topic: 34 \n",
      "Words: 0.020*\"net\" + 0.015*\"use\" + 0.012*\"word\" + 0.011*\"asp\" + 0.011*\"document\" + 0.011*\"load\" + 0.009*\"button\" + 0.009*\"edit\" + 0.009*\"time\" + 0.008*\"need\"\n",
      "Topic: 35 \n",
      "Words: 0.016*\"use\" + 0.016*\"tabl\" + 0.016*\"certif\" + 0.014*\"order\" + 0.013*\"list\" + 0.013*\"insert\" + 0.012*\"server\" + 0.011*\"wcf\" + 0.011*\"sort\" + 0.010*\"transact\"\n",
      "Topic: 36 \n",
      "Words: 0.026*\"text\" + 0.021*\"string\" + 0.016*\"bind\" + 0.016*\"properti\" + 0.012*\"return\" + 0.011*\"use\" + 0.011*\"valu\" + 0.011*\"txt\" + 0.011*\"session\" + 0.011*\"data\"\n",
      "Topic: 37 \n",
      "Words: 0.022*\"use\" + 0.013*\"file\" + 0.011*\"page\" + 0.011*\"like\" + 0.011*\"user\" + 0.010*\"work\" + 0.010*\"time\" + 0.009*\"applic\" + 0.008*\"net\" + 0.008*\"set\"\n",
      "Topic: 38 \n",
      "Words: 0.018*\"event\" + 0.018*\"item\" + 0.018*\"use\" + 0.017*\"button\" + 0.014*\"method\" + 0.011*\"string\" + 0.011*\"listbox\" + 0.010*\"work\" + 0.009*\"program\" + 0.009*\"tri\"\n",
      "Topic: 39 \n",
      "Words: 0.026*\"session\" + 0.015*\"file\" + 0.014*\"php\" + 0.012*\"use\" + 0.012*\"possibl\" + 0.011*\"cooki\" + 0.011*\"start\" + 0.010*\"like\" + 0.010*\"read\" + 0.009*\"set\"\n",
      "Topic: 40 \n",
      "Words: 0.021*\"object\" + 0.016*\"user\" + 0.011*\"test\" + 0.011*\"file\" + 0.010*\"browser\" + 0.010*\"applic\" + 0.009*\"use\" + 0.009*\"access\" + 0.009*\"larg\" + 0.009*\"data\"\n",
      "Topic: 41 \n",
      "Words: 0.034*\"use\" + 0.014*\"address\" + 0.012*\"creat\" + 0.011*\"file\" + 0.011*\"need\" + 0.010*\"line\" + 0.010*\"way\" + 0.009*\"app\" + 0.009*\"data\" + 0.009*\"filter\"\n",
      "Topic: 42 \n",
      "Words: 0.016*\"data\" + 0.014*\"row\" + 0.013*\"use\" + 0.012*\"tri\" + 0.012*\"text\" + 0.010*\"test\" + 0.010*\"gui\" + 0.009*\"server\" + 0.009*\"uiview\" + 0.009*\"excel\"\n",
      "Topic: 43 \n",
      "Words: 0.013*\"use\" + 0.013*\"time\" + 0.011*\"possibl\" + 0.011*\"imag\" + 0.010*\"develop\" + 0.010*\"id\" + 0.009*\"program\" + 0.009*\"user\" + 0.009*\"categori\" + 0.008*\"valu\"\n",
      "Topic: 44 \n",
      "Words: 0.018*\"net\" + 0.013*\"server\" + 0.013*\"asp\" + 0.012*\"applic\" + 0.012*\"integr\" + 0.011*\"method\" + 0.011*\"sql\" + 0.011*\"run\" + 0.011*\"host\" + 0.010*\"convert\"\n",
      "Topic: 45 \n",
      "Words: 0.026*\"cluster\" + 0.016*\"use\" + 0.014*\"font\" + 0.012*\"code\" + 0.012*\"set\" + 0.011*\"bite\" + 0.010*\"hdf\" + 0.010*\"remov\" + 0.009*\"know\" + 0.009*\"turn\"\n",
      "Topic: 46 \n",
      "Words: 0.017*\"data\" + 0.015*\"use\" + 0.015*\"select\" + 0.013*\"tabl\" + 0.011*\"page\" + 0.011*\"item\" + 0.010*\"hash\" + 0.010*\"code\" + 0.009*\"like\" + 0.009*\"time\"\n",
      "Topic: 47 \n",
      "Words: 0.020*\"state\" + 0.018*\"use\" + 0.014*\"applic\" + 0.011*\"like\" + 0.009*\"web\" + 0.008*\"net\" + 0.008*\"id\" + 0.007*\"framework\" + 0.007*\"jsr\" + 0.007*\"server\"\n",
      "Topic: 48 \n",
      "Words: 0.014*\"use\" + 0.010*\"like\" + 0.010*\"refer\" + 0.009*\"user\" + 0.009*\"problem\" + 0.008*\"resid\" + 0.008*\"modul\" + 0.008*\"tri\" + 0.008*\"python\" + 0.007*\"tabl\"\n",
      "Topic: 49 \n",
      "Words: 0.023*\"type\" + 0.018*\"file\" + 0.015*\"server\" + 0.015*\"code\" + 0.013*\"use\" + 0.012*\"lock\" + 0.012*\"list\" + 0.010*\"resourc\" + 0.009*\"like\" + 0.009*\"want\"\n"
     ]
    }
   ],
   "source": [
    "for idx, topic in lda_model.print_topics(-1):\n",
    "    print('Topic: {} \\nWords: {}'.format(idx, topic))"
   ]
  },
  {
   "cell_type": "markdown",
   "metadata": {},
   "source": [
    "## Exécution d'un LDA utilisant notre TF-IDF"
   ]
  },
  {
   "cell_type": "code",
   "execution_count": 19,
   "metadata": {},
   "outputs": [],
   "source": [
    "lda_model_tfidf = gensim.models.LdaMulticore(corpus_tfidf, num_topics=50, id2word=dictionary, passes=2, workers=4)"
   ]
  },
  {
   "cell_type": "code",
   "execution_count": 39,
   "metadata": {},
   "outputs": [
    {
     "name": "stdout",
     "output_type": "stream",
     "text": [
      "\n",
      "Perplexity Score: -18.577464167855613\n",
      "\n"
     ]
    }
   ],
   "source": [
    "print('\\nPerplexity Score: ' + str(lda_model_tfidf.log_perplexity(corpus_tfidf)) + '\\n')\n",
    "#coherence_model_lda = CoherenceModel(model=lda_model_tfidf, texts=data_bigrams, dictionary=id2word, coherence='c_v')\n",
    "#print('\\nCoherence Score: ', coherence_model_lda.get_coherence())"
   ]
  },
  {
   "cell_type": "code",
   "execution_count": 20,
   "metadata": {},
   "outputs": [
    {
     "name": "stdout",
     "output_type": "stream",
     "text": [
      "Topic: 0 Word: 0.011*\"button\" + 0.008*\"print\" + 0.007*\"asp\" + 0.006*\"html\" + 0.006*\"postback\" + 0.005*\"linq\" + 0.005*\"click\" + 0.005*\"insert\" + 0.005*\"net\" + 0.005*\"hello\"\n",
      "Topic: 1 Word: 0.006*\"argument\" + 0.006*\"compat\" + 0.006*\"browser\" + 0.005*\"test\" + 0.005*\"bash\" + 0.005*\"script\" + 0.005*\"return\" + 0.004*\"close\" + 0.004*\"function\" + 0.004*\"formview\"\n",
      "Topic: 2 Word: 0.009*\"api\" + 0.007*\"method\" + 0.005*\"class\" + 0.005*\"file\" + 0.005*\"lectur\" + 0.004*\"odbc\" + 0.004*\"dbf\" + 0.004*\"function\" + 0.004*\"creat\" + 0.004*\"dataitem\"\n",
      "Topic: 3 Word: 0.010*\"tabl\" + 0.010*\"page\" + 0.009*\"load\" + 0.008*\"text\" + 0.007*\"word\" + 0.007*\"javascript\" + 0.007*\"data\" + 0.006*\"read\" + 0.006*\"datetim\" + 0.006*\"databas\"\n",
      "Topic: 4 Word: 0.007*\"declar\" + 0.005*\"probe\" + 0.005*\"implement\" + 0.004*\"email\" + 0.004*\"runtim\" + 0.004*\"sign\" + 0.004*\"interfac\" + 0.004*\"ilist\" + 0.004*\"mono\" + 0.004*\"viewcontrol\"\n",
      "Topic: 5 Word: 0.008*\"cluster\" + 0.008*\"string\" + 0.006*\"sql\" + 0.006*\"databas\" + 0.006*\"newlin\" + 0.006*\"express\" + 0.005*\"port\" + 0.005*\"heartbeat\" + 0.004*\"line\" + 0.004*\"iseri\"\n",
      "Topic: 6 Word: 0.008*\"page\" + 0.006*\"session\" + 0.005*\"free\" + 0.005*\"gwt\" + 0.005*\"maximum\" + 0.005*\"result\" + 0.005*\"mani\" + 0.005*\"time\" + 0.004*\"master\" + 0.004*\"tabl\"\n",
      "Topic: 7 Word: 0.007*\"servic\" + 0.006*\"dictionari\" + 0.006*\"setter\" + 0.005*\"duplic\" + 0.004*\"code\" + 0.004*\"dlls\" + 0.004*\"textwrap\" + 0.004*\"python\" + 0.004*\"list\" + 0.004*\"past\"\n",
      "Topic: 8 Word: 0.006*\"block\" + 0.006*\"car\" + 0.006*\"user\" + 0.005*\"commit\" + 0.004*\"pcap\" + 0.004*\"asynchron\" + 0.004*\"strength\" + 0.004*\"comput\" + 0.004*\"profil\" + 0.004*\"packet\"\n",
      "Topic: 9 Word: 0.007*\"control\" + 0.007*\"variabl\" + 0.006*\"design\" + 0.005*\"list\" + 0.005*\"collect\" + 0.005*\"ienumer\" + 0.004*\"button\" + 0.004*\"global\" + 0.004*\"trust\" + 0.004*\"helper\"\n",
      "Topic: 10 Word: 0.006*\"webservic\" + 0.005*\"live\" + 0.005*\"widget\" + 0.005*\"oper\" + 0.004*\"view\" + 0.004*\"cursor\" + 0.004*\"status\" + 0.004*\"vba\" + 0.004*\"hold\" + 0.004*\"index\"\n",
      "Topic: 11 Word: 0.006*\"server\" + 0.006*\"jira\" + 0.006*\"authent\" + 0.005*\"bytecod\" + 0.005*\"automat\" + 0.004*\"sql\" + 0.004*\"class\" + 0.004*\"partial\" + 0.004*\"ws\" + 0.004*\"nsnumber\"\n",
      "Topic: 12 Word: 0.008*\"apach\" + 0.006*\"permiss\" + 0.006*\"tomcat\" + 0.005*\"glassfish\" + 0.004*\"sequenti\" + 0.004*\"servic\" + 0.004*\"view\" + 0.004*\"subson\" + 0.004*\"schema\" + 0.004*\"address\"\n",
      "Topic: 13 Word: 0.010*\"disabl\" + 0.007*\"dom\" + 0.006*\"link\" + 0.006*\"onclick\" + 0.006*\"element\" + 0.004*\"href\" + 0.004*\"sifr\" + 0.004*\"page\" + 0.004*\"distribut\" + 0.003*\"product\"\n",
      "Topic: 14 Word: 0.007*\"file\" + 0.006*\"textblock\" + 0.005*\"role\" + 0.005*\"xml\" + 0.004*\"key\" + 0.004*\"link\" + 0.004*\"polygon\" + 0.004*\"text\" + 0.004*\"css\" + 0.004*\"negat\"\n",
      "Topic: 15 Word: 0.008*\"product\" + 0.007*\"map\" + 0.006*\"select\" + 0.005*\"area\" + 0.005*\"configur\" + 0.005*\"explain\" + 0.004*\"page\" + 0.004*\"user\" + 0.004*\"applic\" + 0.004*\"php\"\n",
      "Topic: 16 Word: 0.009*\"asp\" + 0.007*\"tag\" + 0.007*\"javascript\" + 0.007*\"com\" + 0.006*\"mvc\" + 0.006*\"net\" + 0.006*\"number\" + 0.006*\"anim\" + 0.006*\"learn\" + 0.005*\"split\"\n",
      "Topic: 17 Word: 0.008*\"log\" + 0.007*\"program\" + 0.006*\"refer\" + 0.006*\"menu\" + 0.005*\"order\" + 0.005*\"prefer\" + 0.005*\"count\" + 0.005*\"model\" + 0.004*\"output\" + 0.004*\"net\"\n",
      "Topic: 18 Word: 0.007*\"array\" + 0.007*\"string\" + 0.006*\"librari\" + 0.005*\"util\" + 0.005*\"search\" + 0.005*\"socket\" + 0.005*\"method\" + 0.004*\"style\" + 0.004*\"rout\" + 0.004*\"boost\"\n",
      "Topic: 19 Word: 0.007*\"dll\" + 0.006*\"maven\" + 0.006*\"sheet\" + 0.005*\"host\" + 0.005*\"plugin\" + 0.004*\"db\" + 0.004*\"machin\" + 0.004*\"tobject\" + 0.004*\"variant\" + 0.004*\"provid\"\n",
      "Topic: 20 Word: 0.005*\"entiti\" + 0.005*\"ff\" + 0.005*\"method\" + 0.004*\"monitor\" + 0.004*\"applic\" + 0.004*\"ifram\" + 0.004*\"id\" + 0.004*\"desktop\" + 0.004*\"child\" + 0.004*\"event\"\n",
      "Topic: 21 Word: 0.006*\"mana\" + 0.005*\"gwt\" + 0.004*\"datafil\" + 0.004*\"axi\" + 0.004*\"pylab\" + 0.004*\"geometri\" + 0.004*\"border\" + 0.004*\"myuiview\" + 0.004*\"absolut\" + 0.004*\"destroy\"\n",
      "Topic: 22 Word: 0.011*\"column\" + 0.007*\"null\" + 0.006*\"linq\" + 0.006*\"join\" + 0.005*\"student\" + 0.005*\"tabl\" + 0.005*\"jboss\" + 0.004*\"background\" + 0.004*\"node\" + 0.004*\"insert\"\n",
      "Topic: 23 Word: 0.008*\"sqlite\" + 0.005*\"disk\" + 0.005*\"match\" + 0.005*\"convert\" + 0.005*\"stream\" + 0.005*\"deleg\" + 0.005*\"xml\" + 0.004*\"size\" + 0.004*\"standard\" + 0.004*\"dsn\"\n",
      "Topic: 24 Word: 0.008*\"attribut\" + 0.007*\"resiz\" + 0.006*\"default\" + 0.006*\"class\" + 0.005*\"decor\" + 0.004*\"mymasterpag\" + 0.004*\"time\" + 0.004*\"migrat\" + 0.004*\"nhibern\" + 0.004*\"commit\"\n",
      "Topic: 25 Word: 0.009*\"utf\" + 0.005*\"display\" + 0.005*\"datatyp\" + 0.004*\"valid\" + 0.004*\"queri\" + 0.004*\"symbol\" + 0.004*\"separ\" + 0.004*\"row\" + 0.004*\"saxon\" + 0.004*\"thousand\"\n",
      "Topic: 26 Word: 0.006*\"record\" + 0.006*\"png\" + 0.006*\"js\" + 0.005*\"sql\" + 0.005*\"appear\" + 0.005*\"store\" + 0.005*\"pixel\" + 0.005*\"jqueri\" + 0.004*\"file\" + 0.004*\"regex\"\n",
      "Topic: 27 Word: 0.009*\"visual\" + 0.007*\"studio\" + 0.006*\"support\" + 0.006*\"valid\" + 0.006*\"header\" + 0.005*\"charact\" + 0.005*\"cach\" + 0.004*\"ifram\" + 0.004*\"come\" + 0.004*\"logger\"\n",
      "Topic: 28 Word: 0.009*\"iphon\" + 0.006*\"imag\" + 0.005*\"app\" + 0.005*\"batch\" + 0.005*\"stream\" + 0.004*\"middlewar\" + 0.004*\"ajax\" + 0.004*\"lose\" + 0.004*\"file\" + 0.004*\"tabstop\"\n",
      "Topic: 29 Word: 0.011*\"index\" + 0.008*\"eclips\" + 0.007*\"tabl\" + 0.006*\"item\" + 0.006*\"document\" + 0.005*\"perl\" + 0.005*\"file\" + 0.005*\"librari\" + 0.005*\"enabl\" + 0.004*\"list\"\n",
      "Topic: 30 Word: 0.007*\"datagridview\" + 0.006*\"char\" + 0.006*\"text\" + 0.005*\"chang\" + 0.005*\"css\" + 0.005*\"label\" + 0.005*\"int\" + 0.004*\"foo\" + 0.004*\"class\" + 0.004*\"suppos\"\n",
      "Topic: 31 Word: 0.006*\"foobar\" + 0.005*\"render\" + 0.005*\"div\" + 0.005*\"widget\" + 0.005*\"toad\" + 0.004*\"element\" + 0.004*\"type\" + 0.004*\"bind\" + 0.004*\"ifram\" + 0.004*\"wpf\"\n",
      "Topic: 32 Word: 0.008*\"valu\" + 0.006*\"photo\" + 0.005*\"extens\" + 0.004*\"destructor\" + 0.004*\"partit\" + 0.004*\"replac\" + 0.004*\"procedur\" + 0.004*\"final\" + 0.004*\"ifram\" + 0.004*\"verifi\"\n",
      "Topic: 33 Word: 0.008*\"constructor\" + 0.007*\"initi\" + 0.006*\"listview\" + 0.006*\"string\" + 0.005*\"loop\" + 0.005*\"textur\" + 0.005*\"float\" + 0.005*\"custom\" + 0.005*\"sql\" + 0.005*\"webpart\"\n",
      "Topic: 34 Word: 0.006*\"sourc\" + 0.005*\"file\" + 0.005*\"enabl\" + 0.005*\"test\" + 0.005*\"ssl\" + 0.004*\"leak\" + 0.004*\"video\" + 0.004*\"entiti\" + 0.004*\"wb\" + 0.004*\"modem\"\n",
      "Topic: 35 Word: 0.010*\"xml\" + 0.008*\"font\" + 0.006*\"valid\" + 0.006*\"string\" + 0.005*\"convert\" + 0.005*\"process\" + 0.005*\"file\" + 0.004*\"environ\" + 0.004*\"format\" + 0.004*\"resid\"\n",
      "Topic: 36 Word: 0.007*\"python\" + 0.006*\"resourc\" + 0.005*\"file\" + 0.005*\"lock\" + 0.005*\"sifr\" + 0.005*\"certif\" + 0.005*\"repo\" + 0.005*\"tab\" + 0.004*\"local\" + 0.004*\"complet\"\n",
      "Topic: 37 Word: 0.008*\"properti\" + 0.005*\"cell\" + 0.005*\"class\" + 0.005*\"parent\" + 0.005*\"mfc\" + 0.005*\"share\" + 0.004*\"unfuddl\" + 0.004*\"svn\" + 0.004*\"doubl\" + 0.004*\"object\"\n",
      "Topic: 38 Word: 0.008*\"element\" + 0.006*\"send\" + 0.006*\"input\" + 0.005*\"titl\" + 0.005*\"filter\" + 0.005*\"upgrad\" + 0.004*\"alphabet\" + 0.004*\"xmltype\" + 0.004*\"sitemap\" + 0.004*\"gui\"\n",
      "Topic: 39 Word: 0.006*\"pattern\" + 0.005*\"bit\" + 0.005*\"tribbon\" + 0.004*\"immut\" + 0.004*\"favorit\" + 0.004*\"half\" + 0.004*\"row\" + 0.004*\"total\" + 0.004*\"suggest\" + 0.004*\"ihardwarecheck\"\n",
      "Topic: 40 Word: 0.007*\"jvm\" + 0.006*\"test\" + 0.006*\"matrix\" + 0.005*\"implement\" + 0.005*\"servic\" + 0.004*\"replac\" + 0.004*\"secur\" + 0.004*\"jsr\" + 0.004*\"transform\" + 0.004*\"implicit\"\n",
      "Topic: 41 Word: 0.008*\"month\" + 0.005*\"session\" + 0.005*\"compress\" + 0.004*\"databas\" + 0.004*\"date\" + 0.004*\"mx\" + 0.004*\"break\" + 0.004*\"studio\" + 0.004*\"imag\" + 0.004*\"combobox\"\n",
      "Topic: 42 Word: 0.006*\"access\" + 0.005*\"dynam\" + 0.005*\"pull\" + 0.004*\"python\" + 0.004*\"class\" + 0.004*\"softwar\" + 0.004*\"differ\" + 0.004*\"librari\" + 0.004*\"file\" + 0.004*\"issu\"\n",
      "Topic: 43 Word: 0.006*\"jpanel\" + 0.005*\"const\" + 0.004*\"bottomlay\" + 0.004*\"test\" + 0.004*\"mutat\" + 0.004*\"unsav\" + 0.004*\"strut\" + 0.004*\"log\" + 0.004*\"friend\" + 0.004*\"menu\"\n",
      "Topic: 44 Word: 0.008*\"comment\" + 0.007*\"textbox\" + 0.007*\"linqtosql\" + 0.005*\"transact\" + 0.005*\"type\" + 0.005*\"object\" + 0.004*\"ibas\" + 0.004*\"process\" + 0.004*\"servic\" + 0.004*\"emb\"\n",
      "Topic: 45 Word: 0.009*\"pdf\" + 0.007*\"perl\" + 0.005*\"extract\" + 0.005*\"intersect\" + 0.004*\"cocoa\" + 0.004*\"object\" + 0.004*\"imag\" + 0.004*\"resolv\" + 0.004*\"secondari\" + 0.004*\"ittest\"\n",
      "Topic: 46 Word: 0.007*\"color\" + 0.007*\"jqueri\" + 0.006*\"modul\" + 0.005*\"framework\" + 0.004*\"virtual\" + 0.004*\"video\" + 0.004*\"session\" + 0.004*\"class\" + 0.004*\"intern\" + 0.004*\"frame\"\n",
      "Topic: 47 Word: 0.011*\"html\" + 0.007*\"rail\" + 0.007*\"debug\" + 0.006*\"mysql\" + 0.005*\"file\" + 0.005*\"folder\" + 0.005*\"merg\" + 0.005*\"txt\" + 0.004*\"repeat\" + 0.004*\"rand\"\n",
      "Topic: 48 Word: 0.007*\"error\" + 0.006*\"php\" + 0.006*\"answer\" + 0.006*\"report\" + 0.006*\"paramet\" + 0.005*\"object\" + 0.005*\"script\" + 0.005*\"server\" + 0.005*\"file\" + 0.005*\"generat\"\n",
      "Topic: 49 Word: 0.005*\"ajax\" + 0.005*\"wmf\" + 0.004*\"web\" + 0.004*\"adodb\" + 0.004*\"querystr\" + 0.004*\"speci\" + 0.004*\"javascript\" + 0.004*\"directori\" + 0.004*\"familyid\" + 0.004*\"file\"\n"
     ]
    }
   ],
   "source": [
    "for idx, topic in lda_model_tfidf.print_topics(-1):\n",
    "    print('Topic: {} Word: {}'.format(idx, topic))"
   ]
  },
  {
   "cell_type": "markdown",
   "metadata": {},
   "source": [
    "#### Création d'un dictionnaire des topics"
   ]
  },
  {
   "cell_type": "code",
   "execution_count": 37,
   "metadata": {},
   "outputs": [
    {
     "name": "stdout",
     "output_type": "stream",
     "text": [
      "Topic: 0 Words: button  print  asp  html  postback  linq  click  insert  net  hello\n",
      "Topic: 1 Words: argument  compat  browser  test  bash  script  return  close  function  formview\n",
      "Topic: 2 Words: api  method  class  file  lectur  odbc  dbf  function  creat  dataitem\n",
      "Topic: 3 Words: tabl  page  load  text  word  javascript  data  read  datetim  databas\n",
      "Topic: 4 Words: declar  probe  implement  email  runtim  sign  interfac  ilist  mono  viewcontrol\n",
      "Topic: 5 Words: cluster  string  sql  databas  newlin  express  port  heartbeat  line  iseri\n",
      "Topic: 6 Words: page  session  free  gwt  maximum  result  mani  time  master  tabl\n",
      "Topic: 7 Words: servic  dictionari  setter  duplic  code  dlls  textwrap  python  list  past\n",
      "Topic: 8 Words: block  car  user  commit  pcap  asynchron  strength  comput  profil  packet\n",
      "Topic: 9 Words: control  variabl  design  list  collect  ienumer  button  global  trust  helper\n",
      "Topic: 10 Words: webservic  live  widget  oper  view  cursor  status  vba  hold  index\n",
      "Topic: 11 Words: server  jira  authent  bytecod  automat  sql  class  partial  ws  nsnumber\n",
      "Topic: 12 Words: apach  permiss  tomcat  glassfish  sequenti  servic  view  subson  schema  address\n",
      "Topic: 13 Words: disabl  dom  link  onclick  element  href  sifr  page  distribut  product\n",
      "Topic: 14 Words: file  textblock  role  xml  key  link  polygon  text  css  negat\n",
      "Topic: 15 Words: product  map  select  area  configur  explain  page  user  applic  php\n",
      "Topic: 16 Words: asp  tag  javascript  com  mvc  net  number  anim  learn  split\n",
      "Topic: 17 Words: log  program  refer  menu  order  prefer  count  model  output  net\n",
      "Topic: 18 Words: array  string  librari  util  search  socket  method  style  rout  boost\n",
      "Topic: 19 Words: dll  maven  sheet  host  plugin  db  machin  tobject  variant  provid\n",
      "Topic: 20 Words: entiti  ff  method  monitor  applic  ifram  id  desktop  child  event\n",
      "Topic: 21 Words: mana  gwt  datafil  axi  pylab  geometri  border  myuiview  absolut  destroy\n",
      "Topic: 22 Words: column  null  linq  join  student  tabl  jboss  background  node  insert\n",
      "Topic: 23 Words: sqlite  disk  match  convert  stream  deleg  xml  size  standard  dsn\n",
      "Topic: 24 Words: attribut  resiz  default  class  decor  mymasterpag  time  migrat  nhibern  commit\n",
      "Topic: 25 Words: utf  display  datatyp  valid  queri  symbol  separ  row  saxon  thousand\n",
      "Topic: 26 Words: record  png  js  sql  appear  store  pixel  jqueri  file  regex\n",
      "Topic: 27 Words: visual  studio  support  valid  header  charact  cach  ifram  come  logger\n",
      "Topic: 28 Words: iphon  imag  app  batch  stream  middlewar  ajax  lose  file  tabstop\n",
      "Topic: 29 Words: index  eclips  tabl  item  document  perl  file  librari  enabl  list\n",
      "Topic: 30 Words: datagridview  char  text  chang  css  label  int  foo  class  suppos\n",
      "Topic: 31 Words: foobar  render  div  widget  toad  element  type  bind  ifram  wpf\n",
      "Topic: 32 Words: valu  photo  extens  destructor  partit  replac  procedur  final  ifram  verifi\n",
      "Topic: 33 Words: constructor  initi  listview  string  loop  textur  float  custom  sql  webpart\n",
      "Topic: 34 Words: sourc  file  enabl  test  ssl  leak  video  entiti  wb  modem\n",
      "Topic: 35 Words: xml  font  valid  string  convert  process  file  environ  format  resid\n",
      "Topic: 36 Words: python  resourc  file  lock  sifr  certif  repo  tab  local  complet\n",
      "Topic: 37 Words: properti  cell  class  parent  mfc  share  unfuddl  svn  doubl  object\n",
      "Topic: 38 Words: element  send  input  titl  filter  upgrad  alphabet  xmltype  sitemap  gui\n",
      "Topic: 39 Words: pattern  bit  tribbon  immut  favorit  half  row  total  suggest  ihardwarecheck\n",
      "Topic: 40 Words: jvm  test  matrix  implement  servic  replac  secur  jsr  transform  implicit\n",
      "Topic: 41 Words: month  session  compress  databas  date  mx  break  studio  imag  combobox\n",
      "Topic: 42 Words: access  dynam  pull  python  class  softwar  differ  librari  file  issu\n",
      "Topic: 43 Words: jpanel  const  bottomlay  test  mutat  unsav  strut  log  friend  menu\n",
      "Topic: 44 Words: comment  textbox  linqtosql  transact  type  object  ibas  process  servic  emb\n",
      "Topic: 45 Words: pdf  perl  extract  intersect  cocoa  object  imag  resolv  secondari  ittest\n",
      "Topic: 46 Words: color  jqueri  modul  framework  virtual  video  session  class  intern  frame\n",
      "Topic: 47 Words: html  rail  debug  mysql  file  folder  merg  txt  repeat  rand\n",
      "Topic: 48 Words: error  php  answer  report  paramet  object  script  server  file  generat\n",
      "Topic: 49 Words: ajax  wmf  web  adodb  querystr  speci  javascript  directori  familyid  file\n"
     ]
    }
   ],
   "source": [
    "topics_dictionary = []\n",
    "for idx, topic in lda_model_tfidf.print_topics(-1):\n",
    "    #t = set(topic.split('+'))\n",
    "    #to_show = ' '.join(t)        \n",
    "    #to_show = re.sub(\"[0-9]\", \"\", topic)\n",
    "\n",
    "    list_of_char = ['.', '*', '+', '\"', \"0\",'1','2','3','4','5','6','7','8','9']\n",
    "    pattern = '[' + ''.join(list_of_char) + ']'    \n",
    "    to_show = re.sub(pattern, '', topic)\n",
    "    \n",
    "    print('Topic: {} Words: {}'.format(idx, to_show))\n",
    "    topics_dictionary.append(to_show)"
   ]
  },
  {
   "cell_type": "code",
   "execution_count": 38,
   "metadata": {},
   "outputs": [
    {
     "data": {
      "text/plain": [
       "'button  print  asp  html  postback  linq  click  insert  net  hello'"
      ]
     },
     "execution_count": 38,
     "metadata": {},
     "output_type": "execute_result"
    }
   ],
   "source": [
    "topics_dictionary[0]"
   ]
  },
  {
   "cell_type": "code",
   "execution_count": 40,
   "metadata": {},
   "outputs": [
    {
     "ename": "NameError",
     "evalue": "name 'gcv_lda_1' is not defined",
     "output_type": "error",
     "traceback": [
      "\u001b[0;31m---------------------------------------------------------------------------\u001b[0m",
      "\u001b[0;31mNameError\u001b[0m                                 Traceback (most recent call last)",
      "\u001b[0;32m<ipython-input-40-55422974d12b>\u001b[0m in \u001b[0;36m<module>\u001b[0;34m\u001b[0m\n\u001b[1;32m      1\u001b[0m \u001b[0mtopicNames_1\u001b[0m \u001b[0;34m=\u001b[0m \u001b[0;34m[\u001b[0m\u001b[0;34m]\u001b[0m\u001b[0;34m\u001b[0m\u001b[0;34m\u001b[0m\u001b[0m\n\u001b[0;32m----> 2\u001b[0;31m \u001b[0;32mfor\u001b[0m \u001b[0midx\u001b[0m \u001b[0;32min\u001b[0m \u001b[0mrange\u001b[0m\u001b[0;34m(\u001b[0m\u001b[0;36m0\u001b[0m\u001b[0;34m,\u001b[0m \u001b[0mgcv_lda_1\u001b[0m\u001b[0;34m.\u001b[0m\u001b[0mbest_params_\u001b[0m\u001b[0;34m[\u001b[0m\u001b[0;34m\"n_components\"\u001b[0m\u001b[0;34m]\u001b[0m\u001b[0;34m)\u001b[0m\u001b[0;34m:\u001b[0m\u001b[0;34m\u001b[0m\u001b[0;34m\u001b[0m\u001b[0m\n\u001b[0m\u001b[1;32m      3\u001b[0m     \u001b[0mtopicNames_1\u001b[0m\u001b[0;34m.\u001b[0m\u001b[0mappend\u001b[0m\u001b[0;34m(\u001b[0m\u001b[0;34m\"Topic_{}\"\u001b[0m\u001b[0;34m.\u001b[0m\u001b[0mformat\u001b[0m\u001b[0;34m(\u001b[0m\u001b[0midx\u001b[0m\u001b[0;34m)\u001b[0m\u001b[0;34m)\u001b[0m\u001b[0;34m\u001b[0m\u001b[0;34m\u001b[0m\u001b[0m\n\u001b[1;32m      4\u001b[0m \u001b[0;34m\u001b[0m\u001b[0m\n\u001b[1;32m      5\u001b[0m df_topics_pred_1 = pd.DataFrame(data=topics_pred_1,\n",
      "\u001b[0;31mNameError\u001b[0m: name 'gcv_lda_1' is not defined"
     ]
    }
   ],
   "source": [
    "topicNames_1 = []\n",
    "for idx in range(0, gcv_lda_1.best_params_[\"n_components\"]):\n",
    "    topicNames_1.append(\"Topic_{}\".format(idx))\n",
    "\n",
    "df_topics_pred_1 = pd.DataFrame(data=topics_pred_1,\n",
    "                                index=df_quest_cleaned.index,\n",
    "                               columns=topicNames_1)"
   ]
  },
  {
   "cell_type": "markdown",
   "metadata": {},
   "source": [
    "## Prédiction de topic pour un post donné"
   ]
  },
  {
   "cell_type": "code",
   "execution_count": 22,
   "metadata": {},
   "outputs": [],
   "source": [
    "def find_topics(post_id, df, df_topics_pred, topic_dict, freq_min=0.1):\n",
    "    print(\"Post n°{}:\".format(post_id))\n",
    "    print(df.iloc[post_id].body)\n",
    "    print(\"\\nTags : \", df.iloc[post_id].tags)\n",
    "    print(\"\")\n",
    "    \n",
    "    fig = plt.figure(figsize=(8, 6))\n",
    "    df_topics_pred.iloc[post_id].plot()\n",
    "    #for topic_id_curr in np.nonzero(\n",
    "    #    df_topics_pred.iloc[quest_iloc] > freq_min)[0]:\n",
    "    list_topic_labels = df_topics_pred.iloc[post_id][df_topics_pred.iloc[post_id] > freq_min].sort_values(ascending=False).index\n",
    "    print(list_topic_labels)\n",
    "    list_topic_id =[]\n",
    "    for label_curr in list_topic_labels:\n",
    "        list_topic_id.append(int(re.findall(r\"\\d+\", label_curr)[0]))\n",
    "    print(list_topic_id)\n",
    "    for topic_id_curr in list_topic_id:\n",
    "        print(\"Topic {} : {}\".format(topic_id_curr, \n",
    "                                     topic_dict[topic_id_curr]))\n",
    "    return list(list_topic_id)\n",
    "    \"\"\""
   ]
  },
  {
   "cell_type": "code",
   "execution_count": 23,
   "metadata": {},
   "outputs": [
    {
     "name": "stdout",
     "output_type": "stream",
     "text": [
      "Post n°0:\n",
      "programmat edit rout tabl write daemon run emb platform need chang default rout devic accord interfac connect give time programat know use system rout del default rout add default gateway blah etc direct way updat solv particular problem discov patch pppd allow replacedefaultrout option patch also includ code programmat modifi rout tabl includ gentoo bug report\n",
      "\n",
      "Tags :  c,linux,networking\n",
      "\n"
     ]
    }
   ],
   "source": [
    "find_topics(0,data,topics_dictionary,data,0.1)"
   ]
  },
  {
   "cell_type": "code",
   "execution_count": null,
   "metadata": {},
   "outputs": [],
   "source": []
  }
 ],
 "metadata": {
  "kernelspec": {
   "display_name": "Python 3",
   "language": "python",
   "name": "python3"
  },
  "language_info": {
   "codemirror_mode": {
    "name": "ipython",
    "version": 3
   },
   "file_extension": ".py",
   "mimetype": "text/x-python",
   "name": "python",
   "nbconvert_exporter": "python",
   "pygments_lexer": "ipython3",
   "version": "3.8.5"
  }
 },
 "nbformat": 4,
 "nbformat_minor": 4
}
