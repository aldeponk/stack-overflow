{
 "cells": [
  {
   "cell_type": "code",
   "execution_count": 1,
   "metadata": {},
   "outputs": [
    {
     "data": {
      "text/html": [
       "<div>\n",
       "<style scoped>\n",
       "    .dataframe tbody tr th:only-of-type {\n",
       "        vertical-align: middle;\n",
       "    }\n",
       "\n",
       "    .dataframe tbody tr th {\n",
       "        vertical-align: top;\n",
       "    }\n",
       "\n",
       "    .dataframe thead th {\n",
       "        text-align: right;\n",
       "    }\n",
       "</style>\n",
       "<table border=\"1\" class=\"dataframe\">\n",
       "  <thead>\n",
       "    <tr style=\"text-align: right;\">\n",
       "      <th></th>\n",
       "      <th>tags</th>\n",
       "    </tr>\n",
       "  </thead>\n",
       "  <tbody>\n",
       "    <tr>\n",
       "      <th>0</th>\n",
       "      <td>[{'id': 'tag1', 'topic_0': 10, 'topic_1': 15, ...</td>\n",
       "    </tr>\n",
       "  </tbody>\n",
       "</table>\n",
       "</div>"
      ],
      "text/plain": [
       "                                                tags\n",
       "0  [{'id': 'tag1', 'topic_0': 10, 'topic_1': 15, ..."
      ]
     },
     "execution_count": 1,
     "metadata": {},
     "output_type": "execute_result"
    }
   ],
   "source": [
    "import pandas as pd\n",
    "\n",
    "tags_lda = {\n",
    "\t\"tags\": [{\n",
    "\t\t\t\"id\": \"tag1\",\n",
    "\t\t\t\"topic_0\": 10,\n",
    "\t\t\t\"topic_1\": 15,\n",
    "\t\t\t\"topic_2\": 18\n",
    "\t\t},\n",
    "\t\t{\n",
    "\t\t\t\"id\": \"tag2\",\n",
    "\t\t\t\"topic_0\": 4,\n",
    "\t\t\t\"topic_1\": 5,\n",
    "\t\t\t\"topic_2\": 8\n",
    "\t\t},\n",
    "\t\t{\n",
    "\t\t\t\"id\": \"tag3\",\n",
    "\t\t\t\"topic_0\": 20,\n",
    "\t\t\t\"topic_1\": 25,\n",
    "\t\t\t\"topic_2\": 28\n",
    "\t\t}\n",
    "\t]\n",
    "}\n",
    "\n",
    "pd.DataFrame([tags_lda])\n"
   ]
  },
  {
   "cell_type": "code",
   "execution_count": 15,
   "metadata": {},
   "outputs": [
    {
     "name": "stdout",
     "output_type": "stream",
     "text": [
      "[[0, 0, 0, 0], [0, 0, 0, 0]]\n",
      "<class 'list'>\n",
      "0\n",
      "<class 'int'>\n"
     ]
    },
    {
     "data": {
      "text/plain": [
       "[[0, 0, 5, 0], [0, 0, 0, 2]]"
      ]
     },
     "execution_count": 15,
     "metadata": {},
     "output_type": "execute_result"
    }
   ],
   "source": [
    "tags_topic_values = [[0,0,0,0],[0,0,0,0]]\n",
    "print(tags_topic_values)\n",
    "print(type(tags_topic_values ))\n",
    "print(tags_topic_values[0][2])\n",
    "print(type(tags_topic_values[0][2] ))\n",
    "tags_topic_values[0][2] = tags_topic_values[0][2] + 5\n",
    "tags_topic_values[1][3] = tags_topic_values[1][3] + 2\n",
    "tags_name = ['tag1','tag2']\n",
    "tags_topic_values"
   ]
  },
  {
   "cell_type": "code",
   "execution_count": 36,
   "metadata": {},
   "outputs": [
    {
     "name": "stdout",
     "output_type": "stream",
     "text": [
      "[0, 0, 0, 0]\n",
      "[[0, 0, 0, 0], [0, 0, 0, 0]]\n",
      "<class 'list'>\n",
      "0\n",
      "<class 'int'>\n"
     ]
    },
    {
     "data": {
      "text/plain": [
       "[[0, 0, 5, 2], [0, 0, 5, 2]]"
      ]
     },
     "execution_count": 36,
     "metadata": {},
     "output_type": "execute_result"
    }
   ],
   "source": [
    "unit_matrix = []\n",
    "for i in range(4):\n",
    "    unit_matrix.append(0)\n",
    "print(unit_matrix)\n",
    "#tags_topic_values = []\n",
    "#unit_matrix = [0,0,0,0]\n",
    "tags_topic_values = [[] for x in range(2)]\n",
    "unit_matrix = [0] * 4\n",
    "\n",
    "for i in range(2):\n",
    "    #tags_topic_values[i]=[0,0,0,0]\n",
    "    tags_topic_values[i]=unit_matrix\n",
    "#for i in range(2):\n",
    "#    tags_topic_values.append(unit_matrix)\n",
    "#tags_topic_values = [[0,0,0,0],[0,0,0,0]]\n",
    "\n",
    "\n",
    "print(tags_topic_values)\n",
    "print(type(tags_topic_values ))\n",
    "print(tags_topic_values[0][2])\n",
    "print(type(tags_topic_values[0][2] ))\n",
    "\n",
    "tags_topic_values[0][2] = tags_topic_values[0][2] + 5\n",
    "tags_topic_values[1][3] = tags_topic_values[1][3] + 2\n",
    "tags_name = ['tag1','tag2']\n",
    "tags_topic_values"
   ]
  },
  {
   "cell_type": "code",
   "execution_count": 4,
   "metadata": {},
   "outputs": [],
   "source": [
    "df = pd.DataFrame(tags_topic_values, index=tags_name)"
   ]
  },
  {
   "cell_type": "code",
   "execution_count": 41,
   "metadata": {},
   "outputs": [
    {
     "data": {
      "text/plain": [
       "tag1    5\n",
       "tag2    0\n",
       "Name: topic_3, dtype: int64"
      ]
     },
     "execution_count": 41,
     "metadata": {},
     "output_type": "execute_result"
    }
   ],
   "source": [
    "df['topic_3']"
   ]
  },
  {
   "cell_type": "code",
   "execution_count": 6,
   "metadata": {},
   "outputs": [
    {
     "data": {
      "text/html": [
       "<div>\n",
       "<style scoped>\n",
       "    .dataframe tbody tr th:only-of-type {\n",
       "        vertical-align: middle;\n",
       "    }\n",
       "\n",
       "    .dataframe tbody tr th {\n",
       "        vertical-align: top;\n",
       "    }\n",
       "\n",
       "    .dataframe thead th {\n",
       "        text-align: right;\n",
       "    }\n",
       "</style>\n",
       "<table border=\"1\" class=\"dataframe\">\n",
       "  <thead>\n",
       "    <tr style=\"text-align: right;\">\n",
       "      <th></th>\n",
       "      <th>topic_0</th>\n",
       "      <th>topic_2</th>\n",
       "      <th>topic_3</th>\n",
       "      <th>topic_4</th>\n",
       "    </tr>\n",
       "  </thead>\n",
       "  <tbody>\n",
       "    <tr>\n",
       "      <th>tag1</th>\n",
       "      <td>0</td>\n",
       "      <td>0</td>\n",
       "      <td>5</td>\n",
       "      <td>0</td>\n",
       "    </tr>\n",
       "    <tr>\n",
       "      <th>tag2</th>\n",
       "      <td>0</td>\n",
       "      <td>0</td>\n",
       "      <td>0</td>\n",
       "      <td>2</td>\n",
       "    </tr>\n",
       "  </tbody>\n",
       "</table>\n",
       "</div>"
      ],
      "text/plain": [
       "      topic_0  topic_2  topic_3  topic_4\n",
       "tag1        0        0        5        0\n",
       "tag2        0        0        0        2"
      ]
     },
     "execution_count": 6,
     "metadata": {},
     "output_type": "execute_result"
    }
   ],
   "source": [
    "df.columns = ['topic_0', 'topic_2','topic_3','topic_4']\n",
    "df"
   ]
  },
  {
   "cell_type": "code",
   "execution_count": null,
   "metadata": {},
   "outputs": [],
   "source": []
  }
 ],
 "metadata": {
  "kernelspec": {
   "display_name": "Python 3",
   "language": "python",
   "name": "python3"
  },
  "language_info": {
   "codemirror_mode": {
    "name": "ipython",
    "version": 3
   },
   "file_extension": ".py",
   "mimetype": "text/x-python",
   "name": "python",
   "nbconvert_exporter": "python",
   "pygments_lexer": "ipython3",
   "version": "3.8.5"
  }
 },
 "nbformat": 4,
 "nbformat_minor": 4
}
